{
 "cells": [
  {
   "cell_type": "markdown",
   "metadata": {},
   "source": [
    "# Welcome to lab k-means(karle)!\n",
    "\n",
    "We will be exploring k-means clustering and loops in this lab. \n",
    "I promise this won't be scary :)\n",
    "\n",
    "Really, loops are an incredibly useful tool that will help you code for other purposes in life. We're going to start by introducing you to while and for loops and then we will apply them to clustering."
   ]
  },
  {
   "cell_type": "markdown",
   "metadata": {},
   "source": [
    "## Part 1: While loops\n",
    "A while loop allows us to execute the same piece of code until a condition is met.\n",
    "\n",
    "For example, the following code will execute 3 times."
   ]
  },
  {
   "cell_type": "code",
   "execution_count": null,
   "metadata": {},
   "outputs": [],
   "source": [
    "count = 0\n",
    "while (count < 3):\n",
    "    print(\"Rah\")\n",
    "    count = count + 1\n",
    "print(count)"
   ]
  },
  {
   "cell_type": "markdown",
   "metadata": {},
   "source": [
    "Let's break down the code:\n",
    "`while (count < 3):`\n",
    "\n",
    "- `while` means we are starting a while loop. \n",
    "- `count < 3` is the looping condition. While this statement evaluates to true, you keep doing what is in the loop body.\n",
    "- Everything that follows the colon is the loop body. This is what is executed. You can tell what is in the loop body because it is indented. The first line that is not indented starts the code that is OUTSIDE the loop body.\n",
    "\n",
    "These are the parts of a loop. Now, how the computer executes the loop is by doing the following:\n",
    "- Evaluate the loop condition (i.e., check, is count less than 3), if it's true, execute the loop body, if it's false, execute the first statement outside the loop body (the first non-indented statement, i.e., 'print(count)')\n",
    "- Execute each line of the loop body one at a time\n",
    "- Once you reach the end of the loop body, jump back up to the top of the while loop and repeat the first step.\n",
    "\n",
    "Probably the most important part of this loop is the line `count = count + 1`. What do you think would happen if we removed this line? Try it!"
   ]
  },
  {
   "cell_type": "code",
   "execution_count": null,
   "metadata": {},
   "outputs": [],
   "source": [
    "count = 0\n",
    "while (count < 3):\n",
    "    print(\"Rah\")\n",
    "    \n",
    "# press the stop button next to the run button at the top of your screen when you've seen enough"
   ]
  },
  {
   "cell_type": "markdown",
   "metadata": {},
   "source": [
    "Because we don't increment count, our looping condition is always true! This is called an `infinite loop`, and the computer will keep executing the loop body until you manually stop it or something crashes."
   ]
  },
  {
   "cell_type": "markdown",
   "metadata": {},
   "source": [
    "### Puzzle 1.1\n",
    "Predict what the following code will print (actually write this out before running it; I promise it will help you).\n",
    "\n",
    "The following code outputs the letters: _____"
   ]
  },
  {
   "cell_type": "code",
   "execution_count": null,
   "metadata": {},
   "outputs": [],
   "source": [
    "n = 0\n",
    "while n < 10:\n",
    "    if n == 0 or n == 3 or n == 5:\n",
    "        print(\"I\")\n",
    "    elif n == 1 or n == 2:\n",
    "        print(\"L\")\n",
    "    elif n == 4:\n",
    "        print(\"N\")\n",
    "    else:\n",
    "        print(\"!\")\n",
    "    n = n + 1"
   ]
  },
  {
   "cell_type": "markdown",
   "metadata": {},
   "source": [
    "### Puzzle 1.2\n",
    "\n",
    "Fill in the looping condition so that the loop produces the following output:\n",
    "Bow wow wow"
   ]
  },
  {
   "cell_type": "code",
   "execution_count": null,
   "metadata": {
    "deletable": false,
    "nbgrader": {
     "cell_type": "code",
     "checksum": "d898ac8f9b090709d38c1e432d265b86",
     "grade": false,
     "grade_id": "cell-1822b37dc902d201",
     "locked": false,
     "schema_version": 3,
     "solution": true,
     "task": false
    }
   },
   "outputs": [],
   "source": [
    "n = 0\n",
    "output = \"\"\n",
    "while [insert condition here]:\n",
    "    if n == 0:\n",
    "        output += \"Bow \"\n",
    "    else:\n",
    "        output += \"wow \"\n",
    "    n = n + 1\n",
    "print(output)\n"
   ]
  },
  {
   "cell_type": "code",
   "execution_count": null,
   "metadata": {
    "deletable": false,
    "editable": false,
    "nbgrader": {
     "cell_type": "code",
     "checksum": "a11571120b8eb0fb69e0e169fc51ac0d",
     "grade": true,
     "grade_id": "cell-a552c02f8b5301d1",
     "locked": true,
     "points": 1,
     "schema_version": 3,
     "solution": false,
     "task": false
    }
   },
   "outputs": [],
   "source": [
    "## == TEST CASES for Puzzle 2 ==\n",
    "# - This read-only cell contains test cases for your previous cell.\n",
    "# - If this cell runs without any error our output, you PASSED all test cases!\n",
    "# - If this cell results in any errors, check you previous cell, make changes, and RE-RUN your code and then this cell.\n",
    "assert((n-3)/3 ==0 and n%3 ==0 and output == \"Bow wow wow \"), \"Make sure you are using the correct condition\"\n",
    "print(\"Congrats!🎉😊All tests passed!\")\n"
   ]
  },
  {
   "cell_type": "markdown",
   "metadata": {},
   "source": [
    "### Puzzle 1.3\n",
    "We want the following code to print \"go go go go go.\" Change the loop so it does so *without* changing the looping condition."
   ]
  },
  {
   "cell_type": "code",
   "execution_count": null,
   "metadata": {
    "deletable": false,
    "nbgrader": {
     "cell_type": "code",
     "checksum": "0f38de3453e29a0689843da6b83877c6",
     "grade": false,
     "grade_id": "cell-c745488d38f43da8",
     "locked": false,
     "schema_version": 3,
     "solution": true,
     "task": false
    }
   },
   "outputs": [],
   "source": [
    "n = 0\n",
    "output = \"\"\n",
    "while n < 10:\n",
    "    output += \"go \"\n",
    "    n +=1\n",
    "print(output)\n"
   ]
  },
  {
   "cell_type": "code",
   "execution_count": null,
   "metadata": {
    "deletable": false,
    "editable": false,
    "nbgrader": {
     "cell_type": "code",
     "checksum": "ed71bd7673d40ae1c646d55a513ca3a9",
     "grade": true,
     "grade_id": "cell-69163a65ac33bbec",
     "locked": true,
     "points": 1,
     "schema_version": 3,
     "solution": false,
     "task": false
    }
   },
   "outputs": [],
   "source": [
    "## == TEST CASES for Puzzle 3 ==\n",
    "# - This read-only cell contains test cases for your previous cell.\n",
    "# - If this cell runs without any error our output, you PASSED all test cases!\n",
    "# - If this cell results in any errors, check you previous cell, make changes, and RE-RUN your code and then this cell.\n",
    "assert(output == \"go go go go go \"), \"Make sure you are modifying the code correctly\"\n",
    "print(\"Congrats!🎉😊All tests passed!\")\n"
   ]
  },
  {
   "cell_type": "markdown",
   "metadata": {},
   "source": [
    "## For loops\n",
    "There are two main kinds of loops in computer science. You just learned the while loop and the other kind of loop is the for loop, which we've seen before. Let's review it! Take a look at this simple for loop."
   ]
  },
  {
   "cell_type": "code",
   "execution_count": null,
   "metadata": {},
   "outputs": [],
   "source": [
    "for i in range(0,3):\n",
    "    print(\"Rah \" + str(i))\n",
    "print(\"!\")"
   ]
  },
  {
   "cell_type": "markdown",
   "metadata": {},
   "source": [
    "The first line of the for loop tells us how many times the loop is going to execute. Let's break it down one word at a time.\n",
    "\n",
    "```for```- the keyword indicating that this is a for loop. The end of the line should have a colon and every line of the loop body is indented.\n",
    "\n",
    "```i```- this is a variable name that will tell us what iteration of the loop we are in. This variable can take any name, by convention we tend to use i for index, but you could replace i with unicorns and the loop will still work.\n",
    "\n",
    "```range(0,3)```- range is a function that returns an array of integers between the two given integers. If you're a math person, range covers this interval: \\[0, 3), meaning that 0 is included in the range but 3 is not. So this loop runs for i=0, i=1, and i=2, or three iterations total. The loop handles moving i to the next integer for you at the end of the loop body."
   ]
  },
  {
   "cell_type": "markdown",
   "metadata": {},
   "source": [
    "Great! Now that we remember what a for loop is, see if you can answer the following questions about the above for loop example.\n",
    "\n",
    "1. Why is the exclamation mark only printed once?\n",
    "2. Does i ever take on the value 3? Why or why not?\n",
    "3. Can you have an infinite for loop?"
   ]
  },
  {
   "cell_type": "markdown",
   "metadata": {},
   "source": [
    "### Puzzle 1.4\n",
    "\n",
    "Complete the following loop so that it prints out \"even odd even odd \""
   ]
  },
  {
   "cell_type": "code",
   "execution_count": null,
   "metadata": {
    "deletable": false,
    "nbgrader": {
     "cell_type": "code",
     "checksum": "f5f1749aacc408dccacd155985e2614c",
     "grade": false,
     "grade_id": "cell-2a161664d9e0a500",
     "locked": false,
     "schema_version": 3,
     "solution": true,
     "task": false
    }
   },
   "outputs": [],
   "source": [
    "output = \"\"\n",
    "for i in range(0,4):\n",
    "    if i%2 == 0:# determine if i is even\n",
    "        # your code here\n",
    "    else:\n",
    "        # your code here\n",
    "print(output)\n",
    "\n"
   ]
  },
  {
   "cell_type": "code",
   "execution_count": null,
   "metadata": {
    "deletable": false,
    "editable": false,
    "nbgrader": {
     "cell_type": "code",
     "checksum": "0032c01d9bd4e6aaf26217a455f57843",
     "grade": true,
     "grade_id": "cell-f480911f1841c980",
     "locked": true,
     "points": 1,
     "schema_version": 3,
     "solution": false,
     "task": false
    }
   },
   "outputs": [],
   "source": [
    "## == TEST CASES for Puzzle 3 ==\n",
    "# - This read-only cell contains test cases for your previous cell.\n",
    "# - If this cell runs without any error our output, you PASSED all test cases!\n",
    "# - If this cell results in any errors, check you previous cell, make changes, and RE-RUN your code and then this cell.\n",
    "\n",
    "assert(output == \"even odd even odd \"), \"Make sure you are modifying the code correctly\"\n",
    "print(\"Congrats!🎉😊All tests passed!\")"
   ]
  },
  {
   "cell_type": "markdown",
   "metadata": {},
   "source": [
    "### Puzzle 1.5\n",
    "Complete the first line of this for loop so that it prints \"odd even odd even \""
   ]
  },
  {
   "cell_type": "code",
   "execution_count": null,
   "metadata": {
    "deletable": false,
    "nbgrader": {
     "cell_type": "code",
     "checksum": "378ee2fbdbcebeff21fa14edd1bffc0f",
     "grade": false,
     "grade_id": "cell-c6188661708fa1e4",
     "locked": false,
     "schema_version": 3,
     "solution": true,
     "task": false
    }
   },
   "outputs": [],
   "source": [
    "output = \"\"\n",
    "for i in [your code here]:\n",
    "    if i%2 == 0:\n",
    "        output += \"even \"\n",
    "    else:\n",
    "        output += \"odd \"\n",
    "print(output)\n",
    "        \n"
   ]
  },
  {
   "cell_type": "code",
   "execution_count": null,
   "metadata": {
    "deletable": false,
    "editable": false,
    "nbgrader": {
     "cell_type": "code",
     "checksum": "a43f96be028009ca6950d93045076821",
     "grade": true,
     "grade_id": "cell-99d6884caefb5d2b",
     "locked": true,
     "points": 1,
     "schema_version": 3,
     "solution": false,
     "task": false
    }
   },
   "outputs": [],
   "source": [
    "## == TEST CASES for Puzzle 3 ==\n",
    "# - This read-only cell contains test cases for your previous cell.\n",
    "# - If this cell runs without any error our output, you PASSED all test cases!\n",
    "# - If this cell results in any errors, check you previous cell, make changes, and RE-RUN your code and then this cell.\n",
    "code = _i\n",
    "code.replace(\" \",\"\")\n",
    "\n",
    "assert(output == \"odd even odd even \"), \"Make sure you are modifying the code correctly\"\n",
    "print(\"Congrats!🎉😊All tests passed!\")"
   ]
  },
  {
   "cell_type": "markdown",
   "metadata": {},
   "source": [
    "### Puzzle 1.6\n",
    "Take a look at the following for loop. Write a while loop that creates the same output."
   ]
  },
  {
   "cell_type": "code",
   "execution_count": null,
   "metadata": {},
   "outputs": [],
   "source": [
    "output = \"\"\n",
    "for index in range(0,3):\n",
    "    output += str(index) + \" hey\\n\"\n",
    "print(output)"
   ]
  },
  {
   "cell_type": "code",
   "execution_count": null,
   "metadata": {
    "deletable": false,
    "nbgrader": {
     "cell_type": "code",
     "checksum": "955905474a70af2d8eff9a7fe409cb1f",
     "grade": false,
     "grade_id": "cell-34e3fe4eec38b308",
     "locked": false,
     "schema_version": 3,
     "solution": true,
     "task": false
    }
   },
   "outputs": [],
   "source": [
    "# create a while loop here!\n",
    "n = ...\n",
    "output = \"\"\n",
    "while ...:\n",
    "    ...\n",
    "\n",
    "print(output)\n"
   ]
  },
  {
   "cell_type": "code",
   "execution_count": null,
   "metadata": {
    "deletable": false,
    "editable": false,
    "nbgrader": {
     "cell_type": "code",
     "checksum": "a1e0e7232386d75c61bb95d76314deca",
     "grade": true,
     "grade_id": "cell-48f98ba97885d108",
     "locked": true,
     "points": 1,
     "schema_version": 3,
     "solution": false,
     "task": false
    }
   },
   "outputs": [],
   "source": [
    "## == TEST CASES for Puzzle 3 ==\n",
    "# - This read-only cell contains test cases for your previous cell.\n",
    "# - If this cell runs without any error our output, you PASSED all test cases!\n",
    "# - If this cell results in any errors, check you previous cell, make changes, and RE-RUN your code and then this cell.\n",
    "assert(output == \"0 hey\\n1 hey\\n2 hey\\n\"), \"Make sure you are modifying the code correctly\"\n",
    "print(\"Congrats!🎉😊All tests passed!\")"
   ]
  },
  {
   "cell_type": "markdown",
   "metadata": {},
   "source": [
    "### Puzzle 1.7\n",
    "Take a look at the following while loop. Write a for loop that creates the same output."
   ]
  },
  {
   "cell_type": "code",
   "execution_count": null,
   "metadata": {},
   "outputs": [],
   "source": [
    "i = 0\n",
    "output = \"\"\n",
    "while (i < 5):\n",
    "    output += \"what\\n\"\n",
    "    i = i + 1\n",
    "output += \"?\"\n",
    "print(output)"
   ]
  },
  {
   "cell_type": "code",
   "execution_count": null,
   "metadata": {
    "deletable": false,
    "nbgrader": {
     "cell_type": "code",
     "checksum": "4236f53fcd6e4d5253cda67f7dc394e2",
     "grade": false,
     "grade_id": "cell-e64848f5a791eab6",
     "locked": false,
     "schema_version": 3,
     "solution": true,
     "task": false
    }
   },
   "outputs": [],
   "source": [
    "#create a for loop here\n",
    "output = \"\"\n",
    "for n in range():\n",
    "    ....\n",
    "print(output)\n",
    "\n"
   ]
  },
  {
   "cell_type": "code",
   "execution_count": null,
   "metadata": {
    "deletable": false,
    "editable": false,
    "nbgrader": {
     "cell_type": "code",
     "checksum": "683120580e7d49c8d8227321c2e21350",
     "grade": true,
     "grade_id": "cell-bc15aca6a1496c29",
     "locked": true,
     "points": 1,
     "schema_version": 3,
     "solution": false,
     "task": false
    }
   },
   "outputs": [],
   "source": [
    "## == TEST CASES for Puzzle 3 ==\n",
    "# - This read-only cell contains test cases for your previous cell.\n",
    "# - If this cell runs without any error our output, you PASSED all test cases!\n",
    "# - If this cell results in any errors, check you previous cell, make changes, and RE-RUN your code and then this cell.\n",
    "\n",
    "assert(output == \"what\\nwhat\\nwhat\\nwhat\\nwhat\\n?\" and n==4), \"Make sure you are modifying the code correctly\"\n",
    "print(\"Congrats!🎉😊All tests passed!\")\n"
   ]
  },
  {
   "cell_type": "markdown",
   "metadata": {},
   "source": [
    "## Part 2: Iris Flowers\n",
    "\n",
    "One of the **most classic** datasets in statistics is the \"Iris Flower dataset\".  This dataset is a collection of five variables:\n",
    "\n",
    "- Sepal Length (cm)\n",
    "- Sepal Width (cm)\n",
    "- Petal Length (cm)\n",
    "- Petal Width (cm)\n",
    "- Species Classification\n",
    "\n",
    "\n",
    "In the dataset, there are three species present:\n",
    "\n",
    "![iris.jpg](iris.jpg)\n",
    "\n",
    "This data is so classic that it is included as part of the `sklearn` Python library we have been using to do various forms of machine learning so far!  The following cell will load the dataset into a DataFrame `df`:"
   ]
  },
  {
   "cell_type": "code",
   "execution_count": null,
   "metadata": {},
   "outputs": [],
   "source": [
    "from sklearn import datasets\n",
    "import pandas as pd\n",
    "\n",
    "iris = datasets.load_iris()\n",
    "df = pd.DataFrame(iris['data'], columns=iris['feature_names'])\n",
    "df['species'] = iris['target']\n",
    "df['species name'] = iris['target_names'][ iris['target'] ]\n",
    "df.sample(5)"
   ]
  },
  {
   "cell_type": "markdown",
   "metadata": {},
   "source": [
    "### Puzzle 2.1: Fit the Model\n",
    "\n",
    "Build a k-means clustering model with **three** clusters and train the model using all four input measurements:\n",
    "\n",
    "- Sepal Length (cm)\n",
    "- Sepal Width (cm)\n",
    "- Petal Length (cm)\n",
    "- Petal Width (cm)"
   ]
  },
  {
   "cell_type": "code",
   "execution_count": null,
   "metadata": {
    "deletable": false,
    "nbgrader": {
     "cell_type": "code",
     "checksum": "67ebc7f7b7a175337deda9cc59a75dd0",
     "grade": false,
     "grade_id": "cell-3d0e0ea42d5c1f6d",
     "locked": false,
     "schema_version": 3,
     "solution": true,
     "task": false
    }
   },
   "outputs": [],
   "source": [
    "\n",
    "\n",
    "\n"
   ]
  },
  {
   "cell_type": "markdown",
   "metadata": {},
   "source": [
    "### Puzzle 2.2: Predict the Outcome\n",
    "\n",
    "Use the k-means clustering model to predict the species, adding the predicted species as a new column called `predicted species`."
   ]
  },
  {
   "cell_type": "code",
   "execution_count": null,
   "metadata": {
    "deletable": false,
    "nbgrader": {
     "cell_type": "code",
     "checksum": "8aee742760bb9dd1a777b22d71a0e146",
     "grade": true,
     "grade_id": "cell-b7579689f52d26c9",
     "locked": false,
     "points": 1,
     "schema_version": 3,
     "solution": true,
     "task": false
    }
   },
   "outputs": [],
   "source": [
    "\n",
    "\n",
    "\n",
    "\n",
    "df.sample(3)"
   ]
  },
  {
   "cell_type": "markdown",
   "metadata": {},
   "source": [
    "### Puzzle 2.3: Find the Accurarcy\n",
    "\n",
    "Finally, find the percentage of observations where the predicted species DOES match the actual species and store this percentage in the variable `accuracy`:"
   ]
  },
  {
   "cell_type": "code",
   "execution_count": null,
   "metadata": {
    "deletable": false,
    "nbgrader": {
     "cell_type": "code",
     "checksum": "b7d3d2884ba127855e1617031803f58a",
     "grade": false,
     "grade_id": "cell-5fb2e528a53e01e2",
     "locked": false,
     "schema_version": 3,
     "solution": true,
     "task": false
    }
   },
   "outputs": [],
   "source": [
    "\n",
    "\n",
    "accuracy = ...\n",
    "accuracy\n",
    "\n"
   ]
  },
  {
   "cell_type": "code",
   "execution_count": null,
   "metadata": {
    "deletable": false,
    "editable": false,
    "nbgrader": {
     "cell_type": "code",
     "checksum": "98e033e1ccbc839790329b910022e9aa",
     "grade": true,
     "grade_id": "cell-b05cd80356703d30",
     "locked": true,
     "points": 1,
     "schema_version": 3,
     "solution": false,
     "task": false
    }
   },
   "outputs": [],
   "source": [
    "## == TEST CASES for Puzzle 3 ==\n",
    "# - This read-only cell contains test cases for your previous cell.\n",
    "# - If this cell runs without any error our output, you PASSED all test cases!\n",
    "# - If this cell results in any errors, check you previous cell, make changes, and RE-RUN your code and then this cell.\n",
    "\n",
    "assert('predicted species' in df), \"Make sure you have a column named `predicted species`\"\n",
    "assert(accuracy > 0.8), \"Your accuracy should be higher than what you calculated!\"\n",
    "\n",
    "print(\"Congrats!🎉😊 All tests passed!\")"
   ]
  },
  {
   "cell_type": "markdown",
   "metadata": {},
   "source": [
    "## Submit Your Work!\n",
    "\n",
    "You're almost done -- congratulations!\n",
    "\n",
    "You need to do two more things:\n",
    "\n",
    "1. Save your work.  To do this, create a **notebook checkpoint** by using the menu within the notebook to go **File -> Save and Checkpoint**\n",
    "\n",
    "2. Choose `File` and then `Close and Halt` from this notebook.\n",
    "\n",
    "3. Choose `Quit` on the main notebook webpage.\n",
    "\n",
    "4. Return to your command line and follow the directions on the Data Science Discovery page on how to use git to turn this notebook into the course!"
   ]
  }
 ],
 "metadata": {
  "kernelspec": {
   "display_name": "Python 3",
   "language": "python",
   "name": "python3"
  },
  "language_info": {
   "codemirror_mode": {
    "name": "ipython",
    "version": 3
   },
   "file_extension": ".py",
   "mimetype": "text/x-python",
   "name": "python",
   "nbconvert_exporter": "python",
   "pygments_lexer": "ipython3",
   "version": "3.6.4"
  }
 },
 "nbformat": 4,
 "nbformat_minor": 2
}
