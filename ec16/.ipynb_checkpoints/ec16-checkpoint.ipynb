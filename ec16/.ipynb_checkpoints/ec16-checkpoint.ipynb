{
 "cells": [
  {
   "cell_type": "markdown",
   "metadata": {
    "deletable": false,
    "editable": false,
    "nbgrader": {
     "cell_type": "markdown",
     "checksum": "000b321b2c9860f71df48c5f9f1af190",
     "grade": false,
     "grade_id": "cell-67e7afc4b4ff4e96",
     "locked": true,
     "schema_version": 3,
     "solution": false,
     "task": false
    }
   },
   "source": [
    "# EC Notebook for Lecture 16: Simulation in Python\n",
    "\n",
    "This extra credit Python notebook will let you practice the material you saw in lecture.  Completing all parts of this notebook will earn +1 extra credit point to your grade in STAT 107! :)\n",
    "\n",
    "This notebook is worth +1 if turned in before 11:30 am on **Monday, Oct. 7** *(30 minutes before the next STAT 107 lecture)*.  You can feel free to complete it anytime for extra practice."
   ]
  },
  {
   "cell_type": "markdown",
   "metadata": {
    "deletable": false,
    "editable": false,
    "nbgrader": {
     "cell_type": "markdown",
     "checksum": "0c7e0b47999e2ee75cabc23de821fa0f",
     "grade": false,
     "grade_id": "cell-959f443304692271",
     "locked": true,
     "schema_version": 3,
     "solution": false,
     "task": false
    }
   },
   "source": [
    "## Accumulating Simulation Data \n",
    "\n",
    "In lecture, you saw a six-step rule for accumulating simulation data.  Let's practice one:\n",
    "\n",
    "\n",
    "### Part 1: Accumulating the data\n",
    "\n",
    "Tommy, Jack, Michael and Ben are all Illini Football players.  The number of yards they rush each game can be simulated by a random number from 20 to 50 yards.\n",
    "\n",
    "Write a simulation of football games and store 10,000 observations in a DataFrame called `df`"
   ]
  },
  {
   "cell_type": "code",
   "execution_count": 1,
   "metadata": {
    "deletable": false,
    "nbgrader": {
     "cell_type": "code",
     "checksum": "2cdebc4f6fc2c60d42400bf9787059e9",
     "grade": false,
     "grade_id": "cell-3182d2cfb9079fe2",
     "locked": false,
     "schema_version": 3,
     "solution": true,
     "task": false
    }
   },
   "outputs": [
    {
     "data": {
      "text/html": [
       "<div>\n",
       "<style scoped>\n",
       "    .dataframe tbody tr th:only-of-type {\n",
       "        vertical-align: middle;\n",
       "    }\n",
       "\n",
       "    .dataframe tbody tr th {\n",
       "        vertical-align: top;\n",
       "    }\n",
       "\n",
       "    .dataframe thead th {\n",
       "        text-align: right;\n",
       "    }\n",
       "</style>\n",
       "<table border=\"1\" class=\"dataframe\">\n",
       "  <thead>\n",
       "    <tr style=\"text-align: right;\">\n",
       "      <th></th>\n",
       "      <th>Ben</th>\n",
       "      <th>Jack</th>\n",
       "      <th>Michael</th>\n",
       "      <th>Tommy</th>\n",
       "    </tr>\n",
       "  </thead>\n",
       "  <tbody>\n",
       "    <tr>\n",
       "      <th>6833</th>\n",
       "      <td>31</td>\n",
       "      <td>34</td>\n",
       "      <td>27</td>\n",
       "      <td>48</td>\n",
       "    </tr>\n",
       "    <tr>\n",
       "      <th>5276</th>\n",
       "      <td>41</td>\n",
       "      <td>35</td>\n",
       "      <td>46</td>\n",
       "      <td>49</td>\n",
       "    </tr>\n",
       "    <tr>\n",
       "      <th>9711</th>\n",
       "      <td>21</td>\n",
       "      <td>31</td>\n",
       "      <td>25</td>\n",
       "      <td>47</td>\n",
       "    </tr>\n",
       "    <tr>\n",
       "      <th>6672</th>\n",
       "      <td>42</td>\n",
       "      <td>39</td>\n",
       "      <td>41</td>\n",
       "      <td>31</td>\n",
       "    </tr>\n",
       "    <tr>\n",
       "      <th>9890</th>\n",
       "      <td>20</td>\n",
       "      <td>33</td>\n",
       "      <td>20</td>\n",
       "      <td>21</td>\n",
       "    </tr>\n",
       "  </tbody>\n",
       "</table>\n",
       "</div>"
      ],
      "text/plain": [
       "      Ben  Jack  Michael  Tommy\n",
       "6833   31    34       27     48\n",
       "5276   41    35       46     49\n",
       "9711   21    31       25     47\n",
       "6672   42    39       41     31\n",
       "9890   20    33       20     21"
      ]
     },
     "execution_count": 1,
     "metadata": {},
     "output_type": "execute_result"
    }
   ],
   "source": [
    "import pandas as pd\n",
    "import random as rand\n",
    "\n",
    "# Simulation of 10,000 football games:\n",
    "data = []\n",
    "for i in range(10000):\n",
    "    tommy = rand.randint(20,50)\n",
    "    jack = rand.randint(20,50)\n",
    "    michael = rand.randint(20,50)\n",
    "    ben = rand.randint(20,50)\n",
    "    d = { \"Tommy\": tommy, \"Jack\": jack, \"Michael\": michael, \"Ben\": ben}\n",
    "    data.append(d)\n",
    "\n",
    "# Save the simulation data into a DataFrame:\n",
    "df = pd.DataFrame(data)\n",
    "\n",
    "\n",
    "# Print out a few random rows:\n",
    "df.sample(5)"
   ]
  },
  {
   "cell_type": "markdown",
   "metadata": {},
   "source": [
    "### Part 2: Estimate the probability of rushing 140 yards\n",
    "\n",
    "Estimate the probability that, in a given game, Tommy, Jack, Michael, and Ben rush a total of **at least 140 yards**.  Store your probability estimate in `P_rush140`:"
   ]
  },
  {
   "cell_type": "code",
   "execution_count": 5,
   "metadata": {
    "deletable": false,
    "nbgrader": {
     "cell_type": "code",
     "checksum": "cfb1fd14a73be4cd394761ad97878df1",
     "grade": false,
     "grade_id": "cell-9b6af2e58eb5bdd7",
     "locked": false,
     "schema_version": 3,
     "solution": true,
     "task": false
    }
   },
   "outputs": [
    {
     "name": "stdout",
     "output_type": "stream",
     "text": [
      "0.5137\n"
     ]
    }
   ],
   "source": [
    "df[\"140\"] = df[\"Ben\"]+df[\"Jack\"]+df[\"Michael\"]+df[\"Tommy\"]\n",
    "df140 = df[df[\"140\"] >= 140]\n",
    "\n",
    "P_rush140 = len(df140) / len(df)\n",
    "print(P_rush140)\n",
    "P_rush100 = P_rush140\n"
   ]
  },
  {
   "cell_type": "code",
   "execution_count": 6,
   "metadata": {
    "deletable": false,
    "editable": false,
    "nbgrader": {
     "cell_type": "code",
     "checksum": "7234b3f5fefd002d2f7dcc04a342b69c",
     "grade": true,
     "grade_id": "cell-621e2757b30ebf38",
     "locked": true,
     "points": 1,
     "schema_version": 3,
     "solution": false,
     "task": false
    }
   },
   "outputs": [
    {
     "name": "stdout",
     "output_type": "stream",
     "text": [
      "🎉 All tests passed! 🎉\n",
      "\n",
      "You found: P(140 yards or more) = 51.37%\n"
     ]
    }
   ],
   "source": [
    "## == TEST CASES for Part 1 and Part 2 ==\n",
    "# - This read-only cell contains test cases for your previous cell.\n",
    "# - If this cell runs without any error our output, you PASSED all test cases!\n",
    "# - If this cell results in any errors, check you previous cell, make changes, and RE-RUN your code and then this cell.\n",
    "\n",
    "assert(len(df) == 10000), \"Make sure your df has exactly 10,000 observations\"\n",
    "assert(P_rush140 > 0 and P_rush140 < 1), \"Make your P_rush140 is a probability\"\n",
    "assert(abs(P_rush140 - 0.5) < 0.1), \"Make your P_rush140 estimates the probability of rushing at least 140 yards\"\n",
    "\n",
    "## == SUCCESS MESSAGE ==\n",
    "# You will only see this message (with the emoji showing) if you passed all test cases:\n",
    "tada = \"\\N{PARTY POPPER}\"\n",
    "print(f\"{tada} All tests passed! {tada}\")\n",
    "print()\n",
    "print(f\"You found: P(140 yards or more) = {round(100 * P_rush100, 2)}%\")"
   ]
  },
  {
   "cell_type": "markdown",
   "metadata": {},
   "source": [
    "### Part 3: Estimate the probability of one or more player rushing more than 45 yards\n",
    "\n",
    "Estimate the probability that, in a given game, Tommy, Jack, Michael, **or** Ben rush a total of **more than 45 yards in a single game**.  Store your probability estimate in `P_45plus`:"
   ]
  },
  {
   "cell_type": "code",
   "execution_count": 7,
   "metadata": {
    "deletable": false,
    "nbgrader": {
     "cell_type": "code",
     "checksum": "b07b24803d426f33ef6a9c1f0d524a44",
     "grade": false,
     "grade_id": "cell-f515099e60a97e4f",
     "locked": false,
     "schema_version": 3,
     "solution": true,
     "task": false
    }
   },
   "outputs": [
    {
     "data": {
      "text/plain": [
       "0.5096"
      ]
     },
     "execution_count": 7,
     "metadata": {},
     "output_type": "execute_result"
    }
   ],
   "source": [
    "df45 = df[(df[\"Tommy\"]>45) | (df[\"Jack\"]>45) | (df[\"Michael\"]>45) | (df[\"Ben\"]>45)]\n",
    "\n",
    "\n",
    "P_45plus = len(df45) / len(df)\n",
    "P_45plus\n",
    "\n"
   ]
  },
  {
   "cell_type": "code",
   "execution_count": 8,
   "metadata": {
    "deletable": false,
    "editable": false,
    "nbgrader": {
     "cell_type": "code",
     "checksum": "07db45d30211d1913d3b18605a92e556",
     "grade": true,
     "grade_id": "cell-0294c9244f8fe105",
     "locked": true,
     "points": 1,
     "schema_version": 3,
     "solution": false,
     "task": false
    }
   },
   "outputs": [
    {
     "name": "stdout",
     "output_type": "stream",
     "text": [
      "🎉 All tests passed! 🎉\n",
      "\n",
      "You found: P(at least one player rushing 45 yards) = 50.96%\n",
      "        CHALLENGE: Try to compute this value by hand, it's a bit ticky but a lot of fun! :)\n"
     ]
    }
   ],
   "source": [
    "## == TEST CASES for Part 3 ==\n",
    "# - This read-only cell contains test cases for your previous cell.\n",
    "# - If this cell runs without any error our output, you PASSED all test cases!\n",
    "# - If this cell results in any errors, check you previous cell, make changes, and RE-RUN your code and then this cell.\n",
    "\n",
    "assert(P_45plus > 0 and P_45plus < 1), \"Make your P_45plus is a probability\"\n",
    "assert(abs(P_45plus - 0.4948) < 0.1), \"Make your P_45plus estimates the probability of rushing at least one player rushing 45 yards\"\n",
    "\n",
    "## == SUCCESS MESSAGE ==\n",
    "# You will only see this message (with the emoji showing) if you passed all test cases:\n",
    "tada = \"\\N{PARTY POPPER}\"\n",
    "print(f\"{tada} All tests passed! {tada}\")\n",
    "print()\n",
    "print(f\"You found: P(at least one player rushing 45 yards) = {round(100 * P_45plus, 2)}%\")\n",
    "print(f\"        CHALLENGE: Try to compute this value by hand, it's a bit ticky but a lot of fun! :)\")"
   ]
  },
  {
   "cell_type": "markdown",
   "metadata": {
    "deletable": false,
    "editable": false,
    "nbgrader": {
     "cell_type": "markdown",
     "checksum": "dd1a3333757c0bd462c05c1e2c339771",
     "grade": false,
     "grade_id": "cell-4605813ec4a8f081",
     "locked": true,
     "schema_version": 3,
     "solution": false,
     "task": false
    }
   },
   "source": [
    "## Submit Your Work!\n",
    "\n",
    "Make sure to **Save and Checkpoint** your notebook, exit Jupyter, and submit your work! :)"
   ]
  }
 ],
 "metadata": {
  "kernelspec": {
   "display_name": "Python 3",
   "language": "python",
   "name": "python3"
  },
  "language_info": {
   "codemirror_mode": {
    "name": "ipython",
    "version": 3
   },
   "file_extension": ".py",
   "mimetype": "text/x-python",
   "name": "python",
   "nbconvert_exporter": "python",
   "pygments_lexer": "ipython3",
   "version": "3.6.5"
  }
 },
 "nbformat": 4,
 "nbformat_minor": 2
}
