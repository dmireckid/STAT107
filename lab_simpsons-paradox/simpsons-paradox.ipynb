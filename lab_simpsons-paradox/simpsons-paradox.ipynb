{
 "cells": [
  {
   "cell_type": "markdown",
   "metadata": {},
   "source": [
    "# lab_simpsons-paradox\n",
    "\n",
    "Hi Data Scientists,\n",
    "\n",
    "Welcome to the third lab!  In this lab, you will explore using pandas to explore real-word datasets and find if Simpson's Paradox appears in several different datasets.\n",
    "\n",
    "\n",
    "### Labs are Collaborative\n",
    "\n",
    "In your lab section (right now!), find a person or two around you and form a group.  Work on this together, making sure all of you understand each component of the lab.\n",
    "\n",
    "\n",
    "### Getting Help\n",
    "\n",
    "Remember, there are a lot of ways to get help if you find yourself stuck:\n",
    "\n",
    "1. In lab section, your TA, CAs, and your peers are here for you!\n",
    "\n",
    "\n",
    "2. On the course Piazza page: https://piazza.com/illinois/fall2019/stat107\n",
    "\n",
    "\n",
    "3. Office Hours:\n",
    "\n",
    "  - Open office hours **every Monday, Wednesday, Thursday, and Friday** from 4:00pm - 6:30pm in 23 Illini Hall\n",
    "\n",
    "  - Prof. Wade + Prof. Karle are available every Wednesday from 8:30am - 10:00am in 2215 Siebel Center"
   ]
  },
  {
   "cell_type": "markdown",
   "metadata": {},
   "source": [
    "# Puzzle 1: Homecoming Date Night\n",
    "\n",
    "Imagine you and your partner are trying to find the perfect restaurant for a homecoming date night dinner!  Knowing this process can lead to hours of arguments, you seek out the answer to all of life’s questions: *online reviews*. \n",
    "\n",
    "The dataset `Black Dog Reviews.csv` (already provided for you as part of the lab code you checked out from git) contains data showing all of the males and females that have reviewed Black Dog in the past year and whether or not they recommended it.  The dataset `Papa Dels Reviews.csv` contains the same information for Papa Dels.\n",
    "\n",
    "\n",
    "## 1.1: Data Cleaning\n",
    "\n",
    "Unfortunately, this data was not as tidy as all of our data has been so far. :(\n",
    "\n",
    "- Open `Black Dog Reviews.csv` and `Papa Dels Reviews.csv` CSV file using any program that can edit spreadsheets.  This can be Microsoft Excel (if you have it installed) or you can upload it to Google Drive and edit it with Google Sheets.\n",
    "- Modify the file to ensure all rows that in the `Gender` column has the same value for the two gender categories (as `Male` and `Female`) found in this dataset.\n",
    "- Finally, make sure to save the file as a CSV so you can used your cleaned dataset for this lab.\n",
    "\n",
    "\n",
    "## 1.2. Loading Your DataSet\n",
    "\n",
    "Load the DataSets you just cleaned into Python:"
   ]
  },
  {
   "cell_type": "code",
   "execution_count": null,
   "metadata": {},
   "outputs": [],
   "source": [
    "# Import the pandas library as pd\n",
    "import pandas as pd"
   ]
  },
  {
   "cell_type": "code",
   "execution_count": null,
   "metadata": {
    "deletable": false,
    "nbgrader": {
     "cell_type": "code",
     "checksum": "cd13240032bcc377d094424ece4fc340",
     "grade": false,
     "grade_id": "cell-3f3752d45165cffa",
     "locked": false,
     "schema_version": 3,
     "solution": true
    }
   },
   "outputs": [],
   "source": [
    "df_black_dog = ...\n",
    "df_black_dog\n"
   ]
  },
  {
   "cell_type": "code",
   "execution_count": null,
   "metadata": {
    "deletable": false,
    "editable": false,
    "nbgrader": {
     "cell_type": "code",
     "checksum": "47cb5a3476f8b6fbce3a798b536b90ef",
     "grade": true,
     "grade_id": "cell-1f967bc5dffe7c62",
     "locked": true,
     "points": 1,
     "schema_version": 3,
     "solution": false
    }
   },
   "outputs": [],
   "source": [
    "## == TEST CASES for Puzzle 1.2 ==\n",
    "# - This read-only cell contains test cases for your previous cell.\n",
    "# - If this cell runs without any error our output, you PASSED all test cases!\n",
    "# - If this cell results in any errors, check you previous cell, make changes, and RE-RUN your code and then this cell.\n",
    "\n",
    "assert(len(df_black_dog) == 40), \"The dataframe does not appear to have correct dataset loaded\""
   ]
  },
  {
   "cell_type": "code",
   "execution_count": null,
   "metadata": {
    "deletable": false,
    "nbgrader": {
     "cell_type": "code",
     "checksum": "f02e51a07ac711c244c6fa9330080c48",
     "grade": false,
     "grade_id": "cell-6171dbc0e3852e57",
     "locked": false,
     "schema_version": 3,
     "solution": true
    }
   },
   "outputs": [],
   "source": [
    "df_papa_del = ...\n",
    "df_papa_del\n"
   ]
  },
  {
   "cell_type": "code",
   "execution_count": null,
   "metadata": {
    "deletable": false,
    "editable": false,
    "nbgrader": {
     "cell_type": "code",
     "checksum": "968bb36af8824bedfc88f948bc7990be",
     "grade": true,
     "grade_id": "cell-630e1207191fb31e",
     "locked": true,
     "points": 1,
     "schema_version": 3,
     "solution": false
    }
   },
   "outputs": [],
   "source": [
    "## == TEST CASES for Puzzle 1.2 ==\n",
    "# - This read-only cell contains test cases for your previous cell.\n",
    "# - If this cell runs without any error our output, you PASSED all test cases!\n",
    "# - If this cell results in any errors, check you previous cell, make changes, and RE-RUN your code and then this cell.\n",
    "\n",
    "assert(len(df_papa_del) == 46), \"The dataframe does not appear to have correct dataset loaded\""
   ]
  },
  {
   "cell_type": "markdown",
   "metadata": {},
   "source": [
    "## 1.3. Analysis\n",
    "\n",
    "We want to use the Black Dog dataset to calculate the percentage of women who recommended Black Dog.  Then calculate the percentage of men who recommended Black Dog:"
   ]
  },
  {
   "cell_type": "code",
   "execution_count": null,
   "metadata": {
    "deletable": false,
    "nbgrader": {
     "cell_type": "code",
     "checksum": "5a2bfb5746bd4fa4f5c5ab3377da9f33",
     "grade": false,
     "grade_id": "cell-e8a1c3c40402d8e6",
     "locked": false,
     "schema_version": 3,
     "solution": true
    }
   },
   "outputs": [],
   "source": [
    "black_dog_female_percent = ...\n",
    "black_dog_female_percent\n",
    "\n"
   ]
  },
  {
   "cell_type": "code",
   "execution_count": null,
   "metadata": {
    "deletable": false,
    "editable": false,
    "nbgrader": {
     "cell_type": "code",
     "checksum": "a6f43688442aa95f1c92064705deac79",
     "grade": true,
     "grade_id": "cell-fbdef0d3e0843326",
     "locked": true,
     "points": 1,
     "schema_version": 3,
     "solution": false
    }
   },
   "outputs": [],
   "source": [
    "## == TEST CASES for Puzzle 1.3 ==\n",
    "# - This read-only cell contains test cases for your previous cell.\n",
    "# - If this cell runs without any error our output, you PASSED all test cases!\n",
    "# - If this cell results in any errors, check you previous cell, make changes, and RE-RUN your code and then this cell.\n",
    "\n",
    "assert(black_dog_female_percent == 0.8), \"The percentage of Female who recommended Black Dog does not appear to have correct calculated\"\n",
    "\n"
   ]
  },
  {
   "cell_type": "code",
   "execution_count": null,
   "metadata": {
    "deletable": false,
    "nbgrader": {
     "cell_type": "code",
     "checksum": "8169e3ce83cd5fae88e344b7819d4c63",
     "grade": false,
     "grade_id": "cell-e51a9d6c4f48495c",
     "locked": false,
     "schema_version": 3,
     "solution": true
    }
   },
   "outputs": [],
   "source": [
    "black_dog_male_percent = ...\n",
    "black_dog_male_percent\n",
    "\n"
   ]
  },
  {
   "cell_type": "code",
   "execution_count": null,
   "metadata": {
    "deletable": false,
    "editable": false,
    "nbgrader": {
     "cell_type": "code",
     "checksum": "83d90842b347a8f7b2ff869d9f7a9ff9",
     "grade": true,
     "grade_id": "cell-00ebcd91c621f14a",
     "locked": true,
     "points": 1,
     "schema_version": 3,
     "solution": false
    }
   },
   "outputs": [],
   "source": [
    "## == TEST CASES for Puzzle 1.3 ==\n",
    "# - This read-only cell contains test cases for your previous cell.\n",
    "# - If this cell runs without any error our output, you PASSED all test cases!\n",
    "# - If this cell results in any errors, check you previous cell, make changes, and RE-RUN your code and then this cell.\n",
    "\n",
    "assert(black_dog_male_percent == (1/3)), \"The percentage of Male who recommended Black Dog does not appear to have correct calculated\""
   ]
  },
  {
   "cell_type": "markdown",
   "metadata": {},
   "source": [
    "Similarly, use the Papa Dels dataset to calculate the percentage of women who recommended Papa Dels.  Then calculate the percentage of men who recommended Papa Dels:"
   ]
  },
  {
   "cell_type": "code",
   "execution_count": null,
   "metadata": {
    "deletable": false,
    "nbgrader": {
     "cell_type": "code",
     "checksum": "d9b5f51446cfbf7b254cacbd76c8f180",
     "grade": false,
     "grade_id": "cell-42037a70312202b7",
     "locked": false,
     "schema_version": 3,
     "solution": true
    }
   },
   "outputs": [],
   "source": [
    "papa_dels_female_percent = ...\n",
    "papa_dels_female_percent\n",
    "\n"
   ]
  },
  {
   "cell_type": "code",
   "execution_count": null,
   "metadata": {
    "deletable": false,
    "editable": false,
    "nbgrader": {
     "cell_type": "code",
     "checksum": "2d5ae4bd09e17032b02af8773dd6aa51",
     "grade": true,
     "grade_id": "cell-d534e36a406bf8da",
     "locked": true,
     "points": 1,
     "schema_version": 3,
     "solution": false
    }
   },
   "outputs": [],
   "source": [
    "## == TEST CASES for Puzzle 1.3 ==\n",
    "# - This read-only cell contains test cases for your previous cell.\n",
    "# - If this cell runs without any error our output, you PASSED all test cases!\n",
    "# - If this cell results in any errors, check you previous cell, make changes, and RE-RUN your code and then this cell.\n",
    "\n",
    "assert(papa_dels_female_percent == 0.9), \"The percentage of Female who recommended Papa Dels does not appear to have correctly calculated\""
   ]
  },
  {
   "cell_type": "code",
   "execution_count": null,
   "metadata": {
    "deletable": false,
    "nbgrader": {
     "cell_type": "code",
     "checksum": "3f3eeda10316f1ce24c34c8d130e1696",
     "grade": false,
     "grade_id": "cell-25efc5b635f23764",
     "locked": false,
     "schema_version": 3,
     "solution": true
    }
   },
   "outputs": [],
   "source": [
    "papa_dels_male_percent = ...\n",
    "papa_dels_male_percent\n",
    "\n"
   ]
  },
  {
   "cell_type": "code",
   "execution_count": null,
   "metadata": {
    "deletable": false,
    "editable": false,
    "nbgrader": {
     "cell_type": "code",
     "checksum": "7a19b7d3fc9290863a59cd52e0499d4a",
     "grade": true,
     "grade_id": "cell-b481131a6df56f62",
     "locked": true,
     "points": 1,
     "schema_version": 3,
     "solution": false
    }
   },
   "outputs": [],
   "source": [
    "## == TEST CASES for Puzzle 1.3 ==\n",
    "# - This read-only cell contains test cases for your previous cell.\n",
    "# - If this cell runs without any error our output, you PASSED all test cases!\n",
    "# - If this cell results in any errors, check you previous cell, make changes, and RE-RUN your code and then this cell.\n",
    "\n",
    "assert(papa_dels_male_percent == 0.5), \"The percentage of Male who recommended Papa Dels does not appear to have correct calculated\""
   ]
  },
  {
   "cell_type": "markdown",
   "metadata": {},
   "source": [
    "### Observe the Results\n",
    "\n",
    "Run the following cell to format all of your answers as a DataFrame:"
   ]
  },
  {
   "cell_type": "code",
   "execution_count": null,
   "metadata": {},
   "outputs": [],
   "source": [
    "pd.DataFrame( [\n",
    "    {'Female': black_dog_female_percent, 'Male': black_dog_male_percent },\n",
    "    {'Female': papa_dels_female_percent, 'Male': papa_dels_male_percent },    \n",
    "], index=['Black Dog', 'Papa Dels'])"
   ]
  },
  {
   "cell_type": "markdown",
   "metadata": {},
   "source": [
    "❓ **Question** ❓: Should your homecoming date night be at Black Dog or Papa Dels?\n",
    "\n",
    "- Dows \"Black Dog\" (Row #1) have higher values or \"Papa Dels\" (Row #2) have higher values?"
   ]
  },
  {
   "cell_type": "markdown",
   "metadata": {},
   "source": [
    "## 1.4. Analysis - Part 2\n",
    "\n",
    "For our final analysis, let's examine the **overall** percentage of people who recommend each restaurant:"
   ]
  },
  {
   "cell_type": "code",
   "execution_count": null,
   "metadata": {
    "deletable": false,
    "nbgrader": {
     "cell_type": "code",
     "checksum": "58ef86c17b1f99c9f5a05ec5930f6aaf",
     "grade": false,
     "grade_id": "cell-76c29af59adb8ed8",
     "locked": false,
     "schema_version": 3,
     "solution": true
    }
   },
   "outputs": [],
   "source": [
    "black_dog_recommended_percent = ...\n",
    "black_dog_recommended_percent\n"
   ]
  },
  {
   "cell_type": "code",
   "execution_count": null,
   "metadata": {
    "deletable": false,
    "editable": false,
    "nbgrader": {
     "cell_type": "code",
     "checksum": "506578604cb73c7ac1a7dd0635a85658",
     "grade": true,
     "grade_id": "cell-e9f12398cfd30bd5",
     "locked": true,
     "points": 1,
     "schema_version": 3,
     "solution": false
    }
   },
   "outputs": [],
   "source": [
    "## == TEST CASES for Puzzle 1.4 ==\n",
    "# - This read-only cell contains test cases for your previous cell.\n",
    "# - If this cell runs without any error our output, you PASSED all test cases!\n",
    "# - If this cell results in any errors, check you previous cell, make changes, and RE-RUN your code and then this cell.\n",
    "\n",
    "assert(black_dog_recommended_percent == 0.625), \"The percentage of Overall who recommended Black Dog does not appear to have correct calculated\"\n"
   ]
  },
  {
   "cell_type": "code",
   "execution_count": null,
   "metadata": {
    "deletable": false,
    "nbgrader": {
     "cell_type": "code",
     "checksum": "03161ff46e05dbc324f644987b34b325",
     "grade": false,
     "grade_id": "cell-e2051c256fd564b2",
     "locked": false,
     "schema_version": 3,
     "solution": true
    }
   },
   "outputs": [],
   "source": [
    "papa_dels_recommended_percent = ...\n",
    "papa_dels_recommended_percent\n"
   ]
  },
  {
   "cell_type": "code",
   "execution_count": null,
   "metadata": {
    "deletable": false,
    "editable": false,
    "nbgrader": {
     "cell_type": "code",
     "checksum": "a9c72ee426c631616864f55eb9ad9ad1",
     "grade": true,
     "grade_id": "cell-b93794d7ed4b3f58",
     "locked": true,
     "points": 0,
     "schema_version": 3,
     "solution": false
    }
   },
   "outputs": [],
   "source": [
    "## == TEST CASES for Puzzle 1.4 ==\n",
    "# - This read-only cell contains test cases for your previous cell.\n",
    "# - If this cell runs without any error our output, you PASSED all test cases!\n",
    "# - If this cell results in any errors, check you previous cell, make changes, and RE-RUN your code and then this cell.\n",
    "\n",
    "assert(papa_dels_recommended_percent == (27/46)), \"The percentage of Overall who recommended Papa Dels does not appear to have correct calculated\""
   ]
  },
  {
   "cell_type": "markdown",
   "metadata": {},
   "source": [
    "### Observe the Results\n",
    "\n",
    "Run the following cell to format all of your answers as a DataFrame:"
   ]
  },
  {
   "cell_type": "code",
   "execution_count": null,
   "metadata": {},
   "outputs": [],
   "source": [
    "pd.DataFrame( [\n",
    "    {'Female': black_dog_female_percent, 'Male': black_dog_male_percent, 'Overall': black_dog_recommended_percent },\n",
    "    {'Female': papa_dels_female_percent, 'Male': papa_dels_male_percent, 'Overall': papa_dels_recommended_percent },\n",
    "], index=['Black Dog', 'Papa Dels'] )"
   ]
  },
  {
   "cell_type": "markdown",
   "metadata": {},
   "source": [
    "❓ **Question** ❓: Should your homecoming date night be at Black Dog or Papa Dels?\n",
    "\n",
    "- Dows \"Black Dog\" (Row #1) have higher values or \"Papa Dels\" (Row #2) have higher values for **Overall**?"
   ]
  },
  {
   "cell_type": "markdown",
   "metadata": {},
   "source": [
    "# Puzzle 2: Twitch and Shoes"
   ]
  },
  {
   "cell_type": "markdown",
   "metadata": {},
   "source": [
    "From the \"Hello\" dataset we created on the first day of class, we picked two random questions for us to explore:\n",
    "\n",
    "- Do you view video on Twitch at least once a week?\n",
    "- How many pairs of shoes do you have?"
   ]
  },
  {
   "cell_type": "markdown",
   "metadata": {},
   "source": [
    "## 2.1: Load the Dataset\n",
    "\n",
    "- You can find the \"Hello\" dataset here (make sure to log in with your @illinois.edu address to access it): https://docs.google.com/spreadsheets/d/1LB4E89GoVi5yezEfHhopbI5BMxodSG7VvoznkaAkMAQ/edit#gid=0"
   ]
  },
  {
   "cell_type": "code",
   "execution_count": null,
   "metadata": {
    "deletable": false,
    "nbgrader": {
     "cell_type": "code",
     "checksum": "8a0639784ad62847880e93321cc50c62",
     "grade": false,
     "grade_id": "cell-a754c45cb34da497",
     "locked": false,
     "schema_version": 3,
     "solution": true
    }
   },
   "outputs": [],
   "source": [
    "# Read the hello dataset into a DataFrame\n",
    "df_hello = ...\n",
    "df_hello\n"
   ]
  },
  {
   "cell_type": "code",
   "execution_count": null,
   "metadata": {
    "deletable": false,
    "editable": false,
    "nbgrader": {
     "cell_type": "code",
     "checksum": "56500dd7666e86806fd4601b98491065",
     "grade": true,
     "grade_id": "cell-96c94f328cfd0876",
     "locked": true,
     "points": 0,
     "schema_version": 3,
     "solution": false
    }
   },
   "outputs": [],
   "source": [
    "## == TEST CASES for Puzzle 2.1 ==\n",
    "# - This read-only cell contains test cases for your previous cell.\n",
    "# - If this cell runs without any error our output, you PASSED all test cases!\n",
    "# - If this cell results in any errors, check you previous cell, make changes, and RE-RUN your code and then this cell.\n",
    "\n",
    "assert(len(df_hello) == 166), \"The dataframe does not appear to have correct dataset loaded\"\n",
    "\n"
   ]
  },
  {
   "cell_type": "markdown",
   "metadata": {},
   "source": [
    "## 2.2: Observation Subsets\n",
    "\n",
    "Create two DataFrames that contain subsets of our data: one DataFrame that includes everyone who has watches Twitch at least once a week and one DataFrame that includes everyone who does not watch twitch at least once a week:"
   ]
  },
  {
   "cell_type": "code",
   "execution_count": null,
   "metadata": {
    "deletable": false,
    "nbgrader": {
     "cell_type": "code",
     "checksum": "6f51904dbabd993162cd32a6a5ef2a6f",
     "grade": false,
     "grade_id": "cell-8754c8095ea42040",
     "locked": false,
     "schema_version": 3,
     "solution": true
    }
   },
   "outputs": [],
   "source": [
    "df_twitch = ...\n",
    "df_twitch\n"
   ]
  },
  {
   "cell_type": "code",
   "execution_count": null,
   "metadata": {
    "deletable": false,
    "editable": false,
    "nbgrader": {
     "cell_type": "code",
     "checksum": "2a431a14dc95e4c9ad6cf323d058b4f0",
     "grade": true,
     "grade_id": "cell-729252c9fbc53aed",
     "locked": true,
     "points": 1,
     "schema_version": 3,
     "solution": false
    }
   },
   "outputs": [],
   "source": [
    "## == TEST CASES for Puzzle 2.2 ==\n",
    "# - This read-only cell contains test cases for your previous cell.\n",
    "# - If this cell runs without any error our output, you PASSED all test cases!\n",
    "# - If this cell results in any errors, check you previous cell, make changes, and RE-RUN your code and then this cell.\n",
    "\n",
    "assert(len(df_twitch) == 21), \"The dataframe does not appear to have been correct subset\"\n",
    "\n"
   ]
  },
  {
   "cell_type": "code",
   "execution_count": null,
   "metadata": {
    "deletable": false,
    "nbgrader": {
     "cell_type": "code",
     "checksum": "8346eb4362c05748615d9b2e229838e4",
     "grade": false,
     "grade_id": "cell-b7ac40623aff2344",
     "locked": false,
     "schema_version": 3,
     "solution": true
    }
   },
   "outputs": [],
   "source": [
    "df_no_twitch = ...\n",
    "df_no_twitch\n",
    "\n"
   ]
  },
  {
   "cell_type": "code",
   "execution_count": null,
   "metadata": {
    "deletable": false,
    "editable": false,
    "nbgrader": {
     "cell_type": "code",
     "checksum": "2992e0667d854bd9fd0d33df38a3d2b2",
     "grade": true,
     "grade_id": "cell-3119e2c04a5d3f8d",
     "locked": true,
     "points": 1,
     "schema_version": 3,
     "solution": false
    }
   },
   "outputs": [],
   "source": [
    "## == TEST CASES for Puzzle 2.2 ==\n",
    "# - This read-only cell contains test cases for your previous cell.\n",
    "# - If this cell runs without any error our output, you PASSED all test cases!\n",
    "# - If this cell results in any errors, check you previous cell, make changes, and RE-RUN your code and then this cell.\n",
    "\n",
    "assert(len(df_no_twitch) == 145), \"The dataframe does not appear to have been correct subset\"\n"
   ]
  },
  {
   "cell_type": "markdown",
   "metadata": {},
   "source": [
    "## 2.3: Average Number of Pairs of Shoes\n",
    "\n",
    "Find the average number of pairs of shoes of each group:"
   ]
  },
  {
   "cell_type": "code",
   "execution_count": null,
   "metadata": {
    "deletable": false,
    "nbgrader": {
     "cell_type": "code",
     "checksum": "37b04c388f7e09ac4fa681a670bb80d2",
     "grade": false,
     "grade_id": "cell-e4b369fb53d3613d",
     "locked": false,
     "schema_version": 3,
     "solution": true
    }
   },
   "outputs": [],
   "source": [
    "twitch_avg_shoes = ...\n",
    "twitch_avg_shoes\n"
   ]
  },
  {
   "cell_type": "code",
   "execution_count": null,
   "metadata": {
    "deletable": false,
    "editable": false,
    "nbgrader": {
     "cell_type": "code",
     "checksum": "69b1b52998a3a48ee6187d3cfbc18d3a",
     "grade": true,
     "grade_id": "cell-303a6192d564894f",
     "locked": true,
     "points": 1,
     "schema_version": 3,
     "solution": false
    }
   },
   "outputs": [],
   "source": [
    "## == TEST CASES for Puzzle 2.3 ==\n",
    "# - This read-only cell contains test cases for your previous cell.\n",
    "# - If this cell runs without any error our output, you PASSED all test cases!\n",
    "# - If this cell results in any errors, check you previous cell, make changes, and RE-RUN your code and then this cell.\n",
    "\n",
    "assert(twitch_avg_shoes == 103/21),  \"The average number of pairs of shoes in twitch dataset does not appear to seem correct. Make sure you are taking mean of the correct variable.\""
   ]
  },
  {
   "cell_type": "code",
   "execution_count": null,
   "metadata": {
    "deletable": false,
    "nbgrader": {
     "cell_type": "code",
     "checksum": "f1bdd99494f2697a0623d29792069336",
     "grade": false,
     "grade_id": "cell-d16479eedeb50e9c",
     "locked": false,
     "schema_version": 3,
     "solution": true
    }
   },
   "outputs": [],
   "source": [
    "no_twitch_avg_shoes = ...\n",
    "no_twitch_avg_shoes\n"
   ]
  },
  {
   "cell_type": "code",
   "execution_count": null,
   "metadata": {
    "deletable": false,
    "editable": false,
    "nbgrader": {
     "cell_type": "code",
     "checksum": "24fdd3430367395ee54908e4557a13d4",
     "grade": true,
     "grade_id": "cell-990a59a8df79bb00",
     "locked": true,
     "points": 1,
     "schema_version": 3,
     "solution": false
    }
   },
   "outputs": [],
   "source": [
    "## == TEST CASES for Puzzle 2.3 ==\n",
    "# - This read-only cell contains test cases for your previous cell.\n",
    "# - If this cell runs without any error our output, you PASSED all test cases!\n",
    "# - If this cell results in any errors, check you previous cell, make changes, and RE-RUN your code and then this cell.\n",
    "\n",
    "assert(no_twitch_avg_shoes == 1352 / 144),  \"The average number of pairs of shoes in no twitch dataset does not appear to seem correct. Make sure you are taking mean of the correct variable.\""
   ]
  },
  {
   "cell_type": "markdown",
   "metadata": {},
   "source": [
    "## 2.4. Observations\n",
    "\n",
    "Answer the next two questions with 1-2 sentences each.  The cells after the question text are editable -- you should double-click and replace the text with your answer:"
   ]
  },
  {
   "cell_type": "markdown",
   "metadata": {},
   "source": [
    "### Q1: Is there a difference in the number of shoes owned between the two groups?"
   ]
  },
  {
   "cell_type": "markdown",
   "metadata": {},
   "source": [
    "*Edit and replace this cell with your answer.*"
   ]
  },
  {
   "cell_type": "markdown",
   "metadata": {},
   "source": [
    "### Q2: What might be some possible confounding variable in this result?"
   ]
  },
  {
   "cell_type": "markdown",
   "metadata": {},
   "source": [
    "*Edit and replace this cell with your answer.*"
   ]
  },
  {
   "cell_type": "markdown",
   "metadata": {},
   "source": [
    "# Finale!\n",
    "\n",
    "You're almost done -- congratulations!\n",
    "\n",
    "You need to do two more things:\n",
    "\n",
    "1. Save your work.  To do this, create a **notebook checkpoint** by using the menu within the notebook to go **File -> Save and Checkpoint**\n",
    "\n",
    "2. After you have saved and checkpointed, exit this notebook and return to the Data Science Discovery page on how to use git to turn this notebook into the course!"
   ]
  }
 ],
 "metadata": {
  "kernelspec": {
   "display_name": "Python 3",
   "language": "python",
   "name": "python3"
  },
  "language_info": {
   "codemirror_mode": {
    "name": "ipython",
    "version": 3
   },
   "file_extension": ".py",
   "mimetype": "text/x-python",
   "name": "python",
   "nbconvert_exporter": "python",
   "pygments_lexer": "ipython3",
   "version": "3.6.4"
  }
 },
 "nbformat": 4,
 "nbformat_minor": 2
}
