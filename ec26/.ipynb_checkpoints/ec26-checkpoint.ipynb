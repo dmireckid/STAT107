{
 "cells": [
  {
   "cell_type": "markdown",
   "metadata": {
    "deletable": false,
    "editable": false,
    "nbgrader": {
     "cell_type": "markdown",
     "checksum": "3529519da1292c662b77548509b008b0",
     "grade": false,
     "grade_id": "cell-67e7afc4b4ff4e96",
     "locked": true,
     "schema_version": 3,
     "solution": false,
     "task": false
    }
   },
   "source": [
    "## EC Notebook for Lecture 26: Confidence Intervals\n",
    "\n",
    "This extra credit Python notebook will let you practice the material you saw in lecture.  Completing all parts of this notebook will earn +1 extra credit point to your grade in STAT 107! :)\n",
    "\n",
    "This notebook is worth +1 if turned in before 11:30 am on **Wednesday, Oct. 30** *(30 minutes before the next STAT 107 lecture)*.  You can feel free to complete it anytime for extra practice."
   ]
  },
  {
   "cell_type": "markdown",
   "metadata": {
    "deletable": false,
    "editable": false,
    "nbgrader": {
     "cell_type": "markdown",
     "checksum": "a9f1a851432711c9c6600ab91ec04844",
     "grade": false,
     "grade_id": "cell-959f443304692271",
     "locked": true,
     "schema_version": 3,
     "solution": false,
     "task": false
    }
   },
   "source": [
    "## 1. Importing pandas and reading data\n",
    "For this extra credit notebook, we will still use the GPA dataset to do some exercise. At first, you need to import the library pandas and reading the dataset.\n",
    "\n",
    "### Calculate the size of each class\n",
    "After loading the data, calculate the size of each class and add an extra column named `size` to the DataFrame. (*Hint: students with a W grade is also a part of the class.*) Observe the distribution of class size."
   ]
  },
  {
   "cell_type": "code",
   "execution_count": 12,
   "metadata": {
    "deletable": false,
    "nbgrader": {
     "cell_type": "code",
     "checksum": "9b237d6f0f8be2a4ef6bba4caa7ba34a",
     "grade": false,
     "grade_id": "cell-3182d2cfb9079fe2",
     "locked": false,
     "schema_version": 3,
     "solution": true,
     "task": false
    }
   },
   "outputs": [
    {
     "data": {
      "text/plain": [
       "<matplotlib.axes._subplots.AxesSubplot at 0x261bc763978>"
      ]
     },
     "execution_count": 12,
     "metadata": {},
     "output_type": "execute_result"
    },
    {
     "data": {
      "image/png": "[encoded data removed]",
      "text/plain": [
       "<Figure size 432x288 with 1 Axes>"
      ]
     },
     "metadata": {},
     "output_type": "display_data"
    }
   ],
   "source": [
    "#import pandas\n",
    "import pandas as pd\n",
    "df = pd.read_csv(\"gpa.csv\")\n",
    "df[\"size\"] = df[\"A+\"]+df[\"A\"]+df[\"A-\"]+df[\"B+\"]+df[\"B\"]+df[\"B-\"]+df[\"C+\"]+df[\"C\"]+df[\"C-\"]+df[\"D+\"]+df[\"D\"]+df[\"D-\"]+df[\"F\"]+df[\"W\"]\n",
    "\n",
    "df[\"size\"].hist(bins=20)"
   ]
  },
  {
   "cell_type": "markdown",
   "metadata": {},
   "source": [
    "### Class Sampling\n",
    "\n",
    "Now lets create a function, which will sample `n` sections from the DataFrame and calculate the following values:\n",
    "\n",
    "1. the average size of samples\n",
    "2. the standard error of samples\n",
    "\n",
    "and return them."
   ]
  },
  {
   "cell_type": "code",
   "execution_count": 13,
   "metadata": {
    "deletable": false,
    "nbgrader": {
     "cell_type": "code",
     "checksum": "e6095ed863605a4e2b492fbe7f61d8fd",
     "grade": false,
     "grade_id": "cell-060c81a4477630d2",
     "locked": false,
     "schema_version": 3,
     "solution": true,
     "task": false
    }
   },
   "outputs": [],
   "source": [
    "def sample_class(n):\n",
    "    sample = df.sample(n)\n",
    "    sample_mean = sample[\"size\"].mean()\n",
    "    sample_sem = sample[\"size\"].sem()\n",
    "    return sample_mean, sample_sem\n",
    "\n"
   ]
  },
  {
   "cell_type": "markdown",
   "metadata": {
    "deletable": false,
    "editable": false,
    "nbgrader": {
     "cell_type": "markdown",
     "checksum": "cd9d7af5a1dff24c98849fa06f50ebec",
     "grade": false,
     "grade_id": "cell-47b6be3b89d4c4bd",
     "locked": true,
     "schema_version": 3,
     "solution": false,
     "task": false
    }
   },
   "source": [
    "### Distribution of Average\n",
    "Write a simulation to run the above function for 1000 times with `n=100` and store the results you get for each time in a DataFrame called `df_class`, which contains two cloumns `mean` and `sem`."
   ]
  },
  {
   "cell_type": "code",
   "execution_count": 14,
   "metadata": {
    "deletable": false,
    "nbgrader": {
     "cell_type": "code",
     "checksum": "a9446912e961156dbc0d169049680dfe",
     "grade": false,
     "grade_id": "cell-8b0f0ef67575550d",
     "locked": false,
     "schema_version": 3,
     "solution": true,
     "task": false
    }
   },
   "outputs": [
    {
     "data": {
      "text/plain": [
       "<matplotlib.axes._subplots.AxesSubplot at 0x261bc6f1198>"
      ]
     },
     "execution_count": 14,
     "metadata": {},
     "output_type": "execute_result"
    },
    {
     "data": {
      "image/png": "[encoded data removed]",
      "text/plain": [
       "<Figure size 432x288 with 1 Axes>"
      ]
     },
     "metadata": {},
     "output_type": "display_data"
    }
   ],
   "source": [
    "results = []\n",
    "for i in range(1000):\n",
    "    mu,se = sample_class(100)\n",
    "    d = {\"mean\":mu, \"sem\":se}\n",
    "    results.append(d)\n",
    "df_class = pd.DataFrame(results)\n",
    "\n",
    "\n",
    "# Let’s build visualization:\n",
    "df_class[\"mean\"].hist(bins=20)"
   ]
  },
  {
   "cell_type": "markdown",
   "metadata": {
    "deletable": false,
    "editable": false,
    "nbgrader": {
     "cell_type": "markdown",
     "checksum": "c8e5aec51c5545f51cbccd8b829c74af",
     "grade": false,
     "grade_id": "cell-9977fb06da3a0db6",
     "locked": true,
     "schema_version": 3,
     "solution": false,
     "task": false
    }
   },
   "source": [
    "###  Confidance Interval\n",
    "\n",
    "What we have done above shows that when you sample averages from a non-normal distribution, you get a normal distribution out. Now let's calculate the **95%** confidance interval bound given the above sampling."
   ]
  },
  {
   "cell_type": "code",
   "execution_count": 17,
   "metadata": {
    "deletable": false,
    "nbgrader": {
     "cell_type": "code",
     "checksum": "8dd25c067c049cced2c21d6df8908708",
     "grade": false,
     "grade_id": "cell-9b6af2e58eb5bdd7",
     "locked": false,
     "schema_version": 3,
     "solution": true,
     "task": false
    }
   },
   "outputs": [
    {
     "data": {
      "text/html": [
       "<div>\n",
       "<style scoped>\n",
       "    .dataframe tbody tr th:only-of-type {\n",
       "        vertical-align: middle;\n",
       "    }\n",
       "\n",
       "    .dataframe tbody tr th {\n",
       "        vertical-align: top;\n",
       "    }\n",
       "\n",
       "    .dataframe thead th {\n",
       "        text-align: right;\n",
       "    }\n",
       "</style>\n",
       "<table border=\"1\" class=\"dataframe\">\n",
       "  <thead>\n",
       "    <tr style=\"text-align: right;\">\n",
       "      <th></th>\n",
       "      <th>mean</th>\n",
       "      <th>sem</th>\n",
       "      <th>left_ci</th>\n",
       "      <th>right_ci</th>\n",
       "    </tr>\n",
       "  </thead>\n",
       "  <tbody>\n",
       "    <tr>\n",
       "      <th>419</th>\n",
       "      <td>52.10</td>\n",
       "      <td>5.665535</td>\n",
       "      <td>40.995756</td>\n",
       "      <td>63.204244</td>\n",
       "    </tr>\n",
       "    <tr>\n",
       "      <th>283</th>\n",
       "      <td>46.92</td>\n",
       "      <td>3.371918</td>\n",
       "      <td>40.311161</td>\n",
       "      <td>53.528839</td>\n",
       "    </tr>\n",
       "    <tr>\n",
       "      <th>534</th>\n",
       "      <td>60.08</td>\n",
       "      <td>8.587325</td>\n",
       "      <td>43.249151</td>\n",
       "      <td>76.910849</td>\n",
       "    </tr>\n",
       "    <tr>\n",
       "      <th>385</th>\n",
       "      <td>70.45</td>\n",
       "      <td>9.181529</td>\n",
       "      <td>52.454533</td>\n",
       "      <td>88.445467</td>\n",
       "    </tr>\n",
       "    <tr>\n",
       "      <th>232</th>\n",
       "      <td>49.68</td>\n",
       "      <td>4.067905</td>\n",
       "      <td>41.707052</td>\n",
       "      <td>57.652948</td>\n",
       "    </tr>\n",
       "  </tbody>\n",
       "</table>\n",
       "</div>"
      ],
      "text/plain": [
       "      mean       sem    left_ci   right_ci\n",
       "419  52.10  5.665535  40.995756  63.204244\n",
       "283  46.92  3.371918  40.311161  53.528839\n",
       "534  60.08  8.587325  43.249151  76.910849\n",
       "385  70.45  9.181529  52.454533  88.445467\n",
       "232  49.68  4.067905  41.707052  57.652948"
      ]
     },
     "execution_count": 17,
     "metadata": {},
     "output_type": "execute_result"
    }
   ],
   "source": [
    "from scipy.stats import norm\n",
    "z_value = norm.ppf(.975)\n",
    "sem = df_class.sem()\n",
    "df_class[\"left_ci\"] = df_class[\"mean\"]-(df_class[\"sem\"]*z_value)\n",
    "df_class[\"right_ci\"] = df_class[\"mean\"]+(df_class[\"sem\"]*z_value)\n",
    "\n",
    "\n",
    "df_class.sample(5)"
   ]
  },
  {
   "cell_type": "code",
   "execution_count": 18,
   "metadata": {
    "deletable": false,
    "editable": false,
    "nbgrader": {
     "cell_type": "code",
     "checksum": "1495d917447bffa31fc8041554e57c80",
     "grade": true,
     "grade_id": "cell-621e2757b30ebf38",
     "locked": true,
     "points": 1,
     "schema_version": 3,
     "solution": false,
     "task": false
    }
   },
   "outputs": [
    {
     "name": "stdout",
     "output_type": "stream",
     "text": [
      "🎉 All tests passed! 🎉\n",
      "\n"
     ]
    }
   ],
   "source": [
    "## == TEST CASES for Part 1,2,3 ==\n",
    "# - This read-only cell contains test cases for your previous cell.\n",
    "# - If this cell runs without any error our output, you PASSED all test cases!\n",
    "# - If this cell results in any errors, check you previous cell, make changes, and RE-RUN your code and then this cell.\n",
    "\n",
    "assert(len(df[\"size\"]) == len(df)), \"Make sure you added the correct size of each class.\"\n",
    "assert(len(df_class[\"mean\"]) == 1000), \"Make sure you create the right dataframe df_class.\"\n",
    "assert(len(df_class[\"sem\"]) == 1000), \"Make sure you create the right dataframe df_class.\"\n",
    "assert(len(df_class[\"left_ci\"]) == 1000), \"Make sure you create the right dataframe df_class.\"\n",
    "assert(len(df_class[\"right_ci\"]) == 1000), \"Make sure you create the right dataframe df_class.\"\n",
    "assert(abs((df_class[\"left_ci\"] +  df_class[\"right_ci\"]- 2*df_class[\"mean\"]).sum()) < 0.0001), \"The bound seems not to be right.\"\n",
    "\n",
    "\n",
    "## == SUCCESS MESSAGE ==\n",
    "# You will only see this message (with the emoji showing) if you passed all test cases:\n",
    "tada = \"\\N{PARTY POPPER}\"\n",
    "print(f\"{tada} All tests passed! {tada}\")\n",
    "print()\n"
   ]
  },
  {
   "cell_type": "code",
   "execution_count": null,
   "metadata": {},
   "outputs": [],
   "source": []
  },
  {
   "cell_type": "code",
   "execution_count": null,
   "metadata": {},
   "outputs": [],
   "source": []
  }
 ],
 "metadata": {
  "kernelspec": {
   "display_name": "Python 3",
   "language": "python",
   "name": "python3"
  },
  "language_info": {
   "codemirror_mode": {
    "name": "ipython",
    "version": 3
   },
   "file_extension": ".py",
   "mimetype": "text/x-python",
   "name": "python",
   "nbconvert_exporter": "python",
   "pygments_lexer": "ipython3",
   "version": "3.6.5"
  }
 },
 "nbformat": 4,
 "nbformat_minor": 2
}
