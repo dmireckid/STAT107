{
 "cells": [
  {
   "cell_type": "markdown",
   "metadata": {},
   "source": [
    "# EC Notebook for Lecture 8: Mean and Standard Deviation\n",
    "\n",
    "This extra credit Python notebook will let you practice the material you saw in lecture.  Completing all parts of this notebook will earn +1 extra credit point to your grade in STAT 107! :)\n",
    "\n",
    "This notebook is worth +1 if turned in before 11:30am on **Monday, Sept. 16** *(30 minutes before the next STAT 107 lecture)*.  You can feel free to complete it anytime for extra practice."
   ]
  },
  {
   "cell_type": "markdown",
   "metadata": {},
   "source": [
    "## 1. Loading pandas and importing data\n",
    "\n",
    "For this notebook, we will use the \"Hello\" dataset -- as we did in lecture 7 -- to answer a few questions on working with columns.\n",
    "\n",
    "Using your @illinois.edu address, you can access the \"Hello\" dataset here: https://docs.google.com/spreadsheets/d/1LB4E89GoVi5yezEfHhopbI5BMxodSG7VvoznkaAkMAQ/edit#gid=0"
   ]
  },
  {
   "cell_type": "code",
   "execution_count": null,
   "metadata": {
    "deletable": false,
    "nbgrader": {
     "cell_type": "code",
     "checksum": "191546019f2b7f6a4d7dad945c6bc792",
     "grade": false,
     "grade_id": "cell-cd5a39351d2266b0",
     "locked": false,
     "schema_version": 3,
     "solution": true,
     "task": false
    }
   },
   "outputs": [],
   "source": []
  },
  {
   "cell_type": "markdown",
   "metadata": {},
   "source": [
    "## 2. Spread of sleeping hours among Freshmen\n",
    "After coming to college, some people start burning the midnight oil from the very first day and hence sleep less. At the same time, there are few people who are still tired because of the celeberation they had after graduating from high school and hence sleep more. Let's find out what is the average and the spread of sleeping hours among freshmen in our class.\n",
    "\n",
    "### Question 1: \n",
    "Using the \"hello.csv\" dataset, calculate the mean and the standard deviation (std) in number of hours of sleep among freshmen. \n",
    "(Please note that \"std\" is a common abbreviation for standard deviation.)"
   ]
  },
  {
   "cell_type": "code",
   "execution_count": null,
   "metadata": {
    "deletable": false,
    "nbgrader": {
     "cell_type": "code",
     "checksum": "8eee592151aff7381de8a184599bdbfe",
     "grade": false,
     "grade_id": "cell-9b98c6ac7440756f",
     "locked": false,
     "schema_version": 3,
     "solution": true,
     "task": false
    }
   },
   "outputs": [],
   "source": [
    "freshmen_sleep_mean = ...\n",
    "freshmen_sleep_std = ...\n",
    "print(freshmen_sleep_mean)\n",
    "print(freshmen_sleep_std)\n",
    "\n"
   ]
  },
  {
   "cell_type": "markdown",
   "metadata": {},
   "source": [
    "Now, we are three weeks into the FALL 2019. With all the assignments piling up, our Freshmen friends are having a hard time catching up. Let's reduce their number of hours of sleep (by just 1 hour :) ) so that they don't look tired in Lincoln Hall Theatre (otherwise Wade and Karle will be worried).\n",
    "\n",
    "### Question 2:\n",
    "Subtract 1 from \"Hours of Sleep\" for Freshmen and recalculate the new mean and new standard deviation (std). Notice which quantity changes and which does not on recalculation."
   ]
  },
  {
   "cell_type": "code",
   "execution_count": null,
   "metadata": {
    "deletable": false,
    "nbgrader": {
     "cell_type": "code",
     "checksum": "e073d04dd9b08fead1007b01275bbdd8",
     "grade": false,
     "grade_id": "cell-a2a79acc8cdee472",
     "locked": false,
     "schema_version": 3,
     "solution": true,
     "task": false
    }
   },
   "outputs": [],
   "source": [
    "freshmen_sleep_mean_new = ...\n",
    "freshmen_sleep_std_new = ...\n",
    "print(freshmen_sleep_mean_new)\n",
    "print(freshmen_sleep_std_new)\n",
    "\n"
   ]
  },
  {
   "cell_type": "code",
   "execution_count": null,
   "metadata": {
    "deletable": false,
    "editable": false,
    "nbgrader": {
     "cell_type": "code",
     "checksum": "1fbfbea8292ad082d633f35dc4d8c6ab",
     "grade": true,
     "grade_id": "cell-5ab6337558dbb895",
     "locked": true,
     "points": 0,
     "schema_version": 3,
     "solution": false,
     "task": false
    }
   },
   "outputs": [],
   "source": [
    "## == TEST CASES for Puzzle 2 ==\n",
    "# - This read-only cell contains test cases for your previous cell.\n",
    "# - If this cell runs without any error our output, you PASSED all test cases!\n",
    "# - If this cell results in any errors, check you previous cell, make changes, and RE-RUN your code and then this cell.\n",
    "\n",
    "assert(int(freshmen_sleep_mean) == 7), \"This does not appear correct.\"\n",
    "assert(round(freshmen_sleep_std,2) == 0.81), \"This does not appear correct .\"\n",
    "assert(int(freshmen_sleep_mean_new) == 6), \"This does not appear correct.\"\n",
    "assert(round(freshmen_sleep_std_new,2) == 0.81),  \"This does not appear correct.\""
   ]
  },
  {
   "cell_type": "markdown",
   "metadata": {},
   "source": [
    "## Submit Your Work!\n",
    "\n",
    "Make sure to **Save and Checkpoint** your notebook, exit Jupyter, and submit your work! :)"
   ]
  }
 ],
 "metadata": {
  "kernelspec": {
   "display_name": "Python 3",
   "language": "python",
   "name": "python3"
  },
  "language_info": {
   "codemirror_mode": {
    "name": "ipython",
    "version": 3
   },
   "file_extension": ".py",
   "mimetype": "text/x-python",
   "name": "python",
   "nbconvert_exporter": "python",
   "pygments_lexer": "ipython3",
   "version": "3.7.3"
  }
 },
 "nbformat": 4,
 "nbformat_minor": 2
}
