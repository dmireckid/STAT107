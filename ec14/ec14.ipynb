{
 "cells": [
  {
   "cell_type": "markdown",
   "metadata": {},
   "source": [
    "# EC Notebook for Lecture 14: \n",
    "\n",
    "This extra credit Python notebook will let you practice the material you saw in lecture.  Completing all parts of this notebook will earn +1 extra credit point to your grade in STAT 107! :)\n",
    "\n",
    "This notebook is worth +1 if turned in before 11:30am on **Monday, Sept. 30** *(30 minutes before the next STAT 107 lecture)*.  You can feel free to complete it anytime for extra practice."
   ]
  },
  {
   "cell_type": "markdown",
   "metadata": {},
   "source": [
    "## 1. Loading pandas and importing data\n",
    "\n",
    "For this notebook, we will use the \"Probability Words\" dataset -- to answer a few questions on probabilities.\n",
    "\n",
    "You can find this dataset here:\n",
    "https://docs.google.com/spreadsheets/d/18zQc-cYb376QA478lgWnMbQj39M9wVqHtjbvLP0PTSc/edit#gid=0"
   ]
  },
  {
   "cell_type": "code",
   "execution_count": null,
   "metadata": {
    "deletable": false,
    "nbgrader": {
     "cell_type": "code",
     "checksum": "58f5ffc6e5d1b48d766b36e248c3d48f",
     "grade": false,
     "grade_id": "cell-f1a1e86012dbeeaf",
     "locked": false,
     "schema_version": 3,
     "solution": true,
     "task": false
    }
   },
   "outputs": [],
   "source": [
    "df = ...\n",
    "\n"
   ]
  },
  {
   "cell_type": "markdown",
   "metadata": {},
   "source": [
    "## Question 1\n",
    "\n",
    "Let's explore a connection between percentage and probability.\n",
    "\n",
    "Each row in our \"Probability Words\" dataset is one person's response to their perception of probability words.  If we selected one from the class at random, what is the probability that their perception of \"Almost Certain\" is 90% or higher?\n",
    "\n",
    "*Hint: You may need to use* `len(df)` *to find out how many people rows are in a DataFrame after selecting for a certain condition.*"
   ]
  },
  {
   "cell_type": "code",
   "execution_count": null,
   "metadata": {
    "deletable": false,
    "nbgrader": {
     "cell_type": "code",
     "checksum": "f70492789af992dc8494b1c7295875e1",
     "grade": false,
     "grade_id": "cell-b21768c2c44e7d30",
     "locked": false,
     "schema_version": 3,
     "solution": true,
     "task": false
    }
   },
   "outputs": [],
   "source": [
    "p_almost_certain_90 = ...\n",
    "p_almost_certain_90\n",
    "\n"
   ]
  },
  {
   "cell_type": "code",
   "execution_count": null,
   "metadata": {
    "deletable": false,
    "editable": false,
    "nbgrader": {
     "cell_type": "code",
     "checksum": "1c1c30f6ed91a91e318a1a46f7ff7597",
     "grade": true,
     "grade_id": "cell-e3dc4d39ea8750f4",
     "locked": true,
     "points": 0,
     "schema_version": 3,
     "solution": false,
     "task": false
    }
   },
   "outputs": [],
   "source": [
    "## == TEST CASES for Puzzle 2 ==\n",
    "# - This read-only cell contains test cases for your previous cell.\n",
    "# - If this cell runs without any error our output, you PASSED all test cases!\n",
    "# - If this cell results in any errors, check you previous cell, make changes, and RE-RUN your code and then this cell.\n",
    "\n",
    "assert(round(p_almost_certain_90,3)== 0.708)\n",
    "\n",
    "#\n",
    "# You will only see this message (with the emoji showing) if you passed all test cases:\n",
    "#\n",
    "tada = \"\\N{PARTY POPPER}\"\n",
    "print(f\"{tada} All tests passed! {tada}\")"
   ]
  },
  {
   "cell_type": "markdown",
   "metadata": {},
   "source": [
    "## Question 2\n",
    "\n",
    "Now, let's work with random numbers. Remember to ***import random***.\n",
    "\n",
    "- Let us represent a coin flip as a `0` or `1`.\n",
    "  * `0` for heads\n",
    "  * `1` for tails\n",
    "\n",
    "Randomly generate 10 coin flips in `toss1` through `toss10`:"
   ]
  },
  {
   "cell_type": "code",
   "execution_count": null,
   "metadata": {
    "deletable": false,
    "nbgrader": {
     "cell_type": "code",
     "checksum": "f17d2a16abe71fb777d95dd59fdd29b5",
     "grade": false,
     "grade_id": "cell-ee061eb490645b6f",
     "locked": false,
     "schema_version": 3,
     "solution": true,
     "task": false
    }
   },
   "outputs": [],
   "source": [
    "# import random first\n",
    "\n",
    "# Now, coin tossing\n",
    "toss1 = ...\n",
    "toss2 = ...\n",
    "toss3 = ...\n",
    "toss4 = ...\n",
    "toss5 = ...\n",
    "toss6 = ...\n",
    "toss7 = ...\n",
    "toss8 = ...\n",
    "toss9 = ...\n",
    "toss10 = ...\n",
    "\n",
    "\n",
    "\n",
    "# Some basic calculations based on your tosses:\n",
    "heads_ct = toss1 + toss2 + toss3 + toss4 + toss5 + toss6+ toss7 + toss8 + toss9 + toss10\n",
    "tails_ct = 10 - heads_ct\n",
    "probability_head = heads_ct / 10\n",
    "\n",
    "print(f\"Number of heads: {heads_ct}\")\n",
    "print(f\"Number of tails: {tails_ct}\")\n",
    "print()\n",
    "print(f\"P(head) from your 10 tosses: {probability_head}\")"
   ]
  },
  {
   "cell_type": "markdown",
   "metadata": {},
   "source": [
    "## Run it Again\n",
    "\n",
    "Run the previous cell several times -- watch how the numbers differ! :)"
   ]
  },
  {
   "cell_type": "code",
   "execution_count": null,
   "metadata": {
    "deletable": false,
    "editable": false,
    "nbgrader": {
     "cell_type": "code",
     "checksum": "140712345ed468c69d9ad523a4e51513",
     "grade": true,
     "grade_id": "cell-a0e0e65e61139ea8",
     "locked": true,
     "points": 0,
     "schema_version": 3,
     "solution": false,
     "task": false
    }
   },
   "outputs": [],
   "source": [
    "## == TEST CASES for Puzzle 2 ==\n",
    "# - This read-only cell contains test cases for your previous cell.\n",
    "# - If this cell runs without any error our output, you PASSED all test cases!\n",
    "# - If this cell results in any errors, check you previous cell, make changes, and RE-RUN your code and then this cell.\n",
    "\n",
    "assert((0 <= probability_head) and (probability_head <= 1)), \"The probability is always between 0 and 1, isn't it?\"\n",
    "\n",
    "#\n",
    "# You will only see this message (with the emoji showing) if you passed all test cases:\n",
    "#\n",
    "tada = \"\\N{PARTY POPPER}\"\n",
    "print(f\"{tada} All tests passed! {tada}\")"
   ]
  },
  {
   "cell_type": "markdown",
   "metadata": {},
   "source": [
    "Interested in Magic! Run your simulation again and see if the probability of heads changes or not!\n",
    "What could be the possible reason. You don't have to answer it here, just think about it!"
   ]
  },
  {
   "cell_type": "markdown",
   "metadata": {},
   "source": [
    "## Submit Your Work!\n",
    "\n",
    "Make sure to **Save and Checkpoint** your notebook, exit Jupyter, and submit your work! :)"
   ]
  }
 ],
 "metadata": {
  "kernelspec": {
   "display_name": "Python 3",
   "language": "python",
   "name": "python3"
  },
  "language_info": {
   "codemirror_mode": {
    "name": "ipython",
    "version": 3
   },
   "file_extension": ".py",
   "mimetype": "text/x-python",
   "name": "python",
   "nbconvert_exporter": "python",
   "pygments_lexer": "ipython3",
   "version": "3.6.4"
  }
 },
 "nbformat": 4,
 "nbformat_minor": 2
}
