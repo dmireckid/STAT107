{
 "cells": [
  {
   "cell_type": "markdown",
   "metadata": {},
   "source": [
    "# EC Notebook for Lecture 4: Blocking and Conditionals\n",
    "\n",
    "This extra credit Python notebook will let you practice the material you saw in lecture!  Completing all parts of this notebook will earn +1 extra credit point to your grade in STAT 107!\n",
    "\n",
    "This notebook is worth +1 if turned in before 11:30am on **Friday, Sept. 6** *(30 minutes before the next STAT 107 lecture)*.  You can feel free to complete it anytime for extra practice."
   ]
  },
  {
   "cell_type": "markdown",
   "metadata": {},
   "source": [
    "## 1. Loading pandas and importing data\n",
    "\n",
    "For this notebook, we will continue to use the \"Hello\" dataset introduced last lecture!\n",
    "\n",
    "Using your @illinois.edu address, download the dataset as a CSV and **make sure to save or move it to the same directory as this notebook**: https://docs.google.com/spreadsheets/d/1LB4E89GoVi5yezEfHhopbI5BMxodSG7VvoznkaAkMAQ/edit#gid=0\n",
    "\n",
    "Use the following cell to load the pandas library and read the DataSet as a DataFrame:"
   ]
  },
  {
   "cell_type": "code",
   "execution_count": null,
   "metadata": {
    "deletable": false,
    "nbgrader": {
     "cell_type": "code",
     "checksum": "05ecc3320cf00f7a1ea3562400e8fd6c",
     "grade": false,
     "grade_id": "cell-7543f21c9c406c26",
     "locked": false,
     "schema_version": 3,
     "solution": true,
     "task": false
    }
   },
   "outputs": [],
   "source": [
    "...\n"
   ]
  },
  {
   "cell_type": "markdown",
   "metadata": {},
   "source": [
    "## 2. Finising the Lecture Problem\n",
    "\n",
    "In lecture, we left you with a final puzzle.  From the lecture handout:\n",
    "\n",
    "> Use Python to create a control group of 20 students, using blocking to control for the influence we suspect having more than 1 siblings might have.  Make sure you have an equal number of students with 0 or 1 sibling and an equal number of students with 2 or more siblings.\n",
    "\n",
    "We will complete this in four separate steps to get practice on each part.\n",
    "\n",
    "#### 2.1: Sibling Block #1\n",
    "\n",
    "Creating a DataFrame that contains all students with 0 or 1 siblings and call it `block1`:"
   ]
  },
  {
   "cell_type": "code",
   "execution_count": null,
   "metadata": {
    "deletable": false,
    "nbgrader": {
     "cell_type": "code",
     "checksum": "562774e7d25d51ce736076639c8b884c",
     "grade": false,
     "grade_id": "cell-42b76d09e5d1ea90",
     "locked": false,
     "schema_version": 3,
     "solution": true,
     "task": false
    }
   },
   "outputs": [],
   "source": [
    "block1 = ...\n",
    "block1\n"
   ]
  },
  {
   "cell_type": "markdown",
   "metadata": {},
   "source": [
    "#### 2.2: Sibling Block #2\n",
    "\n",
    "Create a DataFrame that contains all students with 2 or more siblings and call it `block2`:"
   ]
  },
  {
   "cell_type": "code",
   "execution_count": null,
   "metadata": {
    "deletable": false,
    "nbgrader": {
     "cell_type": "code",
     "checksum": "951d901b83a0158bec059d8c3434a5b0",
     "grade": false,
     "grade_id": "cell-ad3eef9bc1500907",
     "locked": false,
     "schema_version": 3,
     "solution": true,
     "task": false
    }
   },
   "outputs": [],
   "source": [
    "block2 = ...\n",
    "block2\n"
   ]
  },
  {
   "cell_type": "markdown",
   "metadata": {},
   "source": [
    "#### 2.3: Selecting equal groups from block1 and block2\n",
    "\n",
    "**Randomly** select an equal number of students from each of `block1` and `block2` and store them in `control1` and `control2`.  We will combine both groups to make the full control group:"
   ]
  },
  {
   "cell_type": "code",
   "execution_count": null,
   "metadata": {
    "deletable": false,
    "nbgrader": {
     "cell_type": "code",
     "checksum": "6b6a7e0531178216436bb865f89ae5b5",
     "grade": false,
     "grade_id": "cell-71025862479973ff",
     "locked": false,
     "schema_version": 3,
     "solution": true,
     "task": false
    }
   },
   "outputs": [],
   "source": [
    "control1 = ...\n",
    "control1\n"
   ]
  },
  {
   "cell_type": "code",
   "execution_count": null,
   "metadata": {
    "deletable": false,
    "nbgrader": {
     "cell_type": "code",
     "checksum": "1b0d34bb557d196a98ec64592e1b67d9",
     "grade": false,
     "grade_id": "cell-0a28afaa87e1114d",
     "locked": false,
     "schema_version": 3,
     "solution": true,
     "task": false
    }
   },
   "outputs": [],
   "source": [
    "control2 = ...\n",
    "control2\n"
   ]
  },
  {
   "cell_type": "markdown",
   "metadata": {},
   "source": [
    "#### 2.4. Combine the two sub-groups into a single control group\n",
    "\n",
    "Use the following code to merge the contents of `control1` and `control2` together into one large group called `control`:"
   ]
  },
  {
   "cell_type": "code",
   "execution_count": null,
   "metadata": {
    "deletable": false,
    "nbgrader": {
     "cell_type": "code",
     "checksum": "187726bbbafc50b2db221cedc40ddb91",
     "grade": false,
     "grade_id": "cell-f5b1dce206b67c5a",
     "locked": false,
     "schema_version": 3,
     "solution": true,
     "task": false
    }
   },
   "outputs": [],
   "source": []
  },
  {
   "cell_type": "code",
   "execution_count": null,
   "metadata": {
    "deletable": false,
    "editable": false,
    "nbgrader": {
     "cell_type": "code",
     "checksum": "2859c6247270fd0a256ac775feca61a2",
     "grade": true,
     "grade_id": "cell-78cde41a46e52f67",
     "locked": true,
     "points": 0,
     "schema_version": 3,
     "solution": false,
     "task": false
    }
   },
   "outputs": [],
   "source": [
    "## == TEST CASES for Puzzle 2 ==\n",
    "# - This read-only cell contains test cases for your previous cell.\n",
    "# - If this cell runs without any error our output, you PASSED all test cases!\n",
    "# - If this cell results in any errors, check you previous cell, make changes, and RE-RUN your code and then this cell.\n",
    "\n",
    "assert( len(control) == 20 ), \"Your control group must only have 20 courses in it.\"\n",
    "assert( len(control[control.Siblings < 2] ) == 10 ), \"Your control group must only have 10 people with 0-1 siblings in it.\"\n",
    "assert( len(control[control.Siblings >= 2] ) == 10 ), \"Your control group must only have 10 people with 2+ siblings in it.\""
   ]
  },
  {
   "cell_type": "markdown",
   "metadata": {},
   "source": [
    "## 3. Create a treatment group\n",
    "\n",
    "Let's extend what you did onto a new topic.  Using this week's dataset, the course catalog at Illinois, use Python to create a treatment group of 10 courses, using blocking to control for the influence we suspect being an upper-level course might have.\n",
    "\n",
    "An upper-level course is a course that has a number course number of 300 or higher.  Make sure you have an equal number of lower-level and upper-level courses in your final treatment group.\n",
    "\n",
    "You can find the course catalog dataset here: https://docs.google.com/spreadsheets/d/1ZnpZpipyui_zIIBblmalRYiyEG1glUKinqJtQxVL04o/edit#gid=0\n",
    "\n",
    "You have several cells to work in if you need them.  The only requirement is that your final treatment group must be randomly selected and be stored in the variable `treatment`."
   ]
  },
  {
   "cell_type": "code",
   "execution_count": null,
   "metadata": {
    "deletable": false,
    "nbgrader": {
     "cell_type": "code",
     "checksum": "598bf47035da3d01d4ebee3459f6f4d6",
     "grade": false,
     "grade_id": "cell-3c72e431e5e37750",
     "locked": false,
     "schema_version": 3,
     "solution": true,
     "task": false
    }
   },
   "outputs": [],
   "source": []
  },
  {
   "cell_type": "code",
   "execution_count": null,
   "metadata": {
    "deletable": false,
    "nbgrader": {
     "cell_type": "code",
     "checksum": "3d7f8d35e2c67bdc9562a053fefd3d6b",
     "grade": false,
     "grade_id": "cell-ddcd363538ddaefb",
     "locked": false,
     "schema_version": 3,
     "solution": true,
     "task": false
    }
   },
   "outputs": [],
   "source": []
  },
  {
   "cell_type": "code",
   "execution_count": null,
   "metadata": {
    "deletable": false,
    "nbgrader": {
     "cell_type": "code",
     "checksum": "8b38e519dab0437824edda7e1c7450ce",
     "grade": false,
     "grade_id": "cell-600e3e734fc2a695",
     "locked": false,
     "schema_version": 3,
     "solution": true,
     "task": false
    }
   },
   "outputs": [],
   "source": [
    "# Make sure your final answer is in `treatment`:\n",
    "treatment = ...\n",
    "treatment\n",
    "\n"
   ]
  },
  {
   "cell_type": "code",
   "execution_count": null,
   "metadata": {
    "deletable": false,
    "editable": false,
    "nbgrader": {
     "cell_type": "code",
     "checksum": "71e38443b9546a1ee541fec0e04442d4",
     "grade": true,
     "grade_id": "cell-1b422f5e6c77b87e",
     "locked": true,
     "points": 0,
     "schema_version": 3,
     "solution": false,
     "task": false
    }
   },
   "outputs": [],
   "source": [
    "## == TEST CASES for Puzzle 3 ==\n",
    "# - This read-only cell contains test cases for your previous cell.\n",
    "# - If this cell runs without any error our output, you PASSED all test cases!\n",
    "# - If this cell results in any errors, check you previous cell, make changes, and RE-RUN your code and then this cell.\n",
    "\n",
    "assert( len(treatment) == 10 ), \"Your treatment group must only have 10 courses in it.\"\n",
    "assert( len(treatment[treatment.Number < 300] ) == 5 ), \"Your treatment group must only have 5 lower-level courses in it.\"\n",
    "assert( len(treatment[treatment.Number >= 300] ) == 5 ), \"Your treatment group must only have 5 upper-level courses in it.\""
   ]
  },
  {
   "cell_type": "markdown",
   "metadata": {},
   "source": [
    "## Submit Your Work!\n",
    "\n",
    "Make sure to **Save and Checkpoint** your notebook, exit Jupyter, and submit your work! :)"
   ]
  }
 ],
 "metadata": {
  "kernelspec": {
   "display_name": "Python 3",
   "language": "python",
   "name": "python3"
  },
  "language_info": {
   "codemirror_mode": {
    "name": "ipython",
    "version": 3
   },
   "file_extension": ".py",
   "mimetype": "text/x-python",
   "name": "python",
   "nbconvert_exporter": "python",
   "pygments_lexer": "ipython3",
   "version": "3.6.4"
  }
 },
 "nbformat": 4,
 "nbformat_minor": 2
}
