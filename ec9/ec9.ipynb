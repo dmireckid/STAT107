{
 "cells": [
  {
   "cell_type": "markdown",
   "metadata": {},
   "source": [
    "# EC Notebook for Lecture 9: Grouping Data in Pandas\n",
    "\n",
    "This extra credit Python notebook will let you practice the material you saw in lecture.  Completing all parts of this notebook will earn +1 extra credit point to your grade in STAT 107! :)\n",
    "\n",
    "This notebook is worth +1 if turned in before 11:30am on **Wednesday, Sept. 18** *(30 minutes before the next STAT 107 lecture)*.  You can feel free to complete it anytime for extra practice."
   ]
  },
  {
   "cell_type": "markdown",
   "metadata": {},
   "source": [
    "## 1. Importing pandas and reading data\n",
    "For this notebook, we will use the Illinois GPA Distribution dataset -- as we did in lecture -- to answer a few questions on working with columns.\n",
    "\n",
    "You can access the \"GPA\" dataset here: https://github.com/wadefagen/datasets/tree/master/gpa"
   ]
  },
  {
   "cell_type": "code",
   "execution_count": null,
   "metadata": {
    "deletable": false,
    "nbgrader": {
     "cell_type": "code",
     "checksum": "77c082edcba47ffbb2b62e611ae20f73",
     "grade": false,
     "grade_id": "cell-9aafb896bbc8e800",
     "locked": false,
     "schema_version": 3,
     "solution": true,
     "task": false
    }
   },
   "outputs": [],
   "source": []
  },
  {
   "cell_type": "markdown",
   "metadata": {},
   "source": [
    "## 2. Review: Boolean Logic and Conditionals\n",
    "The Illinois CS and STAT Students Centers want to calculate the number of students who did an excellent job in the courses of CS and STAT. In this case, they define those who got an \"A+\" or \"A\" are excellent. Also, considering the course difficulty, they think those who got an \"A-\" in advanced-level courses (course level >= 400) should be counted in excellent students. Can you help them to get the number?\n",
    "\n",
    "### Question 1: \n",
    "Using the GPA dataset, calculate the number of students who got \"A+\" or \"A\" (in all level CS and STAT courses) or \"A-\" (only in advanced-level CS and STAT courses) in the DataFrame `df`. "
   ]
  },
  {
   "cell_type": "code",
   "execution_count": null,
   "metadata": {
    "deletable": false,
    "nbgrader": {
     "cell_type": "code",
     "checksum": "bcdb0f5a5e3fae3a4ccefa5594d0072d",
     "grade": false,
     "grade_id": "cell-c0705f665f8b46dd",
     "locked": false,
     "schema_version": 3,
     "solution": true,
     "task": false
    }
   },
   "outputs": [],
   "source": [
    "num_excellent_students = ...\n",
    "print(num_excellent_students)\n",
    "\n"
   ]
  },
  {
   "cell_type": "code",
   "execution_count": null,
   "metadata": {
    "deletable": false,
    "editable": false,
    "nbgrader": {
     "cell_type": "code",
     "checksum": "c00c82d49f2b6c5cb53db1d1b8cf849a",
     "grade": true,
     "grade_id": "cell-98d118325ba78938",
     "locked": true,
     "points": 1,
     "schema_version": 3,
     "solution": false,
     "task": false
    }
   },
   "outputs": [],
   "source": [
    "## == TEST CASES for Question 2 ==\n",
    "# - This read-only cell contains test cases for your previous cell.\n",
    "# - If this cell runs without any error our output, you PASSED all test cases!\n",
    "# - If this cell results in any errors, check you previous cell, make changes, and RE-RUN your code and then this cell.\n",
    "\n",
    "assert(num_excellent_students == 87191), \"The number does not appear correct.\""
   ]
  },
  {
   "cell_type": "markdown",
   "metadata": {},
   "source": [
    "## 3. Review: Adding a New Variable (column)\n",
    "Thanks to your great job, CS and STAT Students Centers know better about their courses. And they recommend you to other departments' students center, so they're all coming to ask you for a favor. This time they are curious about the percentage of students who got \"F\" in each course.\n",
    "\n",
    "### Question 2: \n",
    "Using the GPA dataset, calculate the number of students who got \"F\" of each course and add a new column titled `F rate`. To test your correctness, print the average `F rate` of all the courses."
   ]
  },
  {
   "cell_type": "code",
   "execution_count": null,
   "metadata": {
    "deletable": false,
    "nbgrader": {
     "cell_type": "code",
     "checksum": "10c0b5d03d3c1941f1154020c316fbd7",
     "grade": false,
     "grade_id": "cell-e0c17bd27629d741",
     "locked": false,
     "schema_version": 3,
     "solution": true,
     "task": false
    }
   },
   "outputs": [],
   "source": [
    "df['F rate'] = ...\n",
    "avg_f_rate = ...\n",
    "avg_f_rate\n",
    "\n"
   ]
  },
  {
   "cell_type": "code",
   "execution_count": null,
   "metadata": {
    "deletable": false,
    "editable": false,
    "nbgrader": {
     "cell_type": "code",
     "checksum": "7b626b7f861eeeddc295b2e2d6dc78b8",
     "grade": true,
     "grade_id": "cell-576f5fd03e1f7da2",
     "locked": true,
     "points": 1,
     "schema_version": 3,
     "solution": false,
     "task": false
    }
   },
   "outputs": [],
   "source": [
    "## == TEST CASES for Question 2 ==\n",
    "# - This read-only cell contains test cases for your previous cell.\n",
    "# - If this cell runs without any error our output, you PASSED all test cases!\n",
    "# - If this cell results in any errors, check you previous cell, make changes, and RE-RUN your code and then this cell.\n",
    "\n",
    "assert(abs(avg_f_rate - 0.017564803426637177) < 0.01), \"The rate does not appear correct.\""
   ]
  }
 ],
 "metadata": {
  "kernelspec": {
   "display_name": "Python 3",
   "language": "python",
   "name": "python3"
  },
  "language_info": {
   "codemirror_mode": {
    "name": "ipython",
    "version": 3
   },
   "file_extension": ".py",
   "mimetype": "text/x-python",
   "name": "python",
   "nbconvert_exporter": "python",
   "pygments_lexer": "ipython3",
   "version": "3.7.3"
  }
 },
 "nbformat": 4,
 "nbformat_minor": 2
}
