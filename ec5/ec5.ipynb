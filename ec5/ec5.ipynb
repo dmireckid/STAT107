{
 "cells": [
  {
   "cell_type": "markdown",
   "metadata": {},
   "source": [
    "# EC Notebook for Lecture 5: Combining DataFrames\n",
    "\n",
    "This extra credit Python notebook will let you practice the material you saw in lecture.  Completing all parts of this notebook will earn +1 extra credit point to your grade in STAT 107! :)\n",
    "\n",
    "This notebook is worth +1 if turned in before 11:30am on **Monday, Sept. 9** *(30 minutes before the next STAT 107 lecture)*.  You can feel free to complete it anytime for extra practice."
   ]
  },
  {
   "cell_type": "markdown",
   "metadata": {},
   "source": [
    "## 1. Loading pandas and importing data\n",
    "\n",
    "For this notebook, we will use the \"Course Catalog\" dataset that is our dataset of the week.\n",
    "\n",
    "Here's the link: https://docs.google.com/spreadsheets/d/1ZnpZpipyui_zIIBblmalRYiyEG1glUKinqJtQxVL04o/edit#gid=0\n",
    "\n",
    "Use the following cell to load the pandas library and read the DataSet as a DataFrame:"
   ]
  },
  {
   "cell_type": "code",
   "execution_count": null,
   "metadata": {
    "deletable": false,
    "nbgrader": {
     "cell_type": "code",
     "checksum": "3c2ac90e8db79ba13a8915edbda6f6d8",
     "grade": false,
     "grade_id": "cell-ba4c939dda92ddf8",
     "locked": false,
     "schema_version": 3,
     "solution": true,
     "task": false
    }
   },
   "outputs": [],
   "source": [
    "...\n"
   ]
  },
  {
   "cell_type": "markdown",
   "metadata": {},
   "source": [
    "## 2. Selecting all SUBJ 100 and SUBJ 101\n",
    "\n",
    "In many subjects, 100 and 101 courses serve as freshman entry-level courses.  Create single DataFrame called `entryCourses` that contains all courses with numbers `100` or `101`.  *There are MANY different ways you can do this, including using `df.merge` if needed.*"
   ]
  },
  {
   "cell_type": "code",
   "execution_count": null,
   "metadata": {
    "deletable": false,
    "nbgrader": {
     "cell_type": "code",
     "checksum": "64aa3f6a2d053a7cb52e4911d3e07969",
     "grade": false,
     "grade_id": "cell-ca1503cca7507a80",
     "locked": false,
     "schema_version": 3,
     "solution": true,
     "task": false
    }
   },
   "outputs": [],
   "source": [
    "\n",
    "\n",
    "entryCourses = ...\n",
    "entryCourses\n"
   ]
  },
  {
   "cell_type": "code",
   "execution_count": null,
   "metadata": {
    "deletable": false,
    "editable": false,
    "nbgrader": {
     "cell_type": "code",
     "checksum": "016f60699a0d107f84dfebb58e77ebca",
     "grade": true,
     "grade_id": "cell-51c14f7e00a20667",
     "locked": true,
     "points": 1,
     "schema_version": 3,
     "solution": false,
     "task": false
    }
   },
   "outputs": [],
   "source": [
    "## == TEST CASES for Puzzle 2 ==\n",
    "# - This read-only cell contains test cases for your previous cell.\n",
    "# - If this cell runs without any error our output, you PASSED all test cases!\n",
    "# - If this cell results in any errors, check you previous cell, make changes, and RE-RUN your code and then this cell.\n",
    "assert( len(entryCourses) == 114 or len(entryCourses) == 116 ), \"`entryCourses` must contain all 114 entry-level courses.\"\n",
    "assert( len(entryCourses[entryCourses.Number == 100] ) == 48 ), \"`entryCourses` must contain all 48 courses as SUBJ `100`.\""
   ]
  },
  {
   "cell_type": "markdown",
   "metadata": {},
   "source": [
    "## 3. Creating a `control` and `treatment` group\n",
    "\n",
    "Using the `entryCourses` you created in Puzzle 2, create a `treatment` and `control` group that each contain 50 random courses to use an experiment you are developing.\n",
    "\n",
    "*Remember: A course cannot be in both a treatment and control group!*"
   ]
  },
  {
   "cell_type": "code",
   "execution_count": null,
   "metadata": {
    "deletable": false,
    "nbgrader": {
     "cell_type": "code",
     "checksum": "d17b0e12b2d45f5648b9e96bc3766750",
     "grade": false,
     "grade_id": "cell-8ba4be23607128e9",
     "locked": false,
     "schema_version": 3,
     "solution": true,
     "task": false
    }
   },
   "outputs": [],
   "source": [
    "# Create the control group:\n",
    "\n",
    "\n",
    "control = ...\n",
    "control\n",
    "\n"
   ]
  },
  {
   "cell_type": "code",
   "execution_count": null,
   "metadata": {
    "deletable": false,
    "nbgrader": {
     "cell_type": "code",
     "checksum": "fa0e8255f67b6a45b1aa73f853853655",
     "grade": false,
     "grade_id": "cell-e2fbfed754aeba62",
     "locked": false,
     "schema_version": 3,
     "solution": true,
     "task": false
    }
   },
   "outputs": [],
   "source": [
    "# Create the treatment group:\n",
    "\n",
    "\n",
    "treatment = ...\n",
    "treatment\n",
    "\n"
   ]
  },
  {
   "cell_type": "code",
   "execution_count": null,
   "metadata": {
    "deletable": false,
    "editable": false,
    "nbgrader": {
     "cell_type": "code",
     "checksum": "194392880b3bac169ffd70a8caa26eb9",
     "grade": true,
     "grade_id": "cell-8d7d473f143588c7",
     "locked": true,
     "points": 1,
     "schema_version": 3,
     "solution": false,
     "task": false
    }
   },
   "outputs": [],
   "source": [
    "## == TEST CASES for Puzzle 3 ==\n",
    "# - This read-only cell contains test cases for your previous cell.\n",
    "# - If this cell runs without any error our output, you PASSED all test cases!\n",
    "# - If this cell results in any errors, check you previous cell, make changes, and RE-RUN your code and then this cell.\n",
    "\n",
    "assert( len(control) == 50 ), \"The control group must contain exactly 50 courses.\"\n",
    "assert( len(treatment) == 50 ), \"The control group must contain exactly 50 courses.\"\n",
    "\n",
    "assert( len(control[control.Number > 101] ) == 0 ), \"`control` must contain only entry-level courses.\"\n",
    "assert( len(treatment[treatment.Number > 101] ) == 0 ), \"`treatment` must contain only entry-level courses.\"\n",
    "\n",
    "assert( len(pd.merge(control, treatment, how='inner', on=['Subject', 'Number'])) == 0 ), \"Courses in `treatment` and `control` must be different.\""
   ]
  },
  {
   "cell_type": "markdown",
   "metadata": {},
   "source": [
    "## Submit Your Work!\n",
    "\n",
    "Make sure to **Save and Checkpoint** your notebook, exit Jupyter, and submit your work! :)"
   ]
  }
 ],
 "metadata": {
  "kernelspec": {
   "display_name": "Python 3",
   "language": "python",
   "name": "python3"
  },
  "language_info": {
   "codemirror_mode": {
    "name": "ipython",
    "version": 3
   },
   "file_extension": ".py",
   "mimetype": "text/x-python",
   "name": "python",
   "nbconvert_exporter": "python",
   "pygments_lexer": "ipython3",
   "version": "3.6.4"
  }
 },
 "nbformat": 4,
 "nbformat_minor": 2
}
