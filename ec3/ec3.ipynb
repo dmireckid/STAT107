{
 "cells": [
  {
   "cell_type": "markdown",
   "metadata": {
    "deletable": false,
    "editable": false,
    "nbgrader": {
     "cell_type": "markdown",
     "checksum": "a862ce8220ac4e8d22bdee03377751c6",
     "grade": false,
     "grade_id": "cell-3bfb6e0a50de25ea",
     "locked": true,
     "schema_version": 3,
     "solution": false,
     "task": false
    }
   },
   "source": [
    "# EC Notebook for Lecture 3: Ideal Experimental Design + Row Selection\n",
    "\n",
    "This extra credit Python notebook will let you practice the material you saw in lecture!  Completing all parts of this notebook will earn +1 extra credit point to your grade in STAT 107!\n",
    "\n",
    "This notebook is due at 11:30am on **Wednesday, Sept. 4** *(30 minutes before the next STAT 107 lecture)*."
   ]
  },
  {
   "cell_type": "markdown",
   "metadata": {
    "deletable": false,
    "editable": false,
    "nbgrader": {
     "cell_type": "markdown",
     "checksum": "e4a4b04f052319a0f50e1dbfad250d71",
     "grade": false,
     "grade_id": "cell-c258574651c23b52",
     "locked": true,
     "schema_version": 3,
     "solution": false,
     "task": false
    }
   },
   "source": [
    "## 1. Import the `pandas` library as `pd`\n",
    "\n",
    "Using the code you learned in class, import the pandas library:"
   ]
  },
  {
   "cell_type": "code",
   "execution_count": null,
   "metadata": {
    "deletable": false,
    "nbgrader": {
     "cell_type": "code",
     "checksum": "0fa72a046b90ce8494294a7832a97692",
     "grade": false,
     "grade_id": "cell-1be8ed504370241a",
     "locked": false,
     "schema_version": 3,
     "solution": true,
     "task": false
    }
   },
   "outputs": [],
   "source": [
    "...\n"
   ]
  },
  {
   "cell_type": "code",
   "execution_count": null,
   "metadata": {
    "deletable": false,
    "editable": false,
    "nbgrader": {
     "cell_type": "code",
     "checksum": "91d8773dbe441062c4615e073e2bd227",
     "grade": true,
     "grade_id": "cell-c481f083b4feb329",
     "locked": true,
     "points": 1,
     "schema_version": 3,
     "solution": false,
     "task": false
    }
   },
   "outputs": [],
   "source": [
    "## == TEST CASES ==\n",
    "# - This read-only cell contains test cases for your previous cell.\n",
    "# - If this cell runs without any error our output, you PASSED all test cases!\n",
    "# - If this cell results in any errors, check you previous cell, make changes, and RE-RUN your code and then this cell.\n",
    "\n",
    "# Test #1:\n",
    "# - This uses the `pd` (pandas) library to create a DataFrame.  This line will fail if `pd` has not been imported:\n",
    "result = pd.DataFrame()"
   ]
  },
  {
   "cell_type": "markdown",
   "metadata": {
    "deletable": false,
    "editable": false,
    "nbgrader": {
     "cell_type": "markdown",
     "checksum": "7fcea0da9d6fe68f4c89fe43761c7696",
     "grade": false,
     "grade_id": "cell-0e1d1a1002f25c79",
     "locked": true,
     "schema_version": 3,
     "solution": false,
     "task": false
    }
   },
   "source": [
    "## 2. Load the \"Hello Dataset\"\n",
    "\n",
    "As part of the first lecture, we created a dataset for this course!\n",
    "\n",
    "1. The dataset can be found here: https://docs.google.com/spreadsheets/d/1LB4E89GoVi5yezEfHhopbI5BMxodSG7VvoznkaAkMAQ/edit#gid=0\n",
    "\n",
    "\n",
    "2. Download the dataset as a CSV:\n",
    "\n",
    "  * In lecture you learned that Comma-Separated Values (CSV) files are an easy format for Data Science tools like Python to read.\n",
    "  * Use the **File -> Download** menu to choose the format you want to download your data in from Google Sheets.\n",
    "  * Once downloaded, move the file from your \"Downloads\" to the same directory as this Python Notebook.  If you use the recommended file location, the location will be: **Your Desktop -> stat107 -> netid -> ec3**.\n",
    "\n",
    "\n",
    "3. Run the next cell to load the dataset into Python into the variable name `df`. \n",
    "\n",
    "  * The file name you are loading must **EXACTLY MATCH** the file name on your computer, including capitalization.  You will need to edit the code (or the downloaded file name) so the file name matches."
   ]
  },
  {
   "cell_type": "code",
   "execution_count": null,
   "metadata": {
    "deletable": false,
    "nbgrader": {
     "cell_type": "code",
     "checksum": "93d5a4cb627966d3e2f0ef0c27fb5bb4",
     "grade": false,
     "grade_id": "cell-92f9663de5efb2a7",
     "locked": false,
     "schema_version": 3,
     "solution": true,
     "task": false
    }
   },
   "outputs": [],
   "source": []
  },
  {
   "cell_type": "code",
   "execution_count": null,
   "metadata": {
    "deletable": false,
    "editable": false,
    "nbgrader": {
     "cell_type": "code",
     "checksum": "8c091109d0434376b92912cb75468868",
     "grade": true,
     "grade_id": "cell-e93df3b99bed5c14",
     "locked": true,
     "points": 1,
     "schema_version": 3,
     "solution": false,
     "task": false
    }
   },
   "outputs": [],
   "source": [
    "## == TEST CASES ==\n",
    "# - This read-only cell contains test cases for your previous cell.\n",
    "# - If this cell runs without any error our output, you PASSED all test cases!\n",
    "# - If this cell results in any errors, check you previous cell, make changes, and RE-RUN your code and then this cell.\n",
    "\n",
    "# Ensure `Wade` exists somewhere in the data:\n",
    "assert(df[ df.Name == 'Wade' ].Name.values[0] == 'Wade'), \"No row is found that contains `Wade`.  Did you import the right dataset?\"\n",
    "\n",
    "# Ensure `Karle` exists somewhere in the data:\n",
    "assert(df[ df.Name == 'Karle' ].Name.values[0] == 'Karle'), \"No row is found that contains `Karle`.  Did you import the right dataset?\""
   ]
  },
  {
   "cell_type": "markdown",
   "metadata": {
    "deletable": false,
    "editable": false,
    "nbgrader": {
     "cell_type": "markdown",
     "checksum": "a1a6c39457aab194d7b0d457a21ccd5a",
     "grade": false,
     "grade_id": "cell-70bc44f19a588298",
     "locked": true,
     "schema_version": 3,
     "solution": false,
     "task": false
    }
   },
   "source": [
    "## 3. Extra Credit Problems\n",
    "\n",
    "### Puzzle 3.1: A Data Science pill\n",
    "\n",
    "In lecture, you learned that Karle and Wade created a new pill that they think will help make students EXPERT Python programmers.  Before distributing this pill, they need to do an experiment to see if it actually works.  Assume everyone in the class has given permission to be involved in the experiment, but we can only accommodate **80** people.  Use Python to take a random sample of 80 students from the class and store it in the variable named `df_80`."
   ]
  },
  {
   "cell_type": "code",
   "execution_count": null,
   "metadata": {
    "deletable": false,
    "nbgrader": {
     "cell_type": "code",
     "checksum": "ee0dfc23f01a79bee524a80d44c0ff72",
     "grade": false,
     "grade_id": "cell-eb21607130c75ec7",
     "locked": false,
     "schema_version": 3,
     "solution": true,
     "task": false
    }
   },
   "outputs": [],
   "source": [
    "df_80 = ...\n",
    "df_80\n",
    "\n"
   ]
  },
  {
   "cell_type": "code",
   "execution_count": null,
   "metadata": {
    "deletable": false,
    "editable": false,
    "nbgrader": {
     "cell_type": "code",
     "checksum": "d8b39f33ba2cd2f5628475d864c30a7e",
     "grade": true,
     "grade_id": "cell-ca892fdb27a8f534",
     "locked": true,
     "points": 1,
     "schema_version": 3,
     "solution": false,
     "task": false
    }
   },
   "outputs": [],
   "source": [
    "## == TEST CASES ==\n",
    "# - This read-only cell contains test cases for your previous cell.\n",
    "# - If this cell runs without any error our output, you PASSED all test cases!\n",
    "# - If this cell results in any errors, check you previous cell, make changes, and RE-RUN your code and then this cell.\n",
    "\n",
    "\n",
    "# Ensure df_80 has exactly 80 observations (rows)\n",
    "assert(len(df_80) == 80), 'The variable `df_80` does not have exactly 80 observations/rows (it has ' + str(len(df_80)) + ' rows).'\n",
    "\n",
    "# Ensure df_80 does not contain only the first 80 rows\n",
    "full_match = True\n",
    "for i in range(0, 80):\n",
    "    if df_80.index[i] != i:\n",
    "        full_match = False\n",
    "        break\n",
    "        \n",
    "assert(full_match == False), 'The variable `df_80` contains the FIRST 80 observations/rows.  Make sure to make a RANDOM selection of the 80 rows.'"
   ]
  },
  {
   "cell_type": "markdown",
   "metadata": {
    "deletable": false,
    "editable": false,
    "nbgrader": {
     "cell_type": "markdown",
     "checksum": "4e7be1e3e9ceca1e26fde335bdf0a20d",
     "grade": false,
     "grade_id": "cell-818fa39255a83334",
     "locked": true,
     "schema_version": 3,
     "solution": false,
     "task": false
    }
   },
   "source": [
    "### Puzzle 3.2: Finding Ten Winners\n",
    "\n",
    "Suppose a contest is held in Data Science Discovery and we need to pick **ten (10) winners at random**.  Use Python to find 10 winners at random and store those winners in the variable `winners`."
   ]
  },
  {
   "cell_type": "code",
   "execution_count": null,
   "metadata": {
    "deletable": false,
    "nbgrader": {
     "cell_type": "code",
     "checksum": "c785151616ff9b8c5fee58db6dadbc19",
     "grade": false,
     "grade_id": "cell-40bda3e3d35ff1b0",
     "locked": false,
     "schema_version": 3,
     "solution": true,
     "task": false
    }
   },
   "outputs": [],
   "source": [
    "winners = ...\n",
    "winners\n",
    "\n"
   ]
  },
  {
   "cell_type": "code",
   "execution_count": null,
   "metadata": {
    "deletable": false,
    "editable": false,
    "nbgrader": {
     "cell_type": "code",
     "checksum": "a6402ea79bde09d34b4b1b58bb21bfa9",
     "grade": true,
     "grade_id": "cell-0273f0f917db94e1",
     "locked": true,
     "points": 1,
     "schema_version": 3,
     "solution": false,
     "task": false
    }
   },
   "outputs": [],
   "source": [
    "## == TEST CASES ==\n",
    "# - This read-only cell contains test cases for your previous cell.\n",
    "# - If this cell runs without any error our output, you PASSED all test cases!\n",
    "# - If this cell results in any errors, check you previous cell, make changes, and RE-RUN your code and then this cell.\n",
    "\n",
    "# Ensure `winners` has exactly 10 observations (rows)\n",
    "assert(len(winners) == 10), 'The variable `winners` does not have exactly 10 observations/rows (it has ' + str(len(winners)) + ' rows).'\n",
    "\n",
    "# Ensure `winners` does not contain only the first 10 rows\n",
    "full_match = True\n",
    "for i in range(0, 10):\n",
    "    if winners.index[i] != i:\n",
    "        full_match = False\n",
    "        break\n",
    "        \n",
    "assert(full_match == False), 'The variable `winners` contains the FIRST 10 observations/rows.  Make sure to make a RANDOM selection of the 10 rows.'"
   ]
  },
  {
   "cell_type": "markdown",
   "metadata": {},
   "source": [
    "### Puzzle 3.3:\n",
    "\n",
    "Take a look at the list of winners from the previous puzzle and **re-run** the cell (Shift+Enter).  Double click this cell \n",
    "to answer the next question:\n",
    "\n",
    "- Do the winners change each time you run it?"
   ]
  },
  {
   "cell_type": "markdown",
   "metadata": {},
   "source": [
    "## 4. Submit Your Work\n",
    "\n",
    "In this notebook:\n",
    "\n",
    "1. Click **File** -> **Save and Checkpoint** (to save your work)\n",
    "2. Click **File** -> **Close and Halt** (to exit this notebook)\n",
    "\n",
    "Follow the instructions on the STAT 107 website to submit your work."
   ]
  }
 ],
 "metadata": {
  "kernelspec": {
   "display_name": "Python 3",
   "language": "python",
   "name": "python3"
  },
  "language_info": {
   "codemirror_mode": {
    "name": "ipython",
    "version": 3
   },
   "file_extension": ".py",
   "mimetype": "text/x-python",
   "name": "python",
   "nbconvert_exporter": "python",
   "pygments_lexer": "ipython3",
   "version": "3.6.4"
  }
 },
 "nbformat": 4,
 "nbformat_minor": 2
}
