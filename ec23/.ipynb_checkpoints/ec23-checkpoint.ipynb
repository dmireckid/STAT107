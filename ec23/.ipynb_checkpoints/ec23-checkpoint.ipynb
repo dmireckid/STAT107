{
 "cells": [
  {
   "cell_type": "markdown",
   "metadata": {
    "deletable": false,
    "editable": false,
    "nbgrader": {
     "cell_type": "markdown",
     "checksum": "15672033fe04c94f39d2eced10ce763c",
     "grade": false,
     "grade_id": "cell-67e7afc4b4ff4e96",
     "locked": true,
     "schema_version": 3,
     "solution": false,
     "task": false
    }
   },
   "source": [
    "# EC Notebook for Lecture 23: The Normal Approximation\n",
    "\n",
    "This extra credit Python notebook will let you practice the material you saw in lecture.  Completing all parts of this notebook will earn +1 extra credit point to your grade in STAT 107! :)\n",
    "\n",
    "This notebook is worth +1 if turned in before 11:30 am on **Wednesday, Oct. 23** *(30 minutes before the next STAT 107 lecture)*.  You can feel free to complete it anytime for extra practice."
   ]
  },
  {
   "cell_type": "markdown",
   "metadata": {
    "deletable": false,
    "editable": false,
    "nbgrader": {
     "cell_type": "markdown",
     "checksum": "b2ebd5df241aabdf9da3d50c85a7712d",
     "grade": false,
     "grade_id": "cell-959f443304692271",
     "locked": true,
     "schema_version": 3,
     "solution": false,
     "task": false
    }
   },
   "source": [
    "## Try `scipy`\n",
    "\n",
    "In the lecture, we used another library of python to find the areas under the normal curve, which is called `scipy`. You can try to import the library as we did in the lecture, if it is not installed, use the command:\n",
    "\n",
    "`conda install -c anaconda scipy` \n",
    "\n",
    "in your terminal to install it.\n",
    "\n",
    "### Calculate `CDF` and `PDF`\n",
    "\n",
    "Using `scipy`, calculate the `cdf` and `pdf`  when `z = 0.8`.\n"
   ]
  },
  {
   "cell_type": "code",
   "execution_count": 1,
   "metadata": {
    "deletable": false,
    "nbgrader": {
     "cell_type": "code",
     "checksum": "e0d76a56e46f810b524a6fa21c1c58d6",
     "grade": false,
     "grade_id": "cell-3182d2cfb9079fe2",
     "locked": false,
     "schema_version": 3,
     "solution": true,
     "task": false
    }
   },
   "outputs": [
    {
     "name": "stdout",
     "output_type": "stream",
     "text": [
      "CDF = 0.7881446014166034 , PDF = 0.28969155276148273\n"
     ]
    }
   ],
   "source": [
    "from scipy.stats import norm\n",
    "\n",
    "v_cdf = norm.cdf(0.8)\n",
    "v_pdf = norm.pdf(0.8)\n",
    "\n",
    "\n",
    "print(\"CDF =\",v_cdf,\",\",\"PDF =\", v_pdf)"
   ]
  },
  {
   "cell_type": "markdown",
   "metadata": {},
   "source": [
    "## Approximate Normal Distribution\n",
    "\n",
    "Normal distribution is everywhere in our life. Many histograms are close to the normal curve, now let's take an example involving the rolling of dies.\n",
    "\n",
    "### Average of Dice\n",
    "Create a function to roll 50 dices and return the average of numbers you get from these dices.\n"
   ]
  },
  {
   "cell_type": "code",
   "execution_count": 2,
   "metadata": {
    "deletable": false,
    "nbgrader": {
     "cell_type": "code",
     "checksum": "5655c87f1ca6ab5aae3fa998c9e6fc8e",
     "grade": false,
     "grade_id": "cell-060c81a4477630d2",
     "locked": false,
     "schema_version": 3,
     "solution": true,
     "task": false
    }
   },
   "outputs": [
    {
     "data": {
      "text/plain": [
       "3.5"
      ]
     },
     "execution_count": 2,
     "metadata": {},
     "output_type": "execute_result"
    }
   ],
   "source": [
    "import random\n",
    "def avg_dice():\n",
    "    count=0\n",
    "    avg=0\n",
    "    n=50\n",
    "    for i in range(n):\n",
    "        die = random.randint(1,6)\n",
    "        count += die\n",
    "    avg = count/n\n",
    "    return avg\n",
    "    \n",
    "\n",
    "avg_dice()"
   ]
  },
  {
   "cell_type": "markdown",
   "metadata": {
    "deletable": false,
    "editable": false,
    "nbgrader": {
     "cell_type": "markdown",
     "checksum": "05e81b7932fc00cd08f6c11169c6539e",
     "grade": false,
     "grade_id": "cell-47b6be3b89d4c4bd",
     "locked": true,
     "schema_version": 3,
     "solution": false,
     "task": false
    }
   },
   "source": [
    "### Distribution of Average\n",
    "Write a simulation to run the above function for 10,000 times and store the results you get for each time in a DataFrame called `df`."
   ]
  },
  {
   "cell_type": "code",
   "execution_count": 4,
   "metadata": {
    "deletable": false,
    "nbgrader": {
     "cell_type": "code",
     "checksum": "073501831c55ee6f962f6cb38501dd72",
     "grade": false,
     "grade_id": "cell-8b0f0ef67575550d",
     "locked": false,
     "schema_version": 3,
     "solution": true,
     "task": false
    }
   },
   "outputs": [
    {
     "name": "stdout",
     "output_type": "stream",
     "text": [
      "      50 Dice Avg\n",
      "2332         3.36\n",
      "7628         3.60\n",
      "1235         3.18\n",
      "6918         4.08\n",
      "78           3.50\n"
     ]
    },
    {
     "data": {
      "text/plain": [
       "array([[<matplotlib.axes._subplots.AxesSubplot object at 0x000001366FF7C630>]],\n",
       "      dtype=object)"
      ]
     },
     "execution_count": 4,
     "metadata": {},
     "output_type": "execute_result"
    },
    {
     "data": {
      "image/png": "[encoded data removed]",
      "text/plain": [
       "<Figure size 432x288 with 1 Axes>"
      ]
     },
     "metadata": {},
     "output_type": "display_data"
    }
   ],
   "source": [
    "import pandas as pd\n",
    "results = []\n",
    "for i in range(10000):\n",
    "    val = avg_dice()\n",
    "    d = {\"50 Dice Avg\":val}\n",
    "    results.append(d)\n",
    "df = pd.DataFrame(results)\n",
    "\n",
    "\n",
    "\n",
    "# Print out a few random rows:\n",
    "print(df.sample(5))\n",
    "# Let’s build some visualizations:\n",
    "df.hist(bins=20)"
   ]
  },
  {
   "cell_type": "markdown",
   "metadata": {
    "deletable": false,
    "editable": false,
    "nbgrader": {
     "cell_type": "markdown",
     "checksum": "045c882b227a5df674255a63f20a754a",
     "grade": false,
     "grade_id": "cell-9977fb06da3a0db6",
     "locked": true,
     "schema_version": 3,
     "solution": false,
     "task": false
    }
   },
   "source": [
    "Does it look like a normal distribution? Now we can calculate the Z-scores to convert data to standard units by the formula you have seen in the lecture.\n",
    "\n",
    "###  Z-scores\n",
    "Firstly calculate the average and SD of the average of dices. Then compute the Z-scores of each row and store the values in an extra column called `Z-score`."
   ]
  },
  {
   "cell_type": "code",
   "execution_count": 5,
   "metadata": {
    "deletable": false,
    "nbgrader": {
     "cell_type": "code",
     "checksum": "caeac9090b25d5e942ece9661648ab35",
     "grade": false,
     "grade_id": "cell-9b6af2e58eb5bdd7",
     "locked": false,
     "schema_version": 3,
     "solution": true,
     "task": false
    }
   },
   "outputs": [
    {
     "data": {
      "text/plain": [
       "<matplotlib.axes._subplots.AxesSubplot at 0x13671e2d7f0>"
      ]
     },
     "execution_count": 5,
     "metadata": {},
     "output_type": "execute_result"
    },
    {
     "data": {
      "image/png": "[encoded data removed]",
      "text/plain": [
       "<Figure size 432x288 with 1 Axes>"
      ]
     },
     "metadata": {},
     "output_type": "display_data"
    }
   ],
   "source": [
    "avg_avg = df[\"50 Dice Avg\"].mean()\n",
    "avg_sd = df[\"50 Dice Avg\"].std()\n",
    "df[\"Z-score\"] = (df[\"50 Dice Avg\"]-avg_avg)/avg_sd\n",
    "\n",
    "\n",
    "\n",
    "df[\"Z-score\"].hist(bins=20)"
   ]
  },
  {
   "cell_type": "markdown",
   "metadata": {
    "deletable": false,
    "editable": false,
    "nbgrader": {
     "cell_type": "markdown",
     "checksum": "5f7f22dd7fcd65566466e3a9587ca454",
     "grade": false,
     "grade_id": "cell-c3c8372994697165",
     "locked": true,
     "schema_version": 3,
     "solution": false,
     "task": false
    }
   },
   "source": [
    "Now create another function to calculate the following results with input `value`:\n",
    "1. `prob`: The probability that the average is less and equal than `value`. \n",
    "2. `z_value`: The z-score of value `value`\n",
    "3. `cdf_value`: value of cdf when `z = z_value`.\n"
   ]
  },
  {
   "cell_type": "code",
   "execution_count": 11,
   "metadata": {
    "deletable": false,
    "nbgrader": {
     "cell_type": "code",
     "checksum": "44dee7b3dc13151dce8a1f871f588aa5",
     "grade": false,
     "grade_id": "cell-24083d8445b4840b",
     "locked": false,
     "schema_version": 3,
     "solution": true,
     "task": false
    }
   },
   "outputs": [
    {
     "name": "stdout",
     "output_type": "stream",
     "text": [
      "0.2136008783548588 0.2136008783548588\n",
      "0.35088497573224153 0.35088497573224153\n",
      "0.5112185762607774 0.5112185762607774\n",
      "0.669734923615388 0.669734923615388\n",
      "0.8024036523154816 0.8024036523154816\n"
     ]
    }
   ],
   "source": [
    "def calc_bound(value):\n",
    "    prob = norm.cdf((value-avg_avg) / avg_sd)\n",
    "    z_value = (value-avg_avg) / avg_sd\n",
    "    cdf_value = norm.cdf(z_value)\n",
    "    return (prob, cdf_value)\n",
    "\n",
    "\n",
    "#Check your function! (Hint: the probability should be close to the cdf_value)\n",
    "for v in [3.3, 3.4, 3.5, 3.6, 3.7]:\n",
    "    prob, cdf_value = calc_bound(v)\n",
    "    print (prob, cdf_value)"
   ]
  },
  {
   "cell_type": "code",
   "execution_count": 12,
   "metadata": {
    "deletable": false,
    "editable": false,
    "nbgrader": {
     "cell_type": "code",
     "checksum": "7a86a8a2a51d269db3eea6be9f9abda7",
     "grade": true,
     "grade_id": "cell-621e2757b30ebf38",
     "locked": true,
     "points": 1,
     "schema_version": 3,
     "solution": false,
     "task": false
    }
   },
   "outputs": [
    {
     "name": "stdout",
     "output_type": "stream",
     "text": [
      "🎉 All tests passed! 🎉\n",
      "\n"
     ]
    }
   ],
   "source": [
    "## == TEST CASES for Part 1,2,3 ==\n",
    "# - This read-only cell contains test cases for your previous cell.\n",
    "# - If this cell runs without any error our output, you PASSED all test cases!\n",
    "# - If this cell results in any errors, check you previous cell, make changes, and RE-RUN your code and then this cell.\n",
    "\n",
    "assert(abs(v_cdf-0.788144)<0.001 and abs(v_pdf-0.2896915)<0.001), \"Make sure you calculated the cdf and pdf correctly.\"\n",
    "assert(avg_dice() <= 6 and avg_dice() >= 1), \"Make sure you calculated the average.\"\n",
    "assert(len(df) == 10000), \"Make sure you simulated exactly 10,000 times\"\n",
    "for v in [3.3, 3.4, 3.5, 3.6, 3.7]:\n",
    "    a,b = calc_bound(v)\n",
    "    assert(abs(a-b)<0.1), \"Make sure you calculated the probability correctly.\"\n",
    "\n",
    "\n",
    "## == SUCCESS MESSAGE ==\n",
    "# You will only see this message (with the emoji showing) if you passed all test cases:\n",
    "tada = \"\\N{PARTY POPPER}\"\n",
    "print(f\"{tada} All tests passed! {tada}\")\n",
    "print()\n"
   ]
  },
  {
   "cell_type": "code",
   "execution_count": null,
   "metadata": {},
   "outputs": [],
   "source": []
  },
  {
   "cell_type": "code",
   "execution_count": null,
   "metadata": {},
   "outputs": [],
   "source": []
  }
 ],
 "metadata": {
  "kernelspec": {
   "display_name": "Python 3",
   "language": "python",
   "name": "python3"
  },
  "language_info": {
   "codemirror_mode": {
    "name": "ipython",
    "version": 3
   },
   "file_extension": ".py",
   "mimetype": "text/x-python",
   "name": "python",
   "nbconvert_exporter": "python",
   "pygments_lexer": "ipython3",
   "version": "3.6.5"
  }
 },
 "nbformat": 4,
 "nbformat_minor": 2
}
