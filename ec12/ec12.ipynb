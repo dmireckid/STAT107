{
 "cells": [
  {
   "cell_type": "markdown",
   "metadata": {},
   "source": [
    "# EC Notebook for Lecture 12: Quartiles and Box Plots\n",
    "\n",
    "This extra credit Python notebook will let you practice the material you saw in lecture.  Completing all parts of this notebook will earn +1 extra credit point to your grade in STAT 107! :)\n",
    "\n",
    "This notebook is worth +1 if turned in before 11:30 am on **Wednesday, Sept. 25** *(30 minutes before the next STAT 107 lecture)*.  You can feel free to complete it anytime for extra practice."
   ]
  },
  {
   "cell_type": "markdown",
   "metadata": {},
   "source": [
    "## 1. Loading pandas and importing data\n",
    "\n",
    "For this notebook, we will use the \"words\" dataset -- as we did in lecture 12 -- to visually present quantitative data.\n",
    "\n",
    "Using your @illinois.edu address, you can access the \"words\" dataset here: \n",
    "https://docs.google.com/spreadsheets/d/18zQc-cYb376QA478lgWnMbQj39M9wVqHtjbvLP0PTSc/edit#gid=0\n",
    "\n",
    "Always, remember to load your data first."
   ]
  },
  {
   "cell_type": "code",
   "execution_count": 1,
   "metadata": {
    "deletable": false,
    "nbgrader": {
     "cell_type": "code",
     "checksum": "495edb882a58ffd062794ef5c09ff6e5",
     "grade": false,
     "grade_id": "cell-1628b09530950d23",
     "locked": false,
     "schema_version": 3,
     "solution": true,
     "task": false
    }
   },
   "outputs": [],
   "source": [
    "import pandas as pd\n",
    "df = pd.read_csv(\"words.csv\")"
   ]
  },
  {
   "cell_type": "markdown",
   "metadata": {},
   "source": [
    "## 2 Box Plots and Quartiles\n",
    "Today we will observe and analyze our perception of words that describe uncertainty. Firstly, let's draw the **boxplot** for the words \"*We Believe*\" and \"*We Doubt*\" using the function you learned from the lecture. \n",
    "\n",
    "### Question 1:\n",
    "Draw two box plots for columns \"*We Believe*\" and \"*We Doubt*\", and then compute the median of them.\n"
   ]
  },
  {
   "cell_type": "code",
   "execution_count": 12,
   "metadata": {
    "deletable": false,
    "nbgrader": {
     "cell_type": "code",
     "checksum": "b175d6ffa7ef9825b26fc31c1eea8dac",
     "grade": false,
     "grade_id": "cell-99d959c1fa5c1922",
     "locked": false,
     "schema_version": 3,
     "solution": true,
     "task": false
    }
   },
   "outputs": [
    {
     "name": "stdout",
     "output_type": "stream",
     "text": [
      "70.0\n",
      "20.0\n"
     ]
    },
    {
     "data": {
      "text/plain": [
       "<matplotlib.axes._subplots.AxesSubplot at 0x149683fc438>"
      ]
     },
     "execution_count": 12,
     "metadata": {},
     "output_type": "execute_result"
    },
    {
     "data": {
      "image/png": "[encoded data removed]",
      "text/plain": [
       "<Figure size 576x108 with 1 Axes>"
      ]
     },
     "metadata": {},
     "output_type": "display_data"
    },
    {
     "data": {
      "image/png": "[encoded data removed]",
      "text/plain": [
       "<Figure size 576x108 with 1 Axes>"
      ]
     },
     "metadata": {},
     "output_type": "display_data"
    }
   ],
   "source": [
    "import matplotlib.pyplot as plt\n",
    "plt.figure(figsize=(8, 1.5))\n",
    "median_believe = df[\"We Believe\"].median()\n",
    "median_doubt = df[\"We Doubt\"].median()\n",
    "print(median_believe)\n",
    "print(median_doubt)\n",
    "#Write the codes for the boxplot\n",
    "\n",
    "df[\"We Believe\"].plot.box(vert=False)\n",
    "\n",
    "\n",
    "plt.figure(figsize=(8, 1.5))\n",
    "df[\"We Doubt\"].plot.box(vert=False)\n",
    "\n"
   ]
  },
  {
   "cell_type": "code",
   "execution_count": 13,
   "metadata": {
    "deletable": false,
    "editable": false,
    "nbgrader": {
     "cell_type": "code",
     "checksum": "698d4ee32a710456f957b1f1dd6dd5c7",
     "grade": true,
     "grade_id": "cell-6d95af9e6dbf7763",
     "locked": true,
     "points": 1,
     "schema_version": 3,
     "solution": false,
     "task": false
    }
   },
   "outputs": [],
   "source": [
    "## == TEST CASES for Puzzle 1 ==\n",
    "# - This read-only cell contains test cases for your previous cell.\n",
    "# - If this cell runs without any error our output, you PASSED all test cases!\n",
    "# - If this cell results in any errors, check you previous cell, make changes, and RE-RUN your code and then this cell.\n",
    "\n",
    "assert(median_believe == df[\"We Believe\"].quantile(0.5)), \"The median of believe does not appear correct.\"\n",
    "assert(median_doubt == df[\"We Doubt\"].quantile(0.5)), \"The median of doubt does not appear correct .\""
   ]
  },
  {
   "cell_type": "markdown",
   "metadata": {},
   "source": [
    "You have already known that median is **Q2** among Quartiles and how to get it. But how about **Q1** and **Q3**? In pandas, there is a function called [pandas.quantile](https://pandas.pydata.org/pandas-docs/stable/reference/api/pandas.DataFrame.quantile.html) we can utilize.\n",
    "\n",
    "### Question 2:\n",
    "Following the given example, compute **Q1**, **Q3** and **Interquartile Range (IQR)** for \"We Believe\" and \"We Doubt\"."
   ]
  },
  {
   "cell_type": "code",
   "execution_count": 14,
   "metadata": {
    "deletable": false,
    "nbgrader": {
     "cell_type": "code",
     "checksum": "09b0187ec048f39e71a10b967203c954",
     "grade": false,
     "grade_id": "cell-0f2b9437c5b3e29a",
     "locked": false,
     "schema_version": 3,
     "solution": true,
     "task": false
    }
   },
   "outputs": [
    {
     "name": "stdout",
     "output_type": "stream",
     "text": [
      "70.0\n",
      "20.0\n",
      "25.0\n",
      "25.0\n"
     ]
    }
   ],
   "source": [
    "# Example of pandas.quantile\n",
    "# you can check whether they are the same as the medians you just computed in the previous cell\n",
    "Q2_believe = df[\"We Believe\"].quantile(0.5)\n",
    "Q2_doubt = df[\"We Doubt\"].quantile(0.5)\n",
    "print(Q2_believe)\n",
    "print(Q2_doubt)\n",
    "\n",
    "# Calculate the Q1 and Q3 by youself! \n",
    "# Hints: you can directly use 0.25 or 0.75 as parameter to request for Q1 or Q3\n",
    "Q1_believe = df[\"We Believe\"].quantile(0.25)\n",
    "Q1_doubt = df[\"We Doubt\"].quantile(0.25)\n",
    "Q3_believe = df[\"We Believe\"].quantile(0.75)\n",
    "Q3_doubt = df[\"We Doubt\"].quantile(0.75)\n",
    "IQR_believe = Q3_believe - Q1_believe\n",
    "IQR_doubt = Q3_doubt - Q1_doubt\n",
    "print(IQR_believe)\n",
    "print(IQR_doubt)\n",
    "\n"
   ]
  },
  {
   "cell_type": "code",
   "execution_count": 15,
   "metadata": {
    "deletable": false,
    "editable": false,
    "nbgrader": {
     "cell_type": "code",
     "checksum": "a031421e94e19febd519cfbbedd41400",
     "grade": true,
     "grade_id": "cell-6f4ebbb95f35fe62",
     "locked": true,
     "points": 1,
     "schema_version": 3,
     "solution": false,
     "task": false
    }
   },
   "outputs": [],
   "source": [
    "## == TEST CASES for Puzzle 2 ==\n",
    "# - This read-only cell contains test cases for your previous cell.\n",
    "# - If this cell runs without any error our output, you PASSED all test cases!\n",
    "# - If this cell results in any errors, check you previous cell, make changes, and RE-RUN your code and then this cell.\n",
    "\n",
    "assert(Q1_believe == 55), \"The Q1 of believe does not appear correct.\"\n",
    "assert(Q3_believe == 80), \"The Q3 of believe does not appear correct.\"\n",
    "assert(Q1_doubt == 10), \"The Q1 of doubt does not appear correct.\"\n",
    "assert(Q3_doubt == 35), \"The Q3 of doubt does not appear correct.\"\n",
    "assert(IQR_believe == 25), \"The IQR of believe does not appear correct.\"\n",
    "assert(IQR_doubt == 25), \"The IQR of doubt does not appear correct.\""
   ]
  },
  {
   "cell_type": "markdown",
   "metadata": {},
   "source": [
    "Now you have calculated a lot of useful information! Try to find out outliers of \"We Doubt\" and \"We Believe\" using all the above results you got! Remember to observe the box plot carefully to determine the kind of outlier.\n",
    "\n",
    "### Question 3 \n",
    "Calculate the number of **outliers** of \"We Doubt\" and \"We Believe\" column."
   ]
  },
  {
   "cell_type": "code",
   "execution_count": 16,
   "metadata": {
    "deletable": false,
    "nbgrader": {
     "cell_type": "code",
     "checksum": "87c221d023126b18b603ecbb43dd06cf",
     "grade": false,
     "grade_id": "cell-ea88dcf40cc90ada",
     "locked": false,
     "schema_version": 3,
     "solution": true,
     "task": false
    }
   },
   "outputs": [
    {
     "name": "stdout",
     "output_type": "stream",
     "text": [
      "6\n",
      "4\n"
     ]
    }
   ],
   "source": [
    "lower_bound_b = Q1_believe -(1.5 * IQR_believe) \n",
    "upper_bound_b = Q3_believe +(1.5 * IQR_believe)\n",
    "lower_bound_d = Q1_doubt -(1.5 * IQR_doubt) \n",
    "upper_bound_d = Q3_doubt +(1.5 * IQR_doubt)\n",
    "\n",
    "outliers_believe = ((df[\"We Believe\"] < (lower_bound_b)) | (df[\"We Believe\"] > (upper_bound_b))).sum()\n",
    "outliers_doubt = ((df[\"We Doubt\"] < (lower_bound_d)) | (df[\"We Doubt\"] > (upper_bound_d))).sum()\n",
    "print(outliers_believe)\n",
    "print(outliers_doubt)\n",
    "\n"
   ]
  },
  {
   "cell_type": "code",
   "execution_count": 17,
   "metadata": {
    "deletable": false,
    "editable": false,
    "nbgrader": {
     "cell_type": "code",
     "checksum": "9c6cdbc1256c1d616cfdb4da50a4727f",
     "grade": true,
     "grade_id": "cell-357bac434e050bca",
     "locked": true,
     "points": 1,
     "schema_version": 3,
     "solution": false,
     "task": false
    }
   },
   "outputs": [],
   "source": [
    "## == TEST CASES for Puzzle 3 ==\n",
    "# - This read-only cell contains test cases for your previous cell.\n",
    "# - If this cell runs without any error our output, you PASSED all test cases!\n",
    "# - If this cell results in any errors, check you previous cell, make changes, and RE-RUN your code and then this cell.\n",
    "\n",
    "assert(int(outliers_believe) == 6), \"The outliers of believe does not appear correct.\"\n",
    "assert(int(outliers_doubt) == 4), \"The outliers of doubt does not appear correct.\""
   ]
  },
  {
   "cell_type": "markdown",
   "metadata": {},
   "source": [
    "## Submit Your Work!\n",
    "\n",
    "Make sure to **Save and Checkpoint** your notebook, exit Jupyter, and submit your work! :)"
   ]
  },
  {
   "cell_type": "code",
   "execution_count": 18,
   "metadata": {},
   "outputs": [
    {
     "name": "stdout",
     "output_type": "stream",
     "text": [
      "Good job, Damian. Fantastic work!!! You deserve 2 EC points for this one :)\n"
     ]
    }
   ],
   "source": [
    "print(\"Good job, Damian. Fantastic work!!! You deserve 2 EC points for this one :)\")"
   ]
  }
 ],
 "metadata": {
  "kernelspec": {
   "display_name": "Python 3",
   "language": "python",
   "name": "python3"
  },
  "language_info": {
   "codemirror_mode": {
    "name": "ipython",
    "version": 3
   },
   "file_extension": ".py",
   "mimetype": "text/x-python",
   "name": "python",
   "nbconvert_exporter": "python",
   "pygments_lexer": "ipython3",
   "version": "3.6.5"
  }
 },
 "nbformat": 4,
 "nbformat_minor": 2
}
