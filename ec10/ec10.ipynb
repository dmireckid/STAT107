{
 "cells": [
  {
   "cell_type": "markdown",
   "metadata": {},
   "source": [
    "## EC Notebook for Lecture 10:  Functions in Python\n",
    "\n",
    "This extra credit Python notebook will let you practice the material you saw in lecture.  Completing all parts of this notebook will earn +1 extra credit point to your grade in STAT 107! :)\n",
    "\n",
    "This notebook is worth +1 if turned in before 11:30am on **Friday, Sept. 20** *(30 minutes before the next STAT 107 lecture)*.  You can feel free to complete it anytime for extra practice.\n"
   ]
  },
  {
   "cell_type": "markdown",
   "metadata": {},
   "source": [
    "## 1. Importing pandas and reading data\n",
    "For this extra credit notebook, we will still use the Illinois GPA Distribution dataset -- as we did in lecture -- to do some exercise to get familiar with the function we learnt in the lecture\n",
    "\n",
    "You feel free to access the \"GPA\" dataset here: https://github.com/wadefagen/datasets/tree/master/gpa\n",
    "At first, you need to import the library pandas and reading the dataset."
   ]
  },
  {
   "cell_type": "code",
   "execution_count": null,
   "metadata": {
    "deletable": false,
    "nbgrader": {
     "cell_type": "code",
     "checksum": "ce15bce162b134256e725959e464606c",
     "grade": false,
     "grade_id": "cell-b94d835c3afb8ee1",
     "locked": false,
     "schema_version": 3,
     "solution": true,
     "task": false
    }
   },
   "outputs": [],
   "source": [
    "df = ...\n",
    "df\n"
   ]
  },
  {
   "cell_type": "markdown",
   "metadata": {},
   "source": [
    "## 2. Review: Group Function\n",
    "The Student Union at Illinois would like to investiage the grading policy for the university courses and subjects， especailly for \"ACCY\", \"CS\", \"MATH\", \"STAT\".\n",
    "\n",
    "### Question 1: \n",
    "Using the GPA dataset, you need to calculate the proportion of (\"A+\",\"A\") in (\"A+\",\"A\",\"A-\",\"B+\",\"B\",\"B-\") for subjects \"ACCY\", \"CS\", \"MATH\", \"STAT\", respectively. Hint: use the groupby function."
   ]
  },
  {
   "cell_type": "code",
   "execution_count": null,
   "metadata": {
    "deletable": false,
    "nbgrader": {
     "cell_type": "code",
     "checksum": "c7f1fd1affe2d853c36e42ad3a25be3e",
     "grade": false,
     "grade_id": "cell-b1e450db85c95e49",
     "locked": false,
     "schema_version": 3,
     "solution": true,
     "task": false
    }
   },
   "outputs": [],
   "source": [
    "ratio = ...\n",
    "print(ratio)\n"
   ]
  },
  {
   "cell_type": "code",
   "execution_count": null,
   "metadata": {
    "deletable": false,
    "editable": false,
    "nbgrader": {
     "cell_type": "code",
     "checksum": "19b6af423dab8845c410673ea4735f80",
     "grade": true,
     "grade_id": "cell-fc6499a6e7186f28",
     "locked": true,
     "points": 1,
     "schema_version": 3,
     "solution": false,
     "task": false
    }
   },
   "outputs": [],
   "source": [
    "## == TEST CASES for Question 1 ==\n",
    "# - This read-only cell contains test cases for your previous cell.\n",
    "# - If this cell runs without any error our output, you PASSED all test cases!\n",
    "# - If this cell results in any errors, check you previous cell, make changes, and RE-RUN your code and then this cell.\n",
    "\n",
    "assert(ratio[1] == 0.4851959027145017), \"The ratio for the ACCY does not appear correct.\""
   ]
  },
  {
   "cell_type": "markdown",
   "metadata": {},
   "source": [
    "## 3. Review: Group Function\n",
    "Besides the raito of (\"A+\",\"A\") in (\"A+\",\"A\",\"A-\",\"B+\",\"B\",\"B-\"), the student union also wants to know the difference between the largest number of \"A+\" and the largest number of \"A\" in each subject, and what is the largest gap among all subjects. \n",
    "\n",
    "### Question 2: \n",
    "Using the GPA dataset, you need to find the difference between the largest number of \"A+\" and the largest number of\"A\" for each subject firstly, and then based on what you have, to calculate the largest gap among all subjects. "
   ]
  },
  {
   "cell_type": "code",
   "execution_count": null,
   "metadata": {
    "deletable": false,
    "nbgrader": {
     "cell_type": "code",
     "checksum": "b3a1376d7b8613c4a7da2ad460193826",
     "grade": false,
     "grade_id": "cell-17f1a17a9291bd92",
     "locked": false,
     "schema_version": 3,
     "solution": true,
     "task": false
    }
   },
   "outputs": [],
   "source": [
    "gap_largest = ...\n",
    "print(gap_largest)\n"
   ]
  },
  {
   "cell_type": "code",
   "execution_count": null,
   "metadata": {
    "deletable": false,
    "editable": false,
    "nbgrader": {
     "cell_type": "code",
     "checksum": "65ee4a4b2874e0905f6277175bc3a1c8",
     "grade": true,
     "grade_id": "cell-63f5df829092ffa4",
     "locked": true,
     "points": 1,
     "schema_version": 3,
     "solution": false,
     "task": false
    }
   },
   "outputs": [],
   "source": [
    "## == TEST CASES for Question 1 ==\n",
    "# - This read-only cell contains test cases for your previous cell.\n",
    "# - If this cell runs without any error our output, you PASSED all test cases!\n",
    "# - If this cell results in any errors, check you previous cell, make changes, and RE-RUN your code and then this cell.\n",
    "\n",
    "assert(gap_largest == 481), \"The number does not appear correct.\""
   ]
  },
  {
   "cell_type": "markdown",
   "metadata": {},
   "source": [
    "## 4. Review: Group Function\n",
    "In addition, the student union also wants to know hom many subjects which the instructors give \"A\" but not \"A+\". \n",
    "\n",
    "\n",
    "### Question 3: \n",
    "Using the GPA dataset, we have defined a function to give the label (column \"course_type\") for those course which the instructors give \"A\" but not \"A+\". For your work, you need to decide how many subjects which the instructors give \"A\" but not \"A+\". Hint: The question is asking about each subject not each course, so you also need to use groupby function."
   ]
  },
  {
   "cell_type": "code",
   "execution_count": null,
   "metadata": {
    "deletable": false,
    "nbgrader": {
     "cell_type": "code",
     "checksum": "14963a651d0d996a6179ec4be6e58eee",
     "grade": false,
     "grade_id": "cell-656278288cff2886",
     "locked": false,
     "schema_version": 3,
     "solution": true,
     "task": false
    }
   },
   "outputs": [],
   "source": [
    "## Just Run the following code. \n",
    "def course(x):\n",
    "\n",
    "   if x[\"A+\"] == 0 and x[\"A\"] > 0 : return 1\n",
    "\n",
    "   else: return 0\n",
    "    \n",
    "df[\"course_type\"] = df.apply(course, axis=1)\n",
    "## Just Run the above code. \n",
    "\n",
    "num = ...\n",
    "print(num)\n"
   ]
  },
  {
   "cell_type": "code",
   "execution_count": null,
   "metadata": {
    "deletable": false,
    "editable": false,
    "nbgrader": {
     "cell_type": "code",
     "checksum": "7e13a473d60bd112c83da31fa3613f2c",
     "grade": true,
     "grade_id": "cell-ce3a059c412e2e95",
     "locked": true,
     "points": 1,
     "schema_version": 3,
     "solution": false,
     "task": false
    }
   },
   "outputs": [],
   "source": [
    "## == TEST CASES for Question 1 ==\n",
    "# - This read-only cell contains test cases for your previous cell.\n",
    "# - If this cell runs without any error our output, you PASSED all test cases!\n",
    "# - If this cell results in any errors, check you previous cell, make changes, and RE-RUN your code and then this cell.\n",
    "\n",
    "assert(num == 13), \"The number of this type of course does not appear correct.\""
   ]
  }
 ],
 "metadata": {
  "kernelspec": {
   "display_name": "Python 3",
   "language": "python",
   "name": "python3"
  },
  "language_info": {
   "codemirror_mode": {
    "name": "ipython",
    "version": 3
   },
   "file_extension": ".py",
   "mimetype": "text/x-python",
   "name": "python",
   "nbconvert_exporter": "python",
   "pygments_lexer": "ipython3",
   "version": "3.7.3"
  }
 },
 "nbformat": 4,
 "nbformat_minor": 2
}
