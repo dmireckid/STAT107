{
 "cells": [
  {
   "cell_type": "markdown",
   "metadata": {},
   "source": [
    "# EC Notebook for Lecture 7: Working with columns\n",
    "\n",
    "This extra credit Python notebook will let you practice the material you saw in lecture.  Completing all parts of this notebook will earn +1 extra credit point to your grade in STAT 107! :)\n",
    "\n",
    "This notebook is worth +1 if turned in before 11:30am on **Friday, Sept. 13** *(30 minutes before the next STAT 107 lecture)*.  You can feel free to complete it anytime for extra practice."
   ]
  },
  {
   "cell_type": "markdown",
   "metadata": {},
   "source": [
    "## 1. Loading pandas and importing data\n",
    "\n",
    "For this notebook, we will use the \"Hello\" dataset -- as we did in lecture -- to answer a few questions on working with columns.\n",
    "\n",
    "Using your @illinois.edu address, you can access the \"Hello\" dataset here: https://docs.google.com/spreadsheets/d/1LB4E89GoVi5yezEfHhopbI5BMxodSG7VvoznkaAkMAQ/edit#gid=0"
   ]
  },
  {
   "cell_type": "code",
   "execution_count": null,
   "metadata": {
    "deletable": false,
    "nbgrader": {
     "cell_type": "code",
     "checksum": "3ad0eb1e8fc3cc4fd6749f392c6d3a2c",
     "grade": false,
     "grade_id": "cell-0d5f5f22a56cb05c",
     "locked": false,
     "schema_version": 3,
     "solution": true,
     "task": false
    }
   },
   "outputs": [],
   "source": []
  },
  {
   "cell_type": "markdown",
   "metadata": {},
   "source": [
    "# 2. Do upperclass students study less?\n",
    "\n",
    "Do seniors study less than freshman?  Using the \"Hello\" dataset, find the average number of hours freshman study (`freshman_avg_study_hours`) and the average number of hours seniors study (`senior_avg_study_hours`) each week:  "
   ]
  },
  {
   "cell_type": "code",
   "execution_count": null,
   "metadata": {
    "deletable": false,
    "nbgrader": {
     "cell_type": "code",
     "checksum": "02ee1b21183e2ead088f5d45611e5dc4",
     "grade": false,
     "grade_id": "cell-0c5e6b97fdf25f9a",
     "locked": false,
     "schema_version": 3,
     "solution": true,
     "task": false
    }
   },
   "outputs": [],
   "source": [
    "\n",
    "\n",
    "freshman_avg_study_hours = ...\n",
    "freshman_avg_study_hours\n",
    "\n"
   ]
  },
  {
   "cell_type": "code",
   "execution_count": null,
   "metadata": {
    "deletable": false,
    "nbgrader": {
     "cell_type": "code",
     "checksum": "9e41303a5bc80e41d45d116643c01279",
     "grade": false,
     "grade_id": "cell-ba360e51c3559faa",
     "locked": false,
     "schema_version": 3,
     "solution": true,
     "task": false
    }
   },
   "outputs": [],
   "source": [
    "\n",
    "\n",
    "senior_avg_study_hours = ...\n",
    "senior_avg_study_hours\n",
    "\n"
   ]
  },
  {
   "cell_type": "code",
   "execution_count": null,
   "metadata": {
    "deletable": false,
    "editable": false,
    "nbgrader": {
     "cell_type": "code",
     "checksum": "8a4ca63643eb919a6ec26e7b76337451",
     "grade": true,
     "grade_id": "cell-e03adddf03d4c81a",
     "locked": true,
     "points": 1,
     "schema_version": 3,
     "solution": false,
     "task": false
    }
   },
   "outputs": [],
   "source": [
    "## == TEST CASES for Puzzle 2 ==\n",
    "# - This read-only cell contains test cases for your previous cell.\n",
    "# - If this cell runs without any error our output, you PASSED all test cases!\n",
    "# - If this cell results in any errors, check you previous cell, make changes, and RE-RUN your code and then this cell.\n",
    "\n",
    "assert(freshman_avg_study_hours == 3.73), \"The average number of hours studying for freshman appears incorrect.\"\n",
    "assert(senior_avg_study_hours - 3.77 < 0.01), \"The average number of hours studying for seniors appears incorrect.\""
   ]
  },
  {
   "cell_type": "markdown",
   "metadata": {},
   "source": [
    "# 3. Do introverts text less than extroverts?\n",
    "\n",
    "In our dataset, you responded with the number of texts recieved yesterday.  Find the average number of texts sent by introverts, by extroverts, and by ambiverts:"
   ]
  },
  {
   "cell_type": "code",
   "execution_count": null,
   "metadata": {
    "deletable": false,
    "nbgrader": {
     "cell_type": "code",
     "checksum": "6aa62c22b3a0149a98bf48d028e74b43",
     "grade": false,
     "grade_id": "cell-0ded48531f57011e",
     "locked": false,
     "schema_version": 3,
     "solution": true,
     "task": false
    }
   },
   "outputs": [],
   "source": [
    "introverts_avg_txts = ...\n",
    "introverts_avg_txts\n",
    "\n"
   ]
  },
  {
   "cell_type": "code",
   "execution_count": null,
   "metadata": {
    "deletable": false,
    "nbgrader": {
     "cell_type": "code",
     "checksum": "d732d7997fe9b9326391d593e86fd003",
     "grade": false,
     "grade_id": "cell-3cadfc178d2b60a5",
     "locked": false,
     "schema_version": 3,
     "solution": true,
     "task": false
    }
   },
   "outputs": [],
   "source": [
    "ambiverts_avg_txts = ...\n",
    "ambiverts_avg_txts\n",
    "\n"
   ]
  },
  {
   "cell_type": "code",
   "execution_count": null,
   "metadata": {
    "deletable": false,
    "nbgrader": {
     "cell_type": "code",
     "checksum": "22215cce9bb81150050b522be4949cbe",
     "grade": false,
     "grade_id": "cell-975d7137d0ca4494",
     "locked": false,
     "schema_version": 3,
     "solution": true,
     "task": false
    }
   },
   "outputs": [],
   "source": [
    "extroverts_avg_txts = ...\n",
    "extroverts_avg_txts\n",
    "\n"
   ]
  },
  {
   "cell_type": "code",
   "execution_count": null,
   "metadata": {
    "deletable": false,
    "editable": false,
    "nbgrader": {
     "cell_type": "code",
     "checksum": "e744684504e169ea96d06893b482bb55",
     "grade": true,
     "grade_id": "cell-85b1350f5048af0d",
     "locked": true,
     "points": 1,
     "schema_version": 3,
     "solution": false,
     "task": false
    }
   },
   "outputs": [],
   "source": [
    "## == TEST CASES for Puzzle 2 ==\n",
    "# - This read-only cell contains test cases for your previous cell.\n",
    "# - If this cell runs without any error our output, you PASSED all test cases!\n",
    "# - If this cell results in any errors, check you previous cell, make changes, and RE-RUN your code and then this cell.\n",
    "\n",
    "assert(introverts_avg_txts < extroverts_avg_txts), \"This does not appear correct -- check your introvert and extrovert logic.\"\n",
    "assert(introverts_avg_txts < ambiverts_avg_txts), \"This does not appear correct -- check your introvert and ambivert logic.\"\n",
    "assert(extroverts_avg_txts < ambiverts_avg_txts), \"This does not appear correct -- check your extrovert and ambivert logic.\""
   ]
  },
  {
   "cell_type": "markdown",
   "metadata": {},
   "source": [
    "## Submit Your Work!\n",
    "\n",
    "Make sure to **Save and Checkpoint** your notebook, exit Jupyter, and submit your work! :)"
   ]
  }
 ],
 "metadata": {
  "kernelspec": {
   "display_name": "Python 3",
   "language": "python",
   "name": "python3"
  },
  "language_info": {
   "codemirror_mode": {
    "name": "ipython",
    "version": 3
   },
   "file_extension": ".py",
   "mimetype": "text/x-python",
   "name": "python",
   "nbconvert_exporter": "python",
   "pygments_lexer": "ipython3",
   "version": "3.6.4"
  }
 },
 "nbformat": 4,
 "nbformat_minor": 2
}
