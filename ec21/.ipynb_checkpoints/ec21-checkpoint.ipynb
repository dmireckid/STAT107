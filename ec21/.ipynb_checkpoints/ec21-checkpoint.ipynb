{
 "cells": [
  {
   "cell_type": "markdown",
   "metadata": {
    "deletable": false,
    "editable": false,
    "nbgrader": {
     "cell_type": "markdown",
     "checksum": "9abd74a3f7eefbf6a489636a8cde8b87",
     "grade": false,
     "grade_id": "cell-f4aa6160aae76950",
     "locked": true,
     "schema_version": 3,
     "solution": false,
     "task": false
    }
   },
   "source": [
    "# EC Notebook for Lecture 21: Random Variables\n",
    "\n",
    "This extra credit Python notebook will let you practice the material you saw in lecture.  Completing all parts of this notebook will earn +1 extra credit point to your grade in STAT 107! :)\n",
    "\n",
    "This notebook is worth +1 if turned in before 11:30 am on **Friday, Oct. 18** *(30 minutes before the next STAT 107 lecture)*.  You can feel free to complete it anytime for extra practice."
   ]
  },
  {
   "cell_type": "markdown",
   "metadata": {
    "deletable": false,
    "editable": false,
    "nbgrader": {
     "cell_type": "markdown",
     "checksum": "f133f25e2f49b740624962f59767e4ea",
     "grade": false,
     "grade_id": "cell-e493fd72a043cfab",
     "locked": true,
     "schema_version": 3,
     "solution": false,
     "task": false
    }
   },
   "source": [
    "## What's the random variable\n",
    "\n",
    "In the lecture, we learned the definition of **random variable**.  In this section, we will get familiar with random variables by doing some practices to generate the random variables.\n",
    "\n",
    "### Question 1:\n",
    "\n",
    "In Lecture, Prof. Karle showed off how to set up a random variable $X$ for a game of roulette:\n",
    "\n",
    "> A roulette table has 38 slots—18 red, 18 black and 2 green. If you bet \\\\$1 on red and it comes up red, then you win \\\\$1; otherwise, you lose \\\\$1.  Suppose you simulate playing roulette 50 times, betting \\\\$1 each time.\n",
    "\n",
    "Write a simulation of spinning the roulette wheel at 50 times and record your total profit (or loss).  Run that simulation at least 1,000 times."
   ]
  },
  {
   "cell_type": "code",
   "execution_count": 1,
   "metadata": {
    "deletable": false,
    "nbgrader": {
     "cell_type": "code",
     "checksum": "41dda1d9af166c0b494f6941d25a03d8",
     "grade": false,
     "grade_id": "cell-5ced175279b31f80",
     "locked": false,
     "schema_version": 3,
     "solution": true,
     "task": false
    }
   },
   "outputs": [],
   "source": [
    "# Write the simulation of spinning the roulette wheel at 50 times:\n",
    "import pandas as pd\n",
    "import random\n",
    "\n",
    "results = []\n",
    "for i in range(1000):\n",
    "    prize = 0\n",
    "    for i in range(50):\n",
    "        roulette = random.randint(1,38)\n",
    "        if(roulette <= 18):\n",
    "            prize += 1\n",
    "        else:\n",
    "            prize -= 1\n",
    "    d = {\"profit\":prize}\n",
    "    results.append(d)\n",
    "\n"
   ]
  },
  {
   "cell_type": "code",
   "execution_count": 2,
   "metadata": {
    "deletable": false,
    "nbgrader": {
     "cell_type": "code",
     "checksum": "8e87a8d7329d228e4dc93f7f383634e6",
     "grade": false,
     "grade_id": "cell-d9db332955eef16d",
     "locked": false,
     "schema_version": 3,
     "solution": true,
     "task": false
    }
   },
   "outputs": [],
   "source": [
    "# Create a DataFrame called `df` of your total profit for each simulation.\n",
    "# - Make sure to store your result in the DataFrame column `profit`\n",
    "df = pd.DataFrame(results)\n",
    "\n",
    "\n"
   ]
  },
  {
   "cell_type": "markdown",
   "metadata": {},
   "source": [
    "### Quesiton 1b: Create a hisogram of your winnings\n",
    "\n",
    "Create a histogram of your DataFrame to show the histogram of your winnings (or loss)."
   ]
  },
  {
   "cell_type": "code",
   "execution_count": 4,
   "metadata": {
    "deletable": false,
    "nbgrader": {
     "cell_type": "code",
     "checksum": "746c50aa4ce07fc0d1332f8989c1ef1d",
     "grade": false,
     "grade_id": "cell-a77c7500aa273a3e",
     "locked": false,
     "schema_version": 3,
     "solution": true,
     "task": false
    }
   },
   "outputs": [
    {
     "data": {
      "text/plain": [
       "array([[<matplotlib.axes._subplots.AxesSubplot object at 0x00000227479952B0>]],\n",
       "      dtype=object)"
      ]
     },
     "execution_count": 4,
     "metadata": {},
     "output_type": "execute_result"
    },
    {
     "data": {
      "image/png": "[encoded data removed]",
      "text/plain": [
       "<Figure size 432x288 with 1 Axes>"
      ]
     },
     "metadata": {},
     "output_type": "display_data"
    }
   ],
   "source": [
    "df.hist()\n",
    "\n"
   ]
  },
  {
   "cell_type": "code",
   "execution_count": 5,
   "metadata": {
    "deletable": false,
    "editable": false,
    "nbgrader": {
     "cell_type": "code",
     "checksum": "3f0215dc5071a4b9b8b9f8ff2f79d853",
     "grade": true,
     "grade_id": "cell-e3b938d515a724f4",
     "locked": true,
     "points": 1,
     "schema_version": 3,
     "solution": false,
     "task": false
    }
   },
   "outputs": [
    {
     "name": "stdout",
     "output_type": "stream",
     "text": [
      "🎉 All tests passed! 🎉\n",
      "\n",
      "- Your average simulation profit is -$2.504 per 50 games played\n"
     ]
    }
   ],
   "source": [
    "## == TEST CASES for Question 1 ==\n",
    "# - This read-only cell contains test cases for your previous cell.\n",
    "# - If this cell runs without any error our output, you PASSED all test cases!\n",
    "# - If this cell results in any errors, check you previous cell, make changes, and RE-RUN your code and then this cell.\n",
    "assert( len(df) >= 1000 ), \"Your DataFrame must contain at least 1,000 simulations of roulette\"\n",
    "assert( \"profit\" in df ), \"Your DataFrame must contain the column `profit`\"\n",
    "assert( len(df[ df.profit == 0]) > 0 ), \"Your DataFrame should contain some games with 0 profit\"\n",
    "assert( len(df[ df.profit < 0]) > 0 ), \"Your DataFrame should contain some games with negative profit\"\n",
    "assert( len(df[ df.profit > 0]) > 0 ), \"Your DataFrame should contain some games with positive profit\"\n",
    "assert( len(df[ df.profit < 0 ]) > len(df[ df.profit > 0 ]) ), \"Your DataFrame seems suggest you would make money playing roulette -- is your simulation correct?\"\n",
    "\n",
    "## == SUCCESS MESSAGE ==\n",
    "# You will only see this message (with the emoji showing) if you passed all test cases:\n",
    "tada = \"\\N{PARTY POPPER}\"\n",
    "print(f\"{tada} All tests passed! {tada}\")\n",
    "print()\n",
    "print(f\"- Your average simulation profit is -${ df['profit'].mean() * -1 } per 50 games played\" )"
   ]
  },
  {
   "cell_type": "markdown",
   "metadata": {
    "deletable": false,
    "editable": false,
    "nbgrader": {
     "cell_type": "markdown",
     "checksum": "3dbe0df2f7753076f67757b5096a766a",
     "grade": false,
     "grade_id": "cell-24d4c649e8867ed6",
     "locked": true,
     "schema_version": 3,
     "solution": false,
     "task": false
    }
   },
   "source": [
    "### Question 2: Discrete random variable\n",
    "\n",
    "In the lecture, we have the definition of discrete random variables, and we will use this definition to do an simulation.\n",
    "\n",
    "A box includes 81 balls with four different colors:\n",
    "- 15 green,\n",
    "- 24 red,\n",
    "- 31 blue, and\n",
    "- 11 pink balls\n",
    "\n",
    "Wade is trying to pick up one ball from the box for each time. And if waf picks up the pink ball **or** red ball, he will win a GIANT Teddy Bear -- otherwise nothing.\n",
    "\n",
    "Suppose Prof. Wade repeats this game 250 times.  Simulate (just once) how many teddy bears will he now own after 250 times playing this game."
   ]
  },
  {
   "cell_type": "code",
   "execution_count": 16,
   "metadata": {
    "deletable": false,
    "nbgrader": {
     "cell_type": "code",
     "checksum": "ab9fcaf9c0ae4e361c8d224ca5aa301b",
     "grade": false,
     "grade_id": "cell-a0315ff1f3304a75",
     "locked": false,
     "schema_version": 3,
     "solution": true,
     "task": false
    }
   },
   "outputs": [
    {
     "data": {
      "text/plain": [
       "106"
      ]
     },
     "execution_count": 16,
     "metadata": {},
     "output_type": "execute_result"
    }
   ],
   "source": [
    "box = []\n",
    "teddy_bears = 0\n",
    "for i in range(15):\n",
    "    box.append(\"green\")\n",
    "for i in range(24):\n",
    "    box.append(\"red\")\n",
    "for i in range(31):\n",
    "    box.append(\"blue\")\n",
    "for i in range(11):\n",
    "    box.append(\"pink\")\n",
    "for i in range(250):\n",
    "    pick = random.randint(0,80)\n",
    "    if(box[pick]==\"red\" or box[pick]==\"pink\"):\n",
    "        teddy_bears += 1\n",
    "\n",
    "count_100 = teddy_bears\n",
    "teddy_bears\n"
   ]
  },
  {
   "cell_type": "code",
   "execution_count": 17,
   "metadata": {
    "deletable": false,
    "editable": false,
    "nbgrader": {
     "cell_type": "code",
     "checksum": "cc287fb65d6dea73fedba5201f21f143",
     "grade": true,
     "grade_id": "cell-f5054d49f276f230",
     "locked": true,
     "points": 1,
     "schema_version": 3,
     "solution": false,
     "task": false
    }
   },
   "outputs": [
    {
     "name": "stdout",
     "output_type": "stream",
     "text": [
      "🎉 All tests passed! 🎉\n",
      "\n"
     ]
    }
   ],
   "source": [
    "## == TEST CASES for Question 2 ==\n",
    "# - This read-only cell contains test cases for your previous cell.\n",
    "# - If this cell runs without any error our output, you PASSED all test cases!\n",
    "# - If this cell results in any errors, check you previous cell, make changes, and RE-RUN your code and then this cell.\n",
    "assert(50 < count_100 < 150), \"The count of Teddy Bear may be incorrect\"\n",
    "\n",
    "## == SUCCESS MESSAGE ==\n",
    "# You will only see this message (with the emoji showing) if you passed all test cases:\n",
    "tada = \"\\N{PARTY POPPER}\"\n",
    "print(f\"{tada} All tests passed! {tada}\")\n",
    "print()"
   ]
  },
  {
   "cell_type": "markdown",
   "metadata": {
    "deletable": false,
    "editable": false,
    "nbgrader": {
     "cell_type": "markdown",
     "checksum": "3f342139695420811972b9cb03fcfad3",
     "grade": false,
     "grade_id": "cell-d5c44b1525857a0a",
     "locked": true,
     "schema_version": 3,
     "solution": false,
     "task": false
    }
   },
   "source": [
    "### Question 3: Expectation and variance of discrete random variables\n",
    "\n",
    "In the lecture, we learned the formulas to calculate the expectation and variance of the discrete random variables. Please use the following distribution information to calculate the expectation and variance of this discrete random variable:\n",
    "\n",
    "| X | P(X) |\n",
    "|---|------|\n",
    "| 2 |  10% |\n",
    "| 4 |  25% |\n",
    "| 6 |  15% |\n",
    "| 8 |  30% |\n",
    "|10 |  10% |\n",
    "|12 |  10% |"
   ]
  },
  {
   "cell_type": "code",
   "execution_count": 22,
   "metadata": {
    "deletable": false,
    "nbgrader": {
     "cell_type": "code",
     "checksum": "20e364cab2b1757cc0205f6f61cd7ff2",
     "grade": false,
     "grade_id": "cell-5cf0a806a71f1906",
     "locked": false,
     "schema_version": 3,
     "solution": true,
     "task": false
    }
   },
   "outputs": [],
   "source": [
    "EX = 2*.1 + 4*.25 + 6*.15 + 8*.3 + 10*.1 + 12*.1\n",
    "VarX = (.1*((2-EX)**2) + .25*((4-EX)**2) + .15*((6-EX)**2) + .3*((8-EX)**2) + .1*((10-EX)**2) + .1*((12-EX)**2))"
   ]
  },
  {
   "cell_type": "code",
   "execution_count": 23,
   "metadata": {
    "deletable": false,
    "editable": false,
    "nbgrader": {
     "cell_type": "code",
     "checksum": "48c62a91e604b0fb27dd47844d409b57",
     "grade": true,
     "grade_id": "cell-e492e1c42fb29fc7",
     "locked": true,
     "points": 1,
     "schema_version": 3,
     "solution": false,
     "task": false
    }
   },
   "outputs": [
    {
     "name": "stdout",
     "output_type": "stream",
     "text": [
      "🎉 All tests passed! 🎉\n",
      "\n"
     ]
    }
   ],
   "source": [
    "## == TEST CASES for Question 3 ==\n",
    "# - This read-only cell contains test cases for your previous cell.\n",
    "# - If this cell runs without any error our output, you PASSED all test cases!\n",
    "# - If this cell results in any errors, check you previous cell, make changes, and RE-RUN your code and then this cell.\n",
    "assert(6.6 < EX < 6.8), \"The expectation value is incorrect\"\n",
    "assert(8.50 < VarX < 8.52), \"The variance is incorrect\"\n",
    "\n",
    "## == SUCCESS MESSAGE ==\n",
    "# You will only see this message (with the emoji showing) if you passed all test cases:\n",
    "tada = \"\\N{PARTY POPPER}\"\n",
    "print(f\"{tada} All tests passed! {tada}\")\n",
    "print()"
   ]
  }
 ],
 "metadata": {
  "kernelspec": {
   "display_name": "Python 3",
   "language": "python",
   "name": "python3"
  },
  "language_info": {
   "codemirror_mode": {
    "name": "ipython",
    "version": 3
   },
   "file_extension": ".py",
   "mimetype": "text/x-python",
   "name": "python",
   "nbconvert_exporter": "python",
   "pygments_lexer": "ipython3",
   "version": "3.6.5"
  }
 },
 "nbformat": 4,
 "nbformat_minor": 2
}
