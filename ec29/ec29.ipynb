{
 "cells": [
  {
   "cell_type": "markdown",
   "metadata": {
    "deletable": false,
    "editable": false,
    "nbgrader": {
     "cell_type": "markdown",
     "checksum": "80f9bf17a74d7544930bd0b5e067606a",
     "grade": false,
     "grade_id": "cell-67e7afc4b4ff4e96",
     "locked": true,
     "schema_version": 3,
     "solution": false,
     "task": false
    }
   },
   "source": [
    "## EC Notebook for Lecture 29:  Scatterplots and Correlation\n",
    "\n",
    "This extra credit Python notebook will let you practice the material you saw in lecture.  Completing all parts of this notebook will earn +1 extra credit point to your grade in STAT 107! :)\n",
    "\n",
    "This notebook is worth +1 if turned in before 11:30 am on **Wednesday, Nov. 06** *(30 minutes before the next STAT 107 lecture)*.  You can feel free to complete it anytime for extra practice."
   ]
  },
  {
   "cell_type": "markdown",
   "metadata": {
    "deletable": false,
    "editable": false,
    "nbgrader": {
     "cell_type": "markdown",
     "checksum": "e3bba08dfbb9a88ff43c044dab6778f8",
     "grade": false,
     "grade_id": "cell-959f443304692271",
     "locked": true,
     "schema_version": 3,
     "solution": false,
     "task": false
    }
   },
   "source": [
    "### Importing pandas and reading data\n",
    "For this extra credit notebook, we will use the Diamonds dataset to do some exercise. At first, you need to import the library pandas and reading the dataset.\n",
    "\n",
    "###  1. Scatter Plots\n",
    "After loading the data, create scatter plots with the columns `carat` and `price`."
   ]
  },
  {
   "cell_type": "code",
   "execution_count": null,
   "metadata": {
    "deletable": false,
    "nbgrader": {
     "cell_type": "code",
     "checksum": "0f46a8e15e3ff32e395c634f503011f9",
     "grade": false,
     "grade_id": "cell-3182d2cfb9079fe2",
     "locked": false,
     "schema_version": 3,
     "solution": true,
     "task": false
    }
   },
   "outputs": [],
   "source": [
    "#import pandas\n",
    "df = ...\n",
    "\n",
    "\n",
    "df.sample(5)"
   ]
  },
  {
   "cell_type": "markdown",
   "metadata": {},
   "source": [
    "### 2. Correlation Coefficient\n",
    "\n",
    "Create a new DataFrame called `cc_table` to display the correlation coefficient for every numeric column in `df`. Find tree variables which have most closest linear association with `price` (i.e. three highest absolute correlation coefficient including itself)."
   ]
  },
  {
   "cell_type": "code",
   "execution_count": null,
   "metadata": {
    "deletable": false,
    "nbgrader": {
     "cell_type": "code",
     "checksum": "8d2948aa2fd1f3529877f9200ae23473",
     "grade": false,
     "grade_id": "cell-060c81a4477630d2",
     "locked": false,
     "schema_version": 3,
     "solution": true,
     "task": false
    }
   },
   "outputs": [],
   "source": [
    "cc_table = ...\n",
    "three_most_linear = ...\n",
    "\n",
    "\n",
    "print(cc_table)\n",
    "print(three_most_linear)"
   ]
  },
  {
   "cell_type": "markdown",
   "metadata": {
    "deletable": false,
    "editable": false,
    "nbgrader": {
     "cell_type": "markdown",
     "checksum": "f6f1a6b91adf9a2c9b3e258b61ae688d",
     "grade": false,
     "grade_id": "cell-47b6be3b89d4c4bd",
     "locked": true,
     "schema_version": 3,
     "solution": false,
     "task": false
    }
   },
   "source": [
    "### 3. Calculate the Correlation Coefficient\n",
    "Now let's calculate the correlation coefficient between `carat` and `price` by ourselves according to the following steps:\n",
    "\n",
    "1. Calculate the mean and sd for `carat` and `price` accordingly.\n",
    "2. Add three new columns, the z-value of carat `z_carat`, the z-value of price `z_price` and the product of them `z_product`.\n",
    "3. Calculate the correlation coefficient `r`.\n"
   ]
  },
  {
   "cell_type": "code",
   "execution_count": null,
   "metadata": {
    "deletable": false,
    "nbgrader": {
     "cell_type": "code",
     "checksum": "9f2718684ae4125a7f3031701ad0d911",
     "grade": false,
     "grade_id": "cell-8b0f0ef67575550d",
     "locked": false,
     "schema_version": 3,
     "solution": true,
     "task": false
    }
   },
   "outputs": [],
   "source": [
    "mean_carat = ...\n",
    "sd_carat = ...\n",
    "mean_price = ...\n",
    "sd_price = ...\n",
    "df['z_carat'] = ...\n",
    "df['z_price'] = ... \n",
    "df['z_product'] = ...\n",
    "r = ...\n",
    "\n",
    "\n",
    "print(r)\n",
    "df.sample(5)"
   ]
  },
  {
   "cell_type": "code",
   "execution_count": null,
   "metadata": {
    "deletable": false,
    "editable": false,
    "nbgrader": {
     "cell_type": "code",
     "checksum": "abf73d453587475230b80eb418bfcbc5",
     "grade": true,
     "grade_id": "cell-621e2757b30ebf38",
     "locked": true,
     "points": 1,
     "schema_version": 3,
     "solution": false,
     "task": false
    }
   },
   "outputs": [],
   "source": [
    "## == TEST CASES for Part 1,2,3 ==\n",
    "# - This read-only cell contains test cases for your previous cell.\n",
    "# - If this cell runs without any error our output, you PASSED all test cases!\n",
    "# - If this cell results in any errors, check you previous cell, make changes, and RE-RUN your code and then this cell.\n",
    "\n",
    "assert(len(cc_table) == 7), \"Make sure you create the correct table.\"\n",
    "assert(len(three_most_linear) == 3), \"Make sure you select the top 3 linear variable with price.\"\n",
    "assert(abs(three_most_linear['price']-1.0) < 0.001 and abs(three_most_linear['carat']-0.921591) < 0.001 and abs(three_most_linear['x']-0.884435) < 0.001), \"Make sure you select the top 3 linear variable with price.\"\n",
    "assert(abs(mean_carat-0.7979)<0.001 and abs(sd_carat-0.47401) < 0.001 and abs(mean_price-3932.79972) < 0.001 and abs(sd_price-3989.439738) < 0.001), \"Make sure you calculate the mean and sd correct.\"\n",
    "assert(abs(df['z_carat']*sd_carat+mean_carat-df['carat']).sum() < 0.001 and abs(df['z_price']*sd_price+mean_price-df['price']).sum()< 0.001), \"Make sure you calculate the z values correct.\"\n",
    "assert(abs(r-cc_table['price']['carat']) < 0.001), \"Make sure you calculate the correct r value.\"\n",
    "## == SUCCESS MESSAGE ==\n",
    "# You will only see this message (with the emoji showing) if you passed all test cases:\n",
    "tada = \"\\N{PARTY POPPER}\"\n",
    "print(f\"{tada} All tests passed! {tada}\")\n",
    "print()\n"
   ]
  },
  {
   "cell_type": "code",
   "execution_count": null,
   "metadata": {},
   "outputs": [],
   "source": []
  },
  {
   "cell_type": "code",
   "execution_count": null,
   "metadata": {},
   "outputs": [],
   "source": []
  }
 ],
 "metadata": {
  "kernelspec": {
   "display_name": "Python 3",
   "language": "python",
   "name": "python3"
  },
  "language_info": {
   "codemirror_mode": {
    "name": "ipython",
    "version": 3
   },
   "file_extension": ".py",
   "mimetype": "text/x-python",
   "name": "python",
   "nbconvert_exporter": "python",
   "pygments_lexer": "ipython3",
   "version": "3.7.3"
  }
 },
 "nbformat": 4,
 "nbformat_minor": 2
}
