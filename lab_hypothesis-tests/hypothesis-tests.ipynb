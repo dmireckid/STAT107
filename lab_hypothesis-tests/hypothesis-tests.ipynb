{
 "cells": [
  {
   "cell_type": "markdown",
   "metadata": {},
   "source": [
    "# Lab: Hypothesis Testing\n",
    "\n",
    "\n",
    "## More Sleep Always! \n",
    "\n",
    "SLEEP! It's a beautiful thing that most of us don't get enough of!  There has been a lot of research done looking the amount of sleep different people get on average.  The following is an example of one of them. \n",
    "\n",
    "In 2013, [Gallup completed their latest survey on sleep](https://news.gallup.com/poll/166553/less-recommended-amount-sleep.aspx) that shows that the average amount of sleep Americans get is 6.8 hours ($\\mu = 6.8$). This seems a bit low, right? How do you think our class average in Data Science DISCOVERY compares to this? It might be less than 6.8 or it may be more than that. Let's find out if the ideal hours of sleep STAT 107 students would get is significantly different from the average amount of sleep that all Americans get reported by Gallup. For the sake of this lab, assume our survey data is a random sample from the population (Americans).\n",
    "\n",
    "Run a **hypothesis test** to find out if the data we have is significantly different from the population/Gallup poll. \n",
    "\n",
    "You need to look at the Day 1 Dataset (from the first week of class) which gives you the ideal amount of sleep Stat 107 students get each week. Here's the link (make sure to login with @illinois): https://docs.google.com/spreadsheets/d/1LB4E89GoVi5yezEfHhopbI5BMxodSG7VvoznkaAkMAQ/edit#gid=0\n",
    "\n",
    "As always, start with uploading dataset to your notebook, and import the relevant libraries to your notebook.\n"
   ]
  },
  {
   "cell_type": "code",
   "execution_count": null,
   "metadata": {},
   "outputs": [],
   "source": [
    "# Import the libraries\n",
    "import pandas as pd\n",
    "import random\n",
    "from scipy.stats import norm\n",
    "\n",
    "## Import your data set\n",
    "df = pd.read_csv(\"hello.csv\")\n",
    "df"
   ]
  },
  {
   "cell_type": "markdown",
   "metadata": {
    "deletable": false,
    "editable": false,
    "nbgrader": {
     "cell_type": "markdown",
     "checksum": "ac0b177074733266e81020aef08713e3",
     "grade": false,
     "grade_id": "cell-4d373d1867848202",
     "locked": true,
     "schema_version": 3,
     "solution": false
    }
   },
   "source": [
    "## Puzzle 1: Sleep Among STAT 107 Students\n",
    "\n",
    "### Part 1: Null and Alternative Hypothesis\n",
    "In class, we learned that the first step when doing any hypothesis test is to state the **Null Hypothesis** and **Alternative Hypothesis**. \n",
    "\n",
    "**Null Hypothesis** := The null hypothesis says that any difference between our sample and the population is small and due to chance.\n",
    "\n",
    "**Alternative Hypothesis** := The alternative hypothesis says that the differences we observe are not just due to chance. \n",
    "\n",
    "_Warning!!!_ Remember that when you are stating your hypotheses, they always include the **population parameters** such as $\\mu$ not **sample parameters** $\\bar{X}$. \n",
    "\n",
    "Using the Day 1 dataset and the Gallup poll, state your 2 hypotheses:"
   ]
  },
  {
   "cell_type": "markdown",
   "metadata": {
    "deletable": false,
    "editable": false,
    "nbgrader": {
     "cell_type": "markdown",
     "checksum": "1674a14d9c646e79502f3d467d2fa117",
     "grade": false,
     "grade_id": "cell-0d923f06aa55df69",
     "locked": true,
     "schema_version": 3,
     "solution": false
    }
   },
   "source": [
    "### Null Hypothesis\n",
    "\n",
    "$H_0$ := *EDIT THIS to define the null hypothesis*\n",
    "\n",
    "\n",
    "### Alternative Hypothesis\n",
    "\n",
    "$H_a$ := *EDIT THIS to define the alternative hypothesis*\n"
   ]
  },
  {
   "cell_type": "markdown",
   "metadata": {
    "deletable": false,
    "editable": false,
    "nbgrader": {
     "cell_type": "markdown",
     "checksum": "e53da6261cab38fd08f3f400850072c1",
     "grade": false,
     "grade_id": "cell-843b7544c7e3a850",
     "locked": true,
     "schema_version": 3,
     "solution": false
    }
   },
   "source": [
    "### Part 2: P-Values:\n",
    "In lecture, Karle and Wade discussed what a **p-value** is.  We can use it to decide which hypothesis is supported by our data.\n",
    "\n",
    "Here, it will tell us the probability that we will observe the difference we observed between our sample data and the Gallup data, given that the true average hours of sleep is really 6.8 hours, as reported by Gallup.\n",
    "\n",
    "Calculate the **p-value** in the following cell:"
   ]
  },
  {
   "cell_type": "code",
   "execution_count": null,
   "metadata": {
    "deletable": false,
    "nbgrader": {
     "cell_type": "code",
     "checksum": "2e833db6c07f1c68897c2f9b03bf9864",
     "grade": false,
     "grade_id": "cell-dc78f2d3d7118a28",
     "locked": false,
     "schema_version": 3,
     "solution": true
    }
   },
   "outputs": [],
   "source": [
    "# find first your z value\n",
    "z_test = ...\n",
    "\n",
    "# find your p value\n",
    "p_value = ...\n",
    "\n"
   ]
  },
  {
   "cell_type": "code",
   "execution_count": null,
   "metadata": {
    "deletable": false,
    "editable": false,
    "nbgrader": {
     "cell_type": "code",
     "checksum": "be24ba905a2db4a68829300442a7394b",
     "grade": true,
     "grade_id": "cell-1a8a95387b8f9d9f",
     "locked": true,
     "points": 1,
     "schema_version": 3,
     "solution": false
    }
   },
   "outputs": [],
   "source": [
    "# == TEST CASES for Puzzle 1 ==\n",
    "# - This read-only cell contains test cases for your previous cell(s).\n",
    "# - If this cell runs without any errors in the output, you PASSED all test cases!\n",
    "# - If this cell results errors, check you previous cell, make changes, and RE-RUN your code and then this cell.\n",
    "assert((z_test- 3.590265738)< 0.08), \"You z statistics does not seem correct. Make sure you pick the same formula\"\n",
    "assert((p_value - 0.000001 < 0.0013) & (0.0002 < (p_value - 0.000001))), \"You p-value statistics does not seem correct.\"\n",
    "\n",
    "\n",
    "\n",
    "## == SUCCESS MESSAGE ==\n",
    "# You will only see this message (with the emoji showing) if you passed all test cases:\n",
    "tada = \"\\N{PARTY POPPER}\"\n",
    "print(f\"{tada} All tests passed! {tada}\")\n",
    "print()"
   ]
  },
  {
   "cell_type": "markdown",
   "metadata": {
    "deletable": false,
    "editable": false,
    "nbgrader": {
     "cell_type": "markdown",
     "checksum": "43b4ac1750d42ebe7f5fa5c3c802ec6b",
     "grade": false,
     "grade_id": "cell-2ad0424311f9b554",
     "locked": true,
     "schema_version": 3,
     "solution": false
    }
   },
   "source": [
    "### Part 3: Connect the p value result with your original hypotheses :\n",
    "\n",
    "We know what the **p-value** is now! But as a data scientist, it's important to explain your results in a way that anyone (even someone who has no background in statistics) can understand. If we just said \"Here is the p-value\", they may be confused. We need to be more specific about our conclusion. \n",
    "\n",
    "In the following cell, delete the statements that you do not believe are true and keep the one you is correct.\n"
   ]
  },
  {
   "cell_type": "code",
   "execution_count": null,
   "metadata": {
    "deletable": false,
    "nbgrader": {
     "cell_type": "code",
     "checksum": "f7a0539990dd5596879342a3a62c7130",
     "grade": false,
     "grade_id": "cell-0f84432fe81139e8",
     "locked": false,
     "schema_version": 3,
     "solution": true
    }
   },
   "outputs": [],
   "source": [
    "# Remove the of the following lines to leave only the correct answer:\n",
    "conclusion = \"There is not enough evidence to reject the null hypothesis. Thus, DO NOT reject the Null\"\n",
    "conclusion = \"We cannot infer anything!\"\n",
    "conclusion = \"There is enough evidence to reject the null hypothesis. Thus, DO reject the Null\"\n",
    "\n"
   ]
  },
  {
   "cell_type": "code",
   "execution_count": null,
   "metadata": {
    "deletable": false,
    "editable": false,
    "nbgrader": {
     "cell_type": "code",
     "checksum": "d0513dda8be9c7123d90618cd7d69860",
     "grade": true,
     "grade_id": "cell-119c28992fed3d21",
     "locked": true,
     "points": 1,
     "schema_version": 3,
     "solution": false
    }
   },
   "outputs": [],
   "source": [
    "## == TEST CASES for Puzzle 1 ==\n",
    "# - This read-only cell contains test cases for your previous cell(s).\n",
    "# - If this cell runs without any errors in the output, you PASSED all test cases!\n",
    "# - If this cell results errors, check you previous cell, make changes, and RE-RUN your code and then this cell.\n",
    "assert(len(conclusion) == 80), \"Your conclusion does not seem correct. Think about more!\"\n",
    "\n",
    "## == SUCCESS MESSAGE ==\n",
    "# You will only see this message (with the emoji showing) if you passed all test cases:\n",
    "tada = \"\\N{PARTY POPPER}\"\n",
    "print(f\"{tada} All tests passed! {tada}\")"
   ]
  },
  {
   "cell_type": "markdown",
   "metadata": {},
   "source": [
    "## Puzzle 2: Who loves sleep more?\n",
    "\n",
    "We are curious if there is a significant difference in ideal hours of sleep between introverts and ambiverts in college. We are specifically interested in whether introverts sleep **less than** ambiverts.\n",
    "\n",
    "We can investiage this using our Day 1 Dataset as well!  Here, assume that the Day 1 Dataset is a random sample taken from all college students.\n",
    "\n",
    "Do a hypothesis test to satisfy our curiosity! As awlays, first you need to state your hypotheses."
   ]
  },
  {
   "cell_type": "markdown",
   "metadata": {},
   "source": [
    "### Part 1: Null and Alternative Hypothesis\n",
    "\n",
    "### Null Hypothesis\n",
    "\n",
    "$H_0$ := *EDIT THIS to define the null hypothesis*\n",
    "\n",
    "### Alternative Hypothesis\n",
    "\n",
    "$H_a$ := *EDIT THIS to define the alternative hypothesis*"
   ]
  },
  {
   "cell_type": "markdown",
   "metadata": {},
   "source": [
    "### Part 2: P-value:\n",
    "\n",
    "Calculate your test statistic and find the p-value. Remember, we are comparing two samples now- think about how this is different from Puzzle 1 and what type of z-test to do!\n",
    "\n",
    "Find the **p-value** in the following cell: "
   ]
  },
  {
   "cell_type": "code",
   "execution_count": null,
   "metadata": {
    "deletable": false,
    "nbgrader": {
     "cell_type": "code",
     "checksum": "62ecb5e43abe90933f4f58bec0635f74",
     "grade": false,
     "grade_id": "cell-d45b5ab2db34da59",
     "locked": false,
     "schema_version": 3,
     "solution": true
    }
   },
   "outputs": [],
   "source": [
    "## Make sure your mean_Introvert; sd_Ambivert; pooled_sd; p_value names as below for the test cases\n",
    "mean_Introvert = ...   \n",
    "sd_Ambivert = ...\n",
    "se_difference = ...\n",
    "p_value = ...\n",
    "\n"
   ]
  },
  {
   "cell_type": "code",
   "execution_count": null,
   "metadata": {
    "deletable": false,
    "editable": false,
    "nbgrader": {
     "cell_type": "code",
     "checksum": "ddd676c3d40021d298df2bae22200923",
     "grade": true,
     "grade_id": "cell-7bd5b9e9b0bf72b8",
     "locked": true,
     "points": 1,
     "schema_version": 3,
     "solution": false
    }
   },
   "outputs": [],
   "source": [
    "## == TEST CASES for Puzzle 1 ==\n",
    "# - This read-only cell contains test cases for your previous cell(s).\n",
    "# - If this cell runs without any errors in the output, you PASSED all test cases!\n",
    "# - If this cell results errors, check you previous cell, make changes, and RE-RUN your code and then this cell.\n",
    "assert(mean_Introvert - 0.00001 < 6.9 ), \"Your mean of Introvert does not look like correct. Make sure you correctly subset your data\"\n",
    "assert(sd_Ambivert- 0.00001 <0.90 ), \"Your standard error of Ambivert does not look like correct. Make sure you correctly subset your data\"\n",
    "assert(se_difference - 0.0001 < 0.2 ), \"Your standard error for the difference does not look like correct.\"\n",
    "assert(p_value - 0.0001 < 0.03 ), \"Your p-value does not look like correct. Make sure you are doing one sided test.\"\n",
    "\n",
    "\n",
    "## == SUCCESS MESSAGE ==\n",
    "# You will only see this message (with the emoji showing) if you passed all test cases:\n",
    "tada = \"\\N{PARTY POPPER}\"\n",
    "print(f\"{tada} All tests passed! {tada}\")"
   ]
  },
  {
   "cell_type": "markdown",
   "metadata": {},
   "source": [
    "### Part 3: Make a conclusion based on your p-value.\n",
    "\n",
    "We know what the **p-value** is now. So in the following cell delete the statements that you do not believe are true and keep the one you think is true.  Use 1% as your cutoff instead of 5%."
   ]
  },
  {
   "cell_type": "code",
   "execution_count": null,
   "metadata": {
    "deletable": false,
    "nbgrader": {
     "cell_type": "code",
     "checksum": "c066f60f8b6c4e8fcd4ae0e9d3a41a34",
     "grade": false,
     "grade_id": "cell-5f2236ee09b8ae71",
     "locked": false,
     "schema_version": 3,
     "solution": true
    }
   },
   "outputs": [],
   "source": [
    "# Comennt the of the following lines to leave only the correct answer:\n",
    "conclusion = \"There is enough evidence to reject the null hypothesis. Thus, DO reject the Null\"\n",
    "conclusion = \"We cannot infer anything!\"\n",
    "conclusion = \"There is not enough evidence to reject the null hypothesis. Thus, DO NOT reject the Null\"\n",
    "\n"
   ]
  },
  {
   "cell_type": "code",
   "execution_count": null,
   "metadata": {
    "deletable": false,
    "editable": false,
    "nbgrader": {
     "cell_type": "code",
     "checksum": "dc1646bbb7c2144ba0d9aa6ee35f6b12",
     "grade": true,
     "grade_id": "cell-5ba76e5cb1428aa4",
     "locked": true,
     "points": 1,
     "schema_version": 3,
     "solution": false
    }
   },
   "outputs": [],
   "source": [
    "## == TEST CASES for Puzzle 1 ==\n",
    "# - This read-only cell contains test cases for your previous cell(s).\n",
    "# - If this cell runs without any errors in the output, you PASSED all test cases!\n",
    "# - If this cell results errors, check you previous cell, make changes, and RE-RUN your code and then this cell.\n",
    "assert(len(conclusion) == 88), \"Your conclusion does not seem correct. Think about more!\"\n",
    "\n",
    "## == SUCCESS MESSAGE ==\n",
    "# You will only see this message (with the emoji showing) if you passed all test cases:\n",
    "tada = \"\\N{PARTY POPPER}\"\n",
    "print(f\"{tada} All tests passed! {tada}\")\n",
    "print()\n"
   ]
  },
  {
   "cell_type": "markdown",
   "metadata": {},
   "source": [
    "## Puzzle 3: Halloween!\n",
    "\n",
    "![pumpkins.jpeg](pumpkins.jpeg)\n",
    "\n",
    "Karle heard that 20% of college students dress up in the same costume for two consecutive Halloweens. However Karle thinks that this percent is higher for UIUC students!  She thinks it is **40%** and wants to test this hypothesis. She decides to take 1000 differents samples of 60 students this Hallowen.\n",
    "\n",
    "We can simulate this in Python. \n",
    "\n",
    "Can you help her simulate this and test her idea by finding an approximate p-value. As always, start with the null and alternative hypotheses!\n",
    "\n",
    "Here are the steps that can help you: \n",
    "\n",
    "1. Consider a very large sample that can simulate an example population -- use `random.randint(...)`.\n",
    "\n",
    "2. Randomly sample 60 students 1000 times. For each of these 1000 samples, find the percentage that plan to wear the same costume from last halloween. \n",
    "\n",
    "3. You have 1000 different samples and sample percentages for all of them. Now think about how you can the p-value.  Hint: The p-value is the probability of getting 40% or more people wearing the same costume given the true percentage is 20%.\n"
   ]
  },
  {
   "cell_type": "code",
   "execution_count": null,
   "metadata": {
    "deletable": false,
    "nbgrader": {
     "cell_type": "code",
     "checksum": "9dfadf1a5dcfc9de5df0a195c3398706",
     "grade": false,
     "grade_id": "cell-d3610d77d94bdcbf",
     "locked": false,
     "schema_version": 3,
     "solution": true
    }
   },
   "outputs": [],
   "source": [
    "## Create the DataFrame of 100 samples:\n",
    "df = ...\n",
    "\n",
    "\n",
    "## make sure your answer is the p-value\n",
    "p_value = ...\n",
    "\n",
    "\n"
   ]
  },
  {
   "cell_type": "code",
   "execution_count": null,
   "metadata": {
    "deletable": false,
    "editable": false,
    "nbgrader": {
     "cell_type": "code",
     "checksum": "6075ec24594e827a206d811c0cc94bb2",
     "grade": true,
     "grade_id": "cell-c97db47b822b8ecc",
     "locked": true,
     "points": 1,
     "schema_version": 3,
     "solution": false
    }
   },
   "outputs": [],
   "source": [
    "## == TEST CASES for Puzzle 1 ==\n",
    "# - This read-only cell contains test cases for your previous cell(s).\n",
    "# - If this cell runs without any errors in the output, you PASSED all test cases!\n",
    "# - If this cell results errors, check you previous cell, make changes, and RE-RUN your code and then this cell.\n",
    "assert(len(df) >= 1000), \"You must heave at least 1000 samples\"\n",
    "assert(p_value <= 0.02), \"Your p value does not seem correct!\"\n",
    "\n",
    "\n",
    "## == SUCCESS MESSAGE ==\n",
    "# You will only see this message (with the emoji showing) if you passed all test cases:\n",
    "tada = \"\\N{PARTY POPPER}\"\n",
    "print(f\"{tada} All tests passed! {tada}\")\n",
    "print()"
   ]
  },
  {
   "cell_type": "markdown",
   "metadata": {},
   "source": [
    "## Puzzle 4: GPA Visualization\n",
    "\n",
    "Using Wade's [Grade disparity between sections at UIUC](http://waf.cs.illinois.edu/discovery/grade_disparity_between_sections_at_uiuc/) visualization, find the average grade Wade gave to CS 225 students.\n",
    "\n",
    "You suspect Wade might not be completely honest with his grades, so you randomly survey 107 students who have taken CS 225.  The final grades the students gave you is out of 1000 points.  You have recorded the 107 student grades in `cs225-final-grades.csv`.  (*These are really 107 randomly chosen grades from CS 225 from Fall 2018.*)\n",
    "\n",
    "You find that the translation between points and grades is as follows:\n",
    "\n",
    "| Points | Grade | GPA |\n",
    "| ------ | ----- | --- |\n",
    "| 1070 - 1100 | A+ | 4.0 |\n",
    "|  930 - 1070 | A  | 4.0 |\n",
    "|  900 - 930 | A-  | 3.67 |\n",
    "|  870 - 900 | B+  | 3.33 |\n",
    "|  830 - 870 | B   | 3.0 |\n",
    "|  800 - 830 | B-  | 2.67 |\n",
    "|  770 - 800 | C+  | 2.33 |\n",
    "|  730 - 770 | C   | 2.0 |\n",
    "|  700 - 730 | C-  | 1.67 |\n",
    "|  670 - 700 | D+  | 1.33 |\n",
    "|  630 - 670 | D   | 1.0 |\n",
    "|  600 - 630 | D-  | 0.67 |\n",
    "|    0 - 600 | F  | 0 |\n",
    "\n",
    "**Hint**: You will need to process `cs225-final-grades.csv` and understand and gather data from the GPA visualization before you will be able to run the test.  Use `pandas` to help you process this data! :)"
   ]
  },
  {
   "cell_type": "code",
   "execution_count": null,
   "metadata": {
    "deletable": false,
    "nbgrader": {
     "cell_type": "code",
     "checksum": "36fbdefc0f0f60aacbf1e5573b44834e",
     "grade": false,
     "grade_id": "cell-053f4c444b109148",
     "locked": false,
     "schema_version": 3,
     "solution": true
    }
   },
   "outputs": [],
   "source": [
    "## First read the data cs225-final-grades.csv\n",
    "sample_cs225 = pd.read_csv(\"cs225-final-grades.csv\")\n",
    "\n",
    "## Procecess sample_cs225 to convert to GPA format. Make sure conv_sample_cs225 is a DataFrame\n",
    "converted_grades = ...\n",
    "\n",
    "\n"
   ]
  },
  {
   "cell_type": "code",
   "execution_count": null,
   "metadata": {
    "deletable": false,
    "editable": false,
    "nbgrader": {
     "cell_type": "code",
     "checksum": "8d0f64ff884d604ec7ae177fac700793",
     "grade": true,
     "grade_id": "cell-0544cc08b9b64325",
     "locked": true,
     "points": 1,
     "schema_version": 3,
     "solution": false
    }
   },
   "outputs": [],
   "source": [
    "## == TEST CASES for Puzzle 1 ==\n",
    "# - This read-only cell contains test cases for your previous cell(s).\n",
    "# - If this cell runs without any errors in the output, you PASSED all test cases!\n",
    "# - If this cell results errors, check you previous cell, make changes, and RE-RUN your code and then this cell.\n",
    "assert(len(converted_grades[converted_grades[\"GPA\"] == 3.67]) == 7), \"Your convertion from the total points to GPA does not seem correct.\"\n",
    "assert(len(converted_grades[converted_grades[\"GPA\"] == 0]) == 7), \"Your convertion from the total points to GPA does not seem correct.\"\n",
    "\n",
    "## == SUCCESS MESSAGE ==\n",
    "# You will only see this message (with the emoji showing) if you passed all test cases:\n",
    "tada = \"\\N{PARTY POPPER}\"\n",
    "print(f\"{tada} All tests passed! {tada}\")\n",
    "print()"
   ]
  },
  {
   "cell_type": "markdown",
   "metadata": {},
   "source": [
    "### Part 1: Hypotheses\n",
    "\n",
    "Just like before, start with stating your Null and Alternative Hypotheses!\n",
    "\n",
    "### Null Hypothesis\n",
    "\n",
    "$H_0$ := *EDIT THIS to define the null hypothesis*\n",
    "\n",
    "### Alternative Hypothesis\n",
    "\n",
    "$H_a$ := *EDIT THIS to define the alternative hypothesis*"
   ]
  },
  {
   "cell_type": "markdown",
   "metadata": {},
   "source": [
    "### Part 2: P-value\n",
    "Calculate the test statistic and find the p-value in the following cell:"
   ]
  },
  {
   "cell_type": "code",
   "execution_count": null,
   "metadata": {
    "deletable": false,
    "nbgrader": {
     "cell_type": "code",
     "checksum": "02b112731a569cedfd964d181611d4f4",
     "grade": false,
     "grade_id": "cell-26dab0ff60b63979",
     "locked": false,
     "schema_version": 3,
     "solution": true
    }
   },
   "outputs": [],
   "source": [
    "# find first your z value\n",
    "z_test = ...\n",
    "\n",
    "# find your p value\n",
    "p_value = ...\n",
    "\n"
   ]
  },
  {
   "cell_type": "code",
   "execution_count": null,
   "metadata": {
    "deletable": false,
    "editable": false,
    "nbgrader": {
     "cell_type": "code",
     "checksum": "9a536acf993901083ee3f2acaedfe649",
     "grade": true,
     "grade_id": "cell-08a0447915dbc44c",
     "locked": true,
     "points": 1,
     "schema_version": 3,
     "solution": false
    }
   },
   "outputs": [],
   "source": [
    "# == TEST CASES for Puzzle 4 ==\n",
    "# - This read-only cell contains test cases for your previous cell(s).\n",
    "# - If this cell runs without any errors in the output, you PASSED all test cases!\n",
    "# - If this cell results errors, check you previous cell, make changes, and RE-RUN your code and then this cell.\n",
    "assert(round(z_test, 2) == 1.50), \"You z statistics does not seem correct. Make sure you pick the same formula\"\n",
    "assert(round(p_value, 2) == 0.13), \"You p-value statistics does not seem correct.\"\n",
    "\n",
    "\n",
    "\n",
    "## == SUCCESS MESSAGE ==\n",
    "# You will only see this message (with the emoji showing) if you passed all test cases:\n",
    "tada = \"\\N{PARTY POPPER}\"\n",
    "print(f\"{tada} All tests passed! {tada}\")\n",
    "print()"
   ]
  },
  {
   "cell_type": "markdown",
   "metadata": {},
   "source": [
    "## Submit Your Work!\n",
    "\n",
    "You're almost done -- congratulations!\n",
    "\n",
    "You need to do a few more things:\n",
    "\n",
    "1. Save your work.  To do this, create a **notebook checkpoint** by using the menu within the notebook to go **File -> Save and Checkpoint**\n",
    "\n",
    "2. Choose `File` and then `Close and Halt` from this notebook.\n",
    "\n",
    "3. Choose `Quit` on the main notebook webpage.\n",
    "\n",
    "4. Return to your command line and follow the directions on the Data Science Discovery page on how to use git to turn this notebook into the course!"
   ]
  }
 ],
 "metadata": {
  "kernelspec": {
   "display_name": "Python 3",
   "language": "python",
   "name": "python3"
  },
  "language_info": {
   "codemirror_mode": {
    "name": "ipython",
    "version": 3
   },
   "file_extension": ".py",
   "mimetype": "text/x-python",
   "name": "python",
   "nbconvert_exporter": "python",
   "pygments_lexer": "ipython3",
   "version": "3.6.4"
  }
 },
 "nbformat": 4,
 "nbformat_minor": 2
}
